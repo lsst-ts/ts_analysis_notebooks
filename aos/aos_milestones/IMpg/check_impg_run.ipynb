{
 "cells": [
  {
   "cell_type": "markdown",
   "id": "9087839b",
   "metadata": {},
   "source": [
    "# Integration Milestone pg: AOS using ComCam, commanding MT \n",
    "\n",
    "This notebook is designed to query the EFD and make diagnostics plots of the wavefront estimation pipeline (WEP) and subsequent optical feedback control (OFC).\n"
   ]
  },
  {
   "cell_type": "markdown",
   "id": "10d8ba22",
   "metadata": {},
   "source": [
    "## Parameterized notebook\n",
    "\n",
    "This is a parameterized notebook, meaning it can run for a number of different datasets.\n",
    "The inputs for the notebook are the start and end times for when the WEP and OFC run was executed.\n",
    "It is only designed to display diagnostics when a simple run is made (see `drive_mtaos.ipynb`) and it does not handle any special corner case. \n",
    "\n",
    "As a parameterized notebook, this notebook can be run with papermill.\n",
    "To run it with the default configuration, do:\n",
    "\n",
    "```\n",
    "papermill check_impg_run.ipynb check_impg_run_output.ipynb\n",
    "```\n",
    "\n",
    "The first argument passed to `papermill` is the name of the notebook to run, the second is the name out the output notebook.\n",
    "Basically, `papermill` will copy the original notebook to the output notebook and execute that one.\n",
    "So, when it is done, you can inspect the output notebook to check the results.\n",
    "\n",
    "to run it while specifying the start and end times do:\n",
    "\n",
    "```\n",
    "papermill -p time_str_start \"2021-08-12T19:54:00\" -p time_str_end \"2021-08-12T19:56:00\" check_impg_run.ipynb check_impg_run_output.ipynb\n",
    "```\n",
    "\n",
    "Check the "
   ]
  },
  {
   "cell_type": "code",
   "execution_count": null,
   "id": "12484fba",
   "metadata": {},
   "outputs": [],
   "source": [
    "import os \n",
    "import sys\n",
    "import logging\n",
    "\n",
    "import numpy as np\n",
    "import pandas as pd\n",
    "\n",
    "from astropy.time import Time\n",
    "from astropy import units as u\n",
    "from datetime import timedelta, datetime\n",
    "\n",
    "import lsst_efd_client\n",
    "\n",
    "import matplotlib.pyplot as plt\n",
    "from matplotlib.colors import LogNorm\n",
    "\n",
    "from pandas.plotting import register_matplotlib_converters"
   ]
  },
  {
   "cell_type": "code",
   "execution_count": null,
   "id": "858a9772",
   "metadata": {},
   "outputs": [],
   "source": [
    "%matplotlib inline"
   ]
  },
  {
   "cell_type": "markdown",
   "id": "3d67a27e",
   "metadata": {},
   "source": [
    "## Parameters\n",
    "\n",
    "The following cell is annotated to contain the parameters of the notebook.\n",
    "Basically, any attribute defined in the cell below will be considered a parameter and can be customized when executing the notebook with papermill.\n",
    "\n",
    "The values below are the defaults used when none is provided with papermill."
   ]
  },
  {
   "cell_type": "code",
   "execution_count": null,
   "id": "188b541b",
   "metadata": {
    "tags": [
     "parameters"
    ]
   },
   "outputs": [],
   "source": [
    "time_str_start = f\"2021-08-12T19:54:00\"\n",
    "time_str_end = f\"2021-08-12T19:56:00\""
   ]
  },
  {
   "cell_type": "markdown",
   "id": "194944e0",
   "metadata": {},
   "source": [
    "## Initialization\n",
    "\n",
    "We start by setting up a logger for the notebook and configuring the EFD Client."
   ]
  },
  {
   "cell_type": "code",
   "execution_count": null,
   "id": "9a63f061",
   "metadata": {},
   "outputs": [],
   "source": [
    "stream_handler = logging.StreamHandler(sys.stdout)\n",
    "log = logging.getLogger(\"check_impg_run\")\n",
    "\n",
    "log.addHandler(stream_handler)\n",
    "log.level = logging.DEBUG"
   ]
  },
  {
   "cell_type": "code",
   "execution_count": null,
   "id": "afdfb7a0",
   "metadata": {},
   "outputs": [],
   "source": [
    "lsst_efd_client.EfdClient.list_efd_names()"
   ]
  },
  {
   "cell_type": "code",
   "execution_count": null,
   "id": "cc8927b8",
   "metadata": {},
   "outputs": [],
   "source": [
    "efd_name = \"ncsa_teststand_efd\""
   ]
  },
  {
   "cell_type": "code",
   "execution_count": null,
   "id": "ca17e407",
   "metadata": {},
   "outputs": [],
   "source": [
    "client = lsst_efd_client.EfdClient(efd_name)"
   ]
  },
  {
   "cell_type": "code",
   "execution_count": null,
   "id": "cc681ab5",
   "metadata": {},
   "outputs": [],
   "source": [
    "start = Time(time_str_start)\n",
    "end = Time(time_str_end)"
   ]
  },
  {
   "cell_type": "code",
   "execution_count": null,
   "id": "6f494c3a",
   "metadata": {},
   "outputs": [],
   "source": [
    "log.debug(f\"{start}, {end}\")"
   ]
  },
  {
   "cell_type": "markdown",
   "id": "7be7c3af",
   "metadata": {},
   "source": [
    "## Displaying results\n"
   ]
  },
  {
   "cell_type": "markdown",
   "id": "8f8e1385",
   "metadata": {},
   "source": [
    "### Display wavefront errors\n",
    "\n",
    "This is the result of processing the intra/extra pair with the wavefront estimation pipeline.\n",
    "\n",
    "This is published as an array of 19 elements named `annularZernikeCoeff`.\n",
    "The kafka producers unpack arrays into individual attributes so we need to create an array of attribute names.\n",
    "We also grab the `sensorId` which specify the id of the CCD where the sources were. "
   ]
  },
  {
   "cell_type": "code",
   "execution_count": null,
   "id": "895ecb2b",
   "metadata": {},
   "outputs": [],
   "source": [
    "wavefront_errors = await client.select_time_series(\n",
    "    'lsst.sal.MTAOS.logevent_wavefrontError', \n",
    "    [\"sensorId\"] + [f\"annularZernikeCoeff{i}\" for i in range(19)], \n",
    "    start.tai, \n",
    "    end.tai\n",
    ")    "
   ]
  },
  {
   "cell_type": "markdown",
   "id": "ca1cb43c",
   "metadata": {},
   "source": [
    "The next cell will show the result of the query in tabular format."
   ]
  },
  {
   "cell_type": "code",
   "execution_count": null,
   "id": "505f3077",
   "metadata": {},
   "outputs": [],
   "source": [
    "wavefront_errors"
   ]
  },
  {
   "cell_type": "markdown",
   "id": "f5f7691d",
   "metadata": {},
   "source": [
    "The data queried from the EFD is basically time vs. sensorId, vector with wavefront errors (for zernike coefficients from 4 to 23).\n",
    "\n",
    "We want to plot it as zernike index vs wavefront errors.\n",
    "To do that we will create an array with wavefront errors for each entry/sensor."
   ]
  },
  {
   "cell_type": "code",
   "execution_count": null,
   "id": "a1b49098",
   "metadata": {},
   "outputs": [],
   "source": [
    "wavefront_errors_per_sensor = np.array([np.array(wavefront_errors[f\"annularZernikeCoeff{i}\"].array) for i in range(19)]).T"
   ]
  },
  {
   "cell_type": "markdown",
   "id": "0b7f9aa9",
   "metadata": {},
   "source": [
    "And now we can make the plot."
   ]
  },
  {
   "cell_type": "code",
   "execution_count": null,
   "id": "de2fa9ac",
   "metadata": {},
   "outputs": [],
   "source": [
    "for wfe_data in wavefront_errors_per_sensor:\n",
    "    plt.step(np.arange(4, 23), wfe_data, where=\"mid\")\n",
    "plt.xticks(np.arange(4, 23))\n",
    "plt.grid()"
   ]
  },
  {
   "cell_type": "markdown",
   "id": "5c36df30",
   "metadata": {},
   "source": [
    "### Display degrees of freedom\n",
    "\n",
    "The degrees of freedom are the first step performed by the OFC in converting the wavefront errors into corrections. \n",
    "\n",
    "It is composed of two parts, the \"aggregated\" and the \"visit\" degrees of freedom.\n",
    "The \"aggregated\" is the combination of all corrections computed so far whereas the \"visit\" contains only the degrees of freedom from the last correction.\n",
    "\n",
    "These values are published as vectors of 50 elements each in the \"degreeOfFreedom\" event.\n",
    "As with the `annularZernikeCoeff` case above we need to query them individually and then build the vectors afterwards."
   ]
  },
  {
   "cell_type": "code",
   "execution_count": null,
   "id": "d3101e00",
   "metadata": {},
   "outputs": [],
   "source": [
    "degrees_of_freedom = await client.select_time_series(\n",
    "    'lsst.sal.MTAOS.logevent_degreeOfFreedom', \n",
    "    [f\"aggregatedDoF{i}\" for i in range(50)] + [f\"visitDoF{i}\" for i in range(50)], \n",
    "    start.tai, \n",
    "    end.tai\n",
    ")"
   ]
  },
  {
   "cell_type": "markdown",
   "id": "a7e6abc8",
   "metadata": {},
   "source": [
    "Again we need to unpack the data from the EFD query into vectors that are easier to plot."
   ]
  },
  {
   "cell_type": "code",
   "execution_count": null,
   "id": "a034cbcf",
   "metadata": {},
   "outputs": [],
   "source": [
    "aggregated_dof = np.array([degrees_of_freedom[f\"aggregatedDoF{i}\"] for i in range(50)]).T\n",
    "visit_dof = np.array([degrees_of_freedom[f\"visitDoF{i}\"] for i in range(50)]).T"
   ]
  },
  {
   "cell_type": "markdown",
   "id": "610e7e0b",
   "metadata": {},
   "source": [
    "And we finally plot them."
   ]
  },
  {
   "cell_type": "code",
   "execution_count": null,
   "id": "1cdb29ba",
   "metadata": {},
   "outputs": [],
   "source": [
    "plt.plot(aggregated_dof[0])\n",
    "plt.plot(visit_dof[0])"
   ]
  },
  {
   "cell_type": "markdown",
   "id": "9085b095",
   "metadata": {},
   "source": [
    "### Display Camera Hexapod Correction"
   ]
  },
  {
   "cell_type": "code",
   "execution_count": null,
   "id": "e50a3e90",
   "metadata": {},
   "outputs": [],
   "source": [
    "camera_hexapod_correction_xyz = await client.select_time_series(\n",
    "    'lsst.sal.MTAOS.logevent_cameraHexapodCorrection', \n",
    "    [\"x\", \"y\", \"z\"], \n",
    "    start.tai, \n",
    "    end.tai\n",
    ")\n",
    "\n",
    "camera_hexapod_correction_uv = await client.select_time_series(\n",
    "    'lsst.sal.MTAOS.logevent_cameraHexapodCorrection', \n",
    "    [\"u\", \"v\"], \n",
    "    start.tai, \n",
    "    end.tai\n",
    ")"
   ]
  },
  {
   "cell_type": "code",
   "execution_count": null,
   "id": "a55161e3",
   "metadata": {},
   "outputs": [],
   "source": [
    "camera_hexapod_correction_xyz.T.plot(kind=\"bar\", legend=None)\n",
    "\n",
    "plt.xticks(rotation=0, horizontalalignment=\"center\")\n",
    "plt.ylabel(\"Hexapod Correction (microns)\")\n",
    "plt.xlabel(\"Axis\")"
   ]
  },
  {
   "cell_type": "code",
   "execution_count": null,
   "id": "e11bc2f5",
   "metadata": {},
   "outputs": [],
   "source": [
    "camera_hexapod_correction_uv.T.plot(kind=\"bar\", legend=None)\n",
    "\n",
    "plt.xticks(rotation=0, horizontalalignment=\"center\")\n",
    "plt.ylabel(\"Hexapod Correction (degrees)\")\n",
    "plt.xlabel(\"Axis\")"
   ]
  },
  {
   "cell_type": "markdown",
   "id": "be4d8220",
   "metadata": {},
   "source": [
    "### Display M2 Hexapod Correction"
   ]
  },
  {
   "cell_type": "code",
   "execution_count": null,
   "id": "94ca9dbd",
   "metadata": {},
   "outputs": [],
   "source": [
    "m2_hexapod_correction_xyz = await client.select_time_series(\n",
    "    'lsst.sal.MTAOS.logevent_m2HexapodCorrection', \n",
    "    [\"x\", \"y\", \"z\"], \n",
    "    start.tai, \n",
    "    end.tai\n",
    ")\n",
    "\n",
    "m2_hexapod_correction_uv = await client.select_time_series(\n",
    "    'lsst.sal.MTAOS.logevent_m2HexapodCorrection', \n",
    "    [\"u\", \"v\"], \n",
    "    start.tai, \n",
    "    end.tai\n",
    ")"
   ]
  },
  {
   "cell_type": "code",
   "execution_count": null,
   "id": "ab0f5aea",
   "metadata": {},
   "outputs": [],
   "source": [
    "m2_hexapod_correction_xyz.T.plot(kind=\"bar\", legend=None)\n",
    "\n",
    "plt.xticks(rotation=0, horizontalalignment=\"center\")\n",
    "plt.ylabel(\"Hexapod Correction (microns)\")\n",
    "plt.xlabel(\"Axis\")"
   ]
  },
  {
   "cell_type": "code",
   "execution_count": null,
   "id": "6d69072f",
   "metadata": {},
   "outputs": [],
   "source": [
    "m2_hexapod_correction_uv.T.plot(kind=\"bar\", legend=None)\n",
    "\n",
    "plt.xticks(rotation=0, horizontalalignment=\"center\")\n",
    "plt.ylabel(\"Hexapod Correction (degrees)\")\n",
    "plt.xlabel(\"Axis\")"
   ]
  },
  {
   "cell_type": "markdown",
   "id": "828d1153",
   "metadata": {},
   "source": [
    "### Display M2 Correction"
   ]
  },
  {
   "cell_type": "code",
   "execution_count": null,
   "id": "5b5cd5f8",
   "metadata": {},
   "outputs": [],
   "source": [
    "m2_correction = await client.select_time_series(\n",
    "    'lsst.sal.MTAOS.logevent_m2Correction', \n",
    "    [f\"zForces{i}\" for i in range(72)], \n",
    "    start.tai, \n",
    "    end.tai\n",
    ")"
   ]
  },
  {
   "cell_type": "code",
   "execution_count": null,
   "id": "a1782958",
   "metadata": {},
   "outputs": [],
   "source": [
    "plt.plot(m2_correction.T)"
   ]
  },
  {
   "cell_type": "code",
   "execution_count": null,
   "id": "abc89abd",
   "metadata": {},
   "outputs": [],
   "source": [
    "aa = np.loadtxt('%s/notebooks/M2_FEA/data/M2_1um_72_force.txt'%(os.environ[\"HOME\"]))\n",
    "# to have +x going to right, and +y going up, we need to transpose and reverse x and y\n",
    "m2_xact = -aa[:,2]\n",
    "m2_yact = -aa[:,1]\n"
   ]
  },
  {
   "cell_type": "code",
   "execution_count": null,
   "id": "f223c17e",
   "metadata": {},
   "outputs": [],
   "source": [
    "aa = np.array(m2_correction.T)"
   ]
  },
  {
   "cell_type": "code",
   "execution_count": null,
   "id": "eeac4a1f",
   "metadata": {},
   "outputs": [],
   "source": [
    "fig, ax = plt.subplots(1,1, figsize=(10,6))\n",
    "\n",
    "img = ax.scatter(m2_xact, m2_yact, c=m2_correction.T, s=500)\n",
    "#plt.jet()\n",
    "ax.axis('equal')\n",
    "ax.set_title('applied forces')\n",
    "fig.colorbar(img, ax=ax)    "
   ]
  },
  {
   "cell_type": "markdown",
   "id": "af391407",
   "metadata": {},
   "source": [
    "### Display M1M3 Correction"
   ]
  },
  {
   "cell_type": "code",
   "execution_count": null,
   "id": "1c2bdd5f",
   "metadata": {
    "jupyter": {
     "source_hidden": true
    }
   },
   "outputs": [],
   "source": [
    "FATABLE_XPOSITION = 2\n",
    "FATABLE_YPOSITION = 3\n",
    "\n",
    "FATABLE = np.array([\n",
    "    [0,101,0.776782776,0,-2.158743,'SAA',3,1,'NA',-1,-1,0,-1],\n",
    "    [1,102,1.442567993,0,-2.158743,'DAA',1,17,'+Y',-1,0,1,0],\n",
    "    [2,103,2.10837793,0,-2.158743,'DAA',4,17,'+Y',-1,1,2,1],\n",
    "    [3,104,2.774187988,0,-2.158743,'DAA',2,17,'+Y',-1,2,3,2],\n",
    "    [4,105,3.439998047,0,-2.158743,'DAA',3,17,'+Y',-1,3,4,3],\n",
    "    [5,106,3.968012939,0,-2.158743,'SAA',2,1,'NA',-1,-1,5,-1],\n",
    "    [6,107,0.44386499,-0.57660498,-2.158743,'SAA',1,1,'NA',-1,-1,6,-1],\n",
    "    [7,108,1.109675049,-0.57660498,-2.158743,'DAA',4,18,'+Y',-1,4,7,4],\n",
    "    [8,109,1.775484985,-0.57660498,-2.158743,'DAA',2,18,'+Y',-1,5,8,5],\n",
    "    [9,110,2.441295898,-0.57660498,-2.158743,'DAA',3,18,'+Y',-1,6,9,6],\n",
    "    [10,111,3.107080078,-0.57660498,-2.158743,'DAA',1,18,'+Y',-1,7,10,7],\n",
    "    [11,112,3.772891113,-0.57660498,-2.158743,'DAA',4,19,'-X',0,-1,11,8],\n",
    "    [12,113,0,-1.153209961,-2.158743,'DAA',2,19,'+Y',-1,8,12,9],\n",
    "    [13,114,0.776782776,-1.153209961,-2.158743,'DAA',3,19,'+Y',-1,9,13,10],\n",
    "    [14,115,1.442567993,-1.153209961,-2.158743,'DAA',1,19,'+Y',-1,10,14,11],\n",
    "    [15,116,2.10837793,-1.153209961,-2.158743,'DAA',4,20,'+Y',-1,11,15,12],\n",
    "    [16,117,2.774187988,-1.153209961,-2.158743,'DAA',2,20,'+Y',-1,12,16,13],\n",
    "    [17,118,3.439998047,-1.153209961,-2.158743,'DAA',3,20,'+Y',-1,13,17,14],\n",
    "    [18,119,3.9005,-0.997687012,-2.158743,'SAA',2,2,'NA',-1,-1,18,-1],\n",
    "    [19,120,0.44386499,-1.729819946,-2.158743,'DAA',1,20,'+Y',-1,14,19,15],\n",
    "    [20,121,1.109675049,-1.729819946,-2.158743,'DAA',4,21,'+Y',-1,15,20,16],\n",
    "    [21,122,1.775484985,-1.729819946,-2.158743,'DAA',2,21,'+Y',-1,16,21,17],\n",
    "    [22,123,2.44127002,-1.729819946,-2.158743,'DAA',3,21,'+Y',-1,17,22,18],\n",
    "    [23,124,3.107080078,-1.729819946,-2.158743,'DAA',1,21,'+Y',-1,18,23,19],\n",
    "    [24,125,3.724452881,-1.517949951,-2.158743,'SAA',4,1,'NA',-1,-1,24,-1],\n",
    "    [25,126,0,-2.306419922,-2.158743,'DAA',2,22,'+Y',-1,19,25,20],\n",
    "    [26,127,0.776782776,-2.306419922,-2.158743,'DAA',3,22,'+Y',-1,20,26,21],\n",
    "    [27,128,1.442567993,-2.306419922,-2.158743,'DAA',1,22,'-X',1,-1,27,22],\n",
    "    [28,129,2.10837793,-2.306419922,-2.158743,'DAA',4,22,'+Y',-1,21,28,23],\n",
    "    [29,130,2.774187988,-2.306419922,-2.158743,'DAA',2,23,'+Y',-1,22,29,24],\n",
    "    [30,131,3.387954102,-2.167409912,-2.158743,'SAA',3,2,'NA',-1,-1,30,-1],\n",
    "    [31,132,0.44386499,-2.883030029,-2.158743,'DAA',1,23,'+Y',-1,23,31,25],\n",
    "    [32,133,1.109675049,-2.883030029,-2.158743,'DAA',4,23,'+Y',-1,24,32,26],\n",
    "    [33,134,1.775484985,-2.883030029,-2.158743,'DAA',2,24,'+Y',-1,25,33,27],\n",
    "    [34,135,2.44127002,-2.883030029,-2.158743,'DAA',3,23,'-X',2,-1,34,28],\n",
    "    [35,136,2.939364014,-2.745179932,-2.158743,'SAA',4,2,'NA',-1,-1,35,-1],\n",
    "    [36,137,0.221945206,-3.459629883,-2.158743,'DAA',2,25,'+Y',-1,26,36,29],\n",
    "    [37,138,0.88772998,-3.459629883,-2.158743,'DAA',3,24,'+Y',-1,27,37,30],\n",
    "    [38,139,1.553540039,-3.267429932,-2.158743,'SAA',1,2,'NA',-1,-1,38,-1],\n",
    "    [39,140,2.089733887,-3.436389893,-2.158743,'SAA',4,3,'NA',-1,-1,39,-1],\n",
    "    [40,141,0.365734589,-4.00525,-2.158743,'SAA',1,3,'NA',-1,-1,40,-1],\n",
    "    [41,142,1.085088013,-3.87276001,-2.158743,'SAA',2,3,'NA',-1,-1,41,-1],\n",
    "    [42,143,1.60401001,-3.692780029,-2.158743,'SAA',3,3,'NA',-1,-1,42,-1],\n",
    "    [43,207,-0.44386499,-0.57660498,-2.158743,'SAA',1,4,'NA',-1,-1,43,-1],\n",
    "    [44,208,-1.109680054,-0.57660498,-2.158743,'DAA',4,24,'+Y',-1,28,44,31],\n",
    "    [45,209,-1.77548999,-0.57660498,-2.158743,'DAA',2,26,'+Y',-1,29,45,32],\n",
    "    [46,210,-2.441300049,-0.57660498,-2.158743,'DAA',3,25,'+Y',-1,30,46,33],\n",
    "    [47,211,-3.107080078,-0.57660498,-2.158743,'DAA',1,24,'+Y',-1,31,47,34],\n",
    "    [48,212,-3.772889893,-0.57660498,-2.158743,'DAA',4,25,'+X',3,-1,48,35],\n",
    "    [49,214,-0.77678302,-1.153209961,-2.158743,'DAA',3,26,'+Y',-1,32,49,36],\n",
    "    [50,215,-1.442569946,-1.153209961,-2.158743,'DAA',1,25,'+Y',-1,33,50,37],\n",
    "    [51,216,-2.108379883,-1.153209961,-2.158743,'DAA',4,26,'+Y',-1,34,51,38],\n",
    "    [52,217,-2.774189941,-1.153209961,-2.158743,'DAA',2,27,'+Y',-1,35,52,39],\n",
    "    [53,218,-3.44,-1.153209961,-2.158743,'DAA',3,27,'+Y',-1,36,53,40],\n",
    "    [54,219,-3.9005,-0.997687012,-2.158743,'SAA',2,4,'NA',-1,-1,54,-1],\n",
    "    [55,220,-0.44386499,-1.729819946,-2.158743,'DAA',1,26,'+Y',-1,37,55,41],\n",
    "    [56,221,-1.109680054,-1.729819946,-2.158743,'DAA',4,27,'+Y',-1,38,56,42],\n",
    "    [57,222,-1.77548999,-1.729819946,-2.158743,'DAA',2,28,'+Y',-1,39,57,43],\n",
    "    [58,223,-2.44127002,-1.729819946,-2.158743,'DAA',3,28,'+Y',-1,40,58,44],\n",
    "    [59,224,-3.107080078,-1.729819946,-2.158743,'DAA',1,27,'+Y',-1,41,59,45],\n",
    "    [60,225,-3.724449951,-1.517949951,-2.158743,'SAA',4,4,'NA',-1,-1,60,-1],\n",
    "    [61,227,-0.77678302,-2.306419922,-2.158743,'DAA',3,29,'+Y',-1,42,61,46],\n",
    "    [62,228,-1.442569946,-2.306419922,-2.158743,'DAA',1,28,'+X',4,-1,62,47],\n",
    "    [63,229,-2.108379883,-2.306419922,-2.158743,'DAA',4,28,'+Y',-1,43,63,48],\n",
    "    [64,230,-2.774189941,-2.306419922,-2.158743,'DAA',2,29,'+Y',-1,44,64,49],\n",
    "    [65,231,-3.387949951,-2.167409912,-2.158743,'SAA',3,4,'NA',-1,-1,65,-1],\n",
    "    [66,232,-0.44386499,-2.883030029,-2.158743,'DAA',1,29,'+Y',-1,45,66,50],\n",
    "    [67,233,-1.109680054,-2.883030029,-2.158743,'DAA',4,29,'+Y',-1,46,67,51],\n",
    "    [68,234,-1.77548999,-2.883030029,-2.158743,'DAA',2,30,'+Y',-1,47,68,52],\n",
    "    [69,235,-2.44127002,-2.883030029,-2.158743,'DAA',3,30,'+X',5,-1,69,53],\n",
    "    [70,236,-2.939360107,-2.745179932,-2.158743,'SAA',4,5,'NA',-1,-1,70,-1],\n",
    "    [71,237,-0.221945007,-3.459629883,-2.158743,'DAA',2,31,'+Y',-1,48,71,54],\n",
    "    [72,238,-0.88772998,-3.459629883,-2.158743,'DAA',3,31,'+Y',-1,49,72,55],\n",
    "    [73,239,-1.553540039,-3.267429932,-2.158743,'SAA',1,5,'NA',-1,-1,73,-1],\n",
    "    [74,240,-2.08972998,-3.436389893,-2.158743,'SAA',4,6,'NA',-1,-1,74,-1],\n",
    "    [75,241,-0.365734985,-4.00525,-2.158743,'SAA',1,6,'NA',-1,-1,75,-1],\n",
    "    [76,242,-1.085089966,-3.87276001,-2.158743,'SAA',2,5,'NA',-1,-1,76,-1],\n",
    "    [77,243,-1.60401001,-3.692780029,-2.158743,'SAA',3,5,'NA',-1,-1,77,-1],\n",
    "    [78,301,-0.77678302,0,-2.158743,'SAA',3,6,'NA',-1,-1,78,-1],\n",
    "    [79,302,-1.442569946,0,-2.158743,'DAA',1,30,'+Y',-1,50,79,56],\n",
    "    [80,303,-2.108379883,0,-2.158743,'DAA',4,30,'+Y',-1,51,80,57],\n",
    "    [81,304,-2.774189941,0,-2.158743,'DAA',2,32,'+Y',-1,52,81,58],\n",
    "    [82,305,-3.44,0,-2.158743,'DAA',3,32,'+Y',-1,53,82,59],\n",
    "    [83,306,-3.96801001,0,-2.158743,'SAA',2,6,'NA',-1,-1,83,-1],\n",
    "    [84,307,-0.44386499,0.576605408,-2.158743,'SAA',1,7,'NA',-1,-1,84,-1],\n",
    "    [85,308,-1.109680054,0.576605408,-2.158743,'DAA',4,31,'+Y',-1,54,85,60],\n",
    "    [86,309,-1.77548999,0.576605408,-2.158743,'DAA',2,33,'+Y',-1,55,86,61],\n",
    "    [87,310,-2.441300049,0.576605408,-2.158743,'DAA',3,33,'+Y',-1,56,87,62],\n",
    "    [88,311,-3.107080078,0.576605408,-2.158743,'DAA',1,31,'-Y',-1,57,88,63],\n",
    "    [89,312,-3.772889893,0.576605408,-2.158743,'DAA',4,32,'+X',6,-1,89,64],\n",
    "    [90,313,0,1.15321106,-2.158743,'DAA',2,34,'+Y',-1,58,90,65],\n",
    "    [91,314,-0.77678302,1.15321106,-2.158743,'DAA',3,34,'+Y',-1,59,91,66],\n",
    "    [92,315,-1.442569946,1.15321106,-2.158743,'DAA',1,32,'+Y',-1,60,92,67],\n",
    "    [93,316,-2.108379883,1.15321106,-2.158743,'DAA',4,33,'+Y',-1,61,93,68],\n",
    "    [94,317,-2.774189941,1.15321106,-2.158743,'DAA',2,35,'+Y',-1,62,94,69],\n",
    "    [95,318,-3.44,1.15321106,-2.158743,'DAA',3,35,'+Y',-1,63,95,70],\n",
    "    [96,319,-3.9005,0.997686584,-2.158743,'SAA',2,7,'NA',-1,-1,96,-1],\n",
    "    [97,320,-0.44386499,1.72981604,-2.158743,'DAA',1,33,'+Y',-1,64,97,71],\n",
    "    [98,321,-1.109680054,1.72981604,-2.158743,'DAA',4,34,'+Y',-1,65,98,72],\n",
    "    [99,322,-1.77548999,1.72981604,-2.158743,'DAA',2,36,'+Y',-1,66,99,73],\n",
    "    [100,323,-2.44127002,1.72981604,-2.158743,'DAA',3,36,'+Y',-1,67,100,74],\n",
    "    [101,324,-3.107080078,1.72981604,-2.158743,'DAA',1,34,'+Y',-1,68,101,75],\n",
    "    [102,325,-3.724449951,1.517954956,-2.158743,'SAA',4,7,'NA',-1,-1,102,-1],\n",
    "    [103,326,0,2.306422119,-2.158743,'DAA',2,37,'+Y',-1,69,103,76],\n",
    "    [104,327,-0.77678302,2.306422119,-2.158743,'DAA',3,37,'+Y',-1,70,104,77],\n",
    "    [105,328,-1.442569946,2.306422119,-2.158743,'DAA',1,35,'+X',7,-1,105,78],\n",
    "    [106,329,-2.108379883,2.306422119,-2.158743,'DAA',4,35,'+Y',-1,71,106,79],\n",
    "    [107,330,-2.774189941,2.306422119,-2.158743,'DAA',2,38,'+Y',-1,72,107,80],\n",
    "    [108,331,-3.387949951,2.167406982,-2.158743,'SAA',3,7,'NA',-1,-1,108,-1],\n",
    "    [109,332,-0.44386499,2.8830271,-2.158743,'DAA',1,36,'+Y',-1,73,109,81],\n",
    "    [110,333,-1.109680054,2.8830271,-2.158743,'DAA',4,36,'+Y',-1,74,110,82],\n",
    "    [111,334,-1.77548999,2.8830271,-2.158743,'DAA',2,39,'-Y',-1,75,111,83],\n",
    "    [112,335,-2.44127002,2.8830271,-2.158743,'DAA',3,38,'+X',8,-1,112,84],\n",
    "    [113,336,-2.939360107,2.745180908,-2.158743,'SAA',4,8,'NA',-1,-1,113,-1],\n",
    "    [114,337,-0.221945007,3.45963208,-2.158743,'DAA',2,40,'+Y',-1,76,114,85],\n",
    "    [115,338,-0.88772998,3.45963208,-2.158743,'DAA',3,39,'+Y',-1,77,115,86],\n",
    "    [116,339,-1.553540039,3.267430908,-2.158743,'SAA',1,8,'NA',-1,-1,116,-1],\n",
    "    [117,340,-2.08972998,3.436391113,-2.158743,'SAA',4,9,'NA',-1,-1,117,-1],\n",
    "    [118,341,-0.365734985,4.00525,-2.158743,'SAA',1,9,'NA',-1,-1,118,-1],\n",
    "    [119,342,-1.085089966,3.872762939,-2.158743,'SAA',2,8,'NA',-1,-1,119,-1],\n",
    "    [120,343,-1.60401001,3.692779053,-2.158743,'SAA',3,8,'NA',-1,-1,120,-1],\n",
    "    [121,407,0.44386499,0.576605408,-2.158743,'SAA',1,10,'NA',-1,-1,121,-1],\n",
    "    [122,408,1.109675049,0.576605408,-2.158743,'DAA',4,37,'+Y',-1,78,122,87],\n",
    "    [123,409,1.775484985,0.576605408,-2.158743,'DAA',2,41,'+Y',-1,79,123,88],\n",
    "    [124,410,2.441295898,0.576605408,-2.158743,'DAA',3,40,'+Y',-1,80,124,89],\n",
    "    [125,411,3.107080078,0.576605408,-2.158743,'DAA',1,37,'-Y',-1,81,125,90],\n",
    "    [126,412,3.772891113,0.576605408,-2.158743,'DAA',4,38,'-X',9,-1,126,91],\n",
    "    [127,414,0.776782776,1.15321106,-2.158743,'DAA',3,41,'+Y',-1,82,127,92],\n",
    "    [128,415,1.442567993,1.15321106,-2.158743,'DAA',1,38,'+Y',-1,83,128,93],\n",
    "    [129,416,2.10837793,1.15321106,-2.158743,'DAA',4,39,'+Y',-1,84,129,94],\n",
    "    [130,417,2.774187988,1.15321106,-2.158743,'DAA',2,42,'+Y',-1,85,130,95],\n",
    "    [131,418,3.439998047,1.15321106,-2.158743,'DAA',3,42,'+Y',-1,86,131,96],\n",
    "    [132,419,3.9005,0.997686584,-2.158743,'SAA',2,9,'NA',-1,-1,132,-1],\n",
    "    [133,420,0.44386499,1.72981604,-2.158743,'DAA',1,39,'+Y',-1,87,133,97],\n",
    "    [134,421,1.109675049,1.72981604,-2.158743,'DAA',4,40,'+Y',-1,88,134,98],\n",
    "    [135,422,1.775484985,1.72981604,-2.158743,'DAA',2,43,'+Y',-1,89,135,99],\n",
    "    [136,423,2.44127002,1.72981604,-2.158743,'DAA',3,43,'+Y',-1,90,136,100],\n",
    "    [137,424,3.107080078,1.72981604,-2.158743,'DAA',1,40,'+Y',-1,91,137,101],\n",
    "    [138,425,3.724452881,1.517954956,-2.158743,'SAA',4,10,'NA',-1,-1,138,-1],\n",
    "    [139,427,0.776782776,2.306422119,-2.158743,'DAA',3,44,'+Y',-1,92,139,102],\n",
    "    [140,428,1.442567993,2.306422119,-2.158743,'DAA',1,41,'-X',10,-1,140,103],\n",
    "    [141,429,2.10837793,2.306422119,-2.158743,'DAA',4,41,'+Y',-1,93,141,104],\n",
    "    [142,430,2.774187988,2.306422119,-2.158743,'DAA',2,44,'+Y',-1,94,142,105],\n",
    "    [143,431,3.387954102,2.167406982,-2.158743,'SAA',3,9,'NA',-1,-1,143,-1],\n",
    "    [144,432,0.44386499,2.8830271,-2.158743,'DAA',1,42,'+Y',-1,95,144,106],\n",
    "    [145,433,1.109675049,2.8830271,-2.158743,'DAA',4,42,'+Y',-1,96,145,107],\n",
    "    [146,434,1.775484985,2.8830271,-2.158743,'DAA',2,45,'-Y',-1,97,146,108],\n",
    "    [147,435,2.44127002,2.8830271,-2.158743,'DAA',3,45,'-X',11,-1,147,109],\n",
    "    [148,436,2.939364014,2.745180908,-2.158743,'SAA',4,11,'NA',-1,-1,148,-1],\n",
    "    [149,437,0.221945206,3.45963208,-2.158743,'DAA',2,46,'+Y',-1,98,149,110],\n",
    "    [150,438,0.88772998,3.45963208,-2.158743,'DAA',3,46,'+Y',-1,99,150,111],\n",
    "    [151,439,1.553540039,3.267430908,-2.158743,'SAA',1,11,'NA',-1,-1,151,-1],\n",
    "    [152,440,2.089733887,3.436391113,-2.158743,'SAA',4,12,'NA',-1,-1,152,-1],\n",
    "    [153,441,0.365734589,4.00525,-2.158743,'SAA',1,12,'NA',-1,-1,153,-1],\n",
    "    [154,442,1.085088013,3.872762939,-2.158743,'SAA',2,10,'NA',-1,-1,154,-1],\n",
    "    [155,443,1.60401001,3.692779053,-2.158743,'SAA',3,10,'NA',-1,-1,155,-1],\n",
    "])"
   ]
  },
  {
   "cell_type": "code",
   "execution_count": null,
   "id": "51a2e4f8",
   "metadata": {},
   "outputs": [],
   "source": [
    "m1m3_xact = np.float64(FATABLE[:, FATABLE_XPOSITION])\n",
    "m1m3_yact = np.float64(FATABLE[:, FATABLE_YPOSITION])"
   ]
  },
  {
   "cell_type": "code",
   "execution_count": null,
   "id": "d6a38778",
   "metadata": {},
   "outputs": [],
   "source": [
    "m1m3_correction = await client.select_time_series(\n",
    "    'lsst.sal.MTAOS.logevent_m1m3Correction', \n",
    "    [f\"zForces{i}\" for i in range(156)], \n",
    "    start.tai, \n",
    "    end.tai\n",
    ")"
   ]
  },
  {
   "cell_type": "code",
   "execution_count": null,
   "id": "125b8556",
   "metadata": {},
   "outputs": [],
   "source": [
    "fig, ax = plt.subplots(1,1, figsize=(10,6))\n",
    "\n",
    "img = ax.scatter(m1m3_xact, m1m3_yact, c=m1m3_correction.T, s=250)\n",
    "#plt.jet()\n",
    "ax.axis('equal')\n",
    "ax.set_title('applied forces')\n",
    "fig.colorbar(img, ax=ax)    "
   ]
  },
  {
   "cell_type": "markdown",
   "id": "d0468de2",
   "metadata": {},
   "source": [
    "### Display Summary"
   ]
  },
  {
   "cell_type": "code",
   "execution_count": null,
   "id": "76f5f84d",
   "metadata": {},
   "outputs": [],
   "source": [
    "fig = plt.figure(figsize=(13,16))\n",
    "\n",
    "ax1 = plt.subplot(4,1,1)\n",
    "\n",
    "for wfe_data in wavefront_errors_per_sensor:\n",
    "    ax1.step(np.arange(4, 23), wfe_data, where=\"mid\")\n",
    "    \n",
    "ax1.set_xlabel(\"Zernike coefficient\")\n",
    "ax1.set_ylabel(\"wavefront error (um)\")\n",
    "ax1.set_title('Wavefront Estimation Pipeline result')\n",
    "\n",
    "ax1.set_xticks(np.arange(4, 23))\n",
    "ax1.grid()\n",
    "\n",
    "ax2 = plt.subplot(4,2,3)\n",
    "\n",
    "camera_hexapod_correction_xyz.T.plot(kind=\"bar\", legend=None, ax=ax2)\n",
    "\n",
    "plt.xticks(rotation=0, horizontalalignment=\"center\")\n",
    "plt.ylabel(\"Hexapod Correction (microns)\")\n",
    "plt.xlabel(\"Axis\")\n",
    "ax2.set_title('Camera Hexapod corrections')\n",
    "\n",
    "ax3 = plt.subplot(4,2,4)\n",
    "\n",
    "m2_hexapod_correction_xyz.T.plot(kind=\"bar\", legend=None, ax=ax3)\n",
    "\n",
    "plt.xticks(rotation=0, horizontalalignment=\"center\")\n",
    "plt.ylabel(\"Hexapod Correction (microns)\")\n",
    "plt.xlabel(\"Axis\")\n",
    "ax3.set_title('M2 Hexapod corrections')\n",
    "\n",
    "ax2 = plt.subplot(4,2,5)\n",
    "\n",
    "camera_hexapod_correction_uv.T.plot(kind=\"bar\", legend=None, ax=ax2)\n",
    "\n",
    "plt.xticks(rotation=0, horizontalalignment=\"center\")\n",
    "plt.ylabel(\"Hexapod Correction (degrees)\")\n",
    "plt.xlabel(\"Axis\")\n",
    "ax2.set_title('Camera Hexapod corrections')\n",
    "\n",
    "ax3 = plt.subplot(4,2,6)\n",
    "\n",
    "m2_hexapod_correction_uv.T.plot(kind=\"bar\", legend=None, ax=ax3)\n",
    "\n",
    "plt.xticks(rotation=0, horizontalalignment=\"center\")\n",
    "plt.ylabel(\"Hexapod Correction (degrees)\")\n",
    "plt.xlabel(\"Axis\")\n",
    "ax3.set_title('M2 Hexapod corrections')\n",
    "\n",
    "\n",
    "ax4 = plt.subplot(4,2,7)\n",
    "\n",
    "img = ax4.scatter(m2_xact, m2_yact, c=m2_correction.T, s=100)\n",
    "#plt.jet()\n",
    "ax4.axis('equal')\n",
    "ax4.set_title('M2 applied forces')\n",
    "\n",
    "fig.colorbar(img, ax=ax4)    \n",
    "\n",
    "ax5 = plt.subplot(4,2,8)\n",
    "\n",
    "img = ax5.scatter(m1m3_xact, m1m3_yact, c=m1m3_correction.T, s=50)\n",
    "ax5.axis('equal')\n",
    "ax5.set_title('M1M3 applied forces')\n",
    "fig.colorbar(img, ax=ax5)\n",
    "\n",
    "plt.subplots_adjust(hspace=0.3, wspace=0.3)\n",
    "fig.patch.set_facecolor('white')"
   ]
  }
 ],
 "metadata": {
  "kernelspec": {
   "display_name": "LSST",
   "language": "python",
   "name": "lsst"
  },
  "language_info": {
   "codemirror_mode": {
    "name": "ipython",
    "version": 3
   },
   "file_extension": ".py",
   "mimetype": "text/x-python",
   "name": "python",
   "nbconvert_exporter": "python",
   "pygments_lexer": "ipython3",
   "version": "3.8.8"
  }
 },
 "nbformat": 4,
 "nbformat_minor": 5
}
