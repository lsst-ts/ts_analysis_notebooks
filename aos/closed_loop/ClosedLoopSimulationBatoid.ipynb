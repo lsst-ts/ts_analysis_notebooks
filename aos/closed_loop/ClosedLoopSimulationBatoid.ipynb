{
 "cells": [
  {
   "cell_type": "markdown",
   "id": "0815b4a3",
   "metadata": {},
   "source": [
    "## Closed Loop Simulation Notebook\n",
    "\n",
    "This notebook breaks down the closed loop simulation in different jupyter notebook cells. The aim of this notebook is to ease the debugging and development of the different packages involved in the Optical Feedback Control loop.\n",
    "\n",
    "This notebook was last run on July 7th 2022. \n",
    "Details:\n",
    "- Stack release: 2021_25, Last verified to run 2022-07-07\n",
    "- ts_phosim release: v2.0.4\n",
    "\n",
    "\n",
    "### Required python packages"
   ]
  },
  {
   "cell_type": "code",
   "execution_count": 1,
   "id": "e94abfa7",
   "metadata": {},
   "outputs": [],
   "source": [
    "import argparse\n",
    "import logging\n",
    "import numpy as np\n",
    "import os\n",
    "import shutil\n",
    "import subprocess\n",
    "import sys\n",
    "import time\n",
    "import batoid\n",
    "\n",
    "from lsst.ts.batoid.CloseLoopTask import CloseLoopTask\n",
    "from lsst.ts.batoid.telescope.TeleFacade import TeleFacade\n",
    "from lsst.ts.batoid.utils.PlotUtil import plotFwhmOfIters\n",
    "from lsst.daf import butler as dafButler\n",
    "from lsst.ts.wep.Utility import CamType, FilterType, runProgram\n",
    "from lsst.ts.batoid.utils.Utility import getPhoSimPath, getAoclcOutputPath, getCamera\n",
    "from lsst.ts.batoid.utils.SensorWavefrontError import SensorWavefrontError\n",
    "from lsst.ts.batoid.wfsim.wfsim import SSTBuilder\n",
    "\n",
    "from astropy.utils.data import get_pkg_data_filename\n",
    "from astropy.io import fits\n",
    "import matplotlib.pyplot as plt"
   ]
  },
  {
   "cell_type": "code",
   "execution_count": 2,
   "id": "4f1f21fd",
   "metadata": {},
   "outputs": [
    {
     "name": "stdout",
     "output_type": "stream",
     "text": [
      "Namespace(inst='comcam', filterType='', rotCam=0.0, m1m3FErr=0.05, numOfProc=1, iterNum=5, output='', log_level=20, clobber=False, pipelineFile='', boresightDeg=[0, 0], skyFile='', eimage=False)\n",
      "CPU times: user 3.77 ms, sys: 1.46 ms, total: 5.23 ms\n",
      "Wall time: 4.13 ms\n"
     ]
    }
   ],
   "source": [
    "%%time\n",
    "\n",
    "# Set the parser\n",
    "parser = argparse.ArgumentParser(\n",
    "    description=\"Run AOS closed-loop simulation (default is amplifier files).\"\n",
    ")\n",
    "parser = CloseLoopTask.setDefaultParser(parser)\n",
    "parser = CloseLoopTask.setImgParser(parser)\n",
    "\n",
    "# Get the default arguments\n",
    "sys.argv = ['-f']\n",
    "args = parser.parse_args()\n",
    "\n",
    "# Print default arguments\n",
    "print(args)\n",
    "\n",
    "logger = logging.getLogger()\n",
    "logger.setLevel(args.log_level)\n",
    "\n",
    "# Initialize the ClosedLoopTask\n",
    "closeLoopTask = CloseLoopTask()"
   ]
  },
  {
   "cell_type": "code",
   "execution_count": 3,
   "id": "eac4c183",
   "metadata": {},
   "outputs": [],
   "source": [
    "PHOSIMPATH = \"/home/gmegias/jhome/aos/phosim_syseng4/\"\n",
    "AOCLCOUTPUTPATH = \"/home/gmegias/jhome/aos/ts_batoid/output/\"\n",
    "os.environ[\"PHOSIMPATH\"] = PHOSIMPATH\n",
    "os.environ[\"AOCLCOUTPUTPATH\"] = AOCLCOUTPUTPATH\n",
    "\n",
    "args.inst = 'comcam' \n",
    "args.boresightDeg = [0.03, -0.02]\n",
    "args.eimage = None\n",
    "args.skyFile = '/home/gmegias/jhome/aos/ts_batoid/tests/testData/sky/skyComCam.txt'\n",
    "args.output = '/home/gmegias/jhome/aos/perturbations/test2253/'\n",
    "\n",
    "if os.path.exists(args.output):\n",
    "    shutil.rmtree(args.output)"
   ]
  },
  {
   "cell_type": "code",
   "execution_count": 4,
   "id": "27363903",
   "metadata": {},
   "outputs": [],
   "source": [
    "boresight = args.boresightDeg\n",
    "rotCamInDeg = args.rotCam\n",
    "useEimg = args.eimage\n",
    "m1m3ForceError = args.m1m3FErr\n",
    "numPro = args.numOfProc\n",
    "iterNum = args.iterNum\n",
    "doErsDirCont = args.clobber\n",
    "pathSkyFile = args.skyFile\n",
    "args.wavelength = 500e-9\n",
    "args.numOfZk = 19"
   ]
  },
  {
   "cell_type": "code",
   "execution_count": 5,
   "id": "7e87cfe8",
   "metadata": {},
   "outputs": [
    {
     "data": {
      "text/plain": [
       "<lsst.ts.batoid.PhosimCmpt.PhosimCmpt at 0x7f72fc1ff100>"
      ]
     },
     "execution_count": 5,
     "metadata": {},
     "output_type": "execute_result"
    }
   ],
   "source": [
    "# Check the input arguments\n",
    "camType, instName = closeLoopTask.getCamTypeAndInstName(args.inst)\n",
    "\n",
    "closeLoopTask.configOfcCalc(instName)\n",
    "closeLoopTask.configPhosimCmpt(\n",
    "    instName, args.wavelength, args.filterType, rotCamInDeg, m1m3ForceError, numPro, boresight=boresight\n",
    ")"
   ]
  },
  {
   "cell_type": "code",
   "execution_count": 6,
   "id": "8fcce66d",
   "metadata": {},
   "outputs": [],
   "source": [
    "# Set the telescope state to be the same as the OFC\n",
    "dofInUm = closeLoopTask.ofcCalc.ofc_controller.aggregated_state\n",
    "\n",
    "# Get the list of referenced sensor name (field positions)\n",
    "\n",
    "# If using wavefront sensors we measure one per pair\n",
    "# and the field\n",
    "if camType == CamType.LsstCam:\n",
    "    cornerSensorNameList = closeLoopTask.getSensorNameListOfFields(instName)\n",
    "    cornerSensorIdList = closeLoopTask.getSensorIdListOfFields(instName)\n",
    "    refSensorNameList = []\n",
    "    refSensorIdList = []\n",
    "    for name, id in zip(cornerSensorNameList, cornerSensorIdList):\n",
    "        if name.endswith(\"SW0\"):\n",
    "            refSensorNameList.append(name)\n",
    "            refSensorIdList.append(id)\n",
    "else:\n",
    "    refSensorNameList = closeLoopTask.getSensorNameListOfFields(instName)\n",
    "    refSensorLocationList = closeLoopTask.getSensorLocationListOfFields(instName)\n",
    "    refSensorIdList = closeLoopTask.getSensorIdListOfFields(instName)\n",
    "\n",
    "\n",
    "iterCount = 0\n",
    "obsId = 9006000\n",
    "outputDirName = \"pert\"\n",
    "outputImgDirName = \"img\"\n",
    "iterDefaultDirName = \"iter\"\n",
    "baseOutputDir = closeLoopTask.checkAndCreateBaseOutputDir(args.output)\n",
    "# The iteration directory\n",
    "iterDirName = \"%s%d\" % (iterDefaultDirName, iterCount)\n",
    "\n",
    "outputDir = os.path.join(baseOutputDir, iterDirName, outputDirName)\n",
    "closeLoopTask.phosimCmpt.setOutputDir(outputDir)\n",
    "\n",
    "outputDir = os.path.join(baseOutputDir, iterDirName, outputImgDirName)\n",
    "closeLoopTask.phosimCmpt.setOutputDir(outputDir)\n"
   ]
  },
  {
   "cell_type": "code",
   "execution_count": 7,
   "id": "e1b3ce16",
   "metadata": {},
   "outputs": [],
   "source": [
    "zenith_angle = 27.0912\n",
    "rotation_angle = 0.0\n",
    "builder = SSTBuilder(batoid.Optic.fromYaml(\"ComCam_g.yaml\"))\n",
    "\n",
    "if True:\n",
    "    builder = (\n",
    "        builder\n",
    "        .with_m1m3_gravity(np.deg2rad(zenith_angle))\n",
    "        .with_m1m3_temperature(\n",
    "            m1m3_TBulk=0.0902,\n",
    "            m1m3_TxGrad=-0.0894,\n",
    "            m1m3_TyGrad=-0.1973,\n",
    "            m1m3_TzGrad=-0.0316,\n",
    "            m1m3_TrGrad=0.0187\n",
    "        )\n",
    "        .with_m1m3_lut(np.deg2rad(zenith_angle), error=0.0, seed = 6)\n",
    "    )\n",
    "if True:\n",
    "    builder = (\n",
    "        builder\n",
    "        .with_m2_gravity(np.deg2rad(zenith_angle))\n",
    "        .with_m2_temperature(\n",
    "            m2_TrGrad=-0.1416,\n",
    "            m2_TzGrad=-0.0675\n",
    "        )\n",
    "    )\n",
    "if True:\n",
    "    builder = (\n",
    "        builder\n",
    "        .with_camera_gravity(\n",
    "            zenith_angle=np.deg2rad(zenith_angle),\n",
    "            rotation_angle=np.deg2rad(rotation_angle)\n",
    "        )\n",
    "        .with_camera_temperature(\n",
    "            camera_TBulk=6.5650\n",
    "        )\n",
    "    )\n",
    "optic = builder.build()"
   ]
  },
  {
   "cell_type": "code",
   "execution_count": 22,
   "id": "dc26d0a2",
   "metadata": {},
   "outputs": [],
   "source": [
    "builder = builder.with_aos_dof(dofInUm)\n",
    "optic = builder.build()\n",
    "\n",
    "iterCount += 1\n",
    "outputDirName = \"pert\"\n",
    "outputImgDirName = \"img\"\n",
    "iterDefaultDirName = \"iter\"\n",
    "baseOutputDir = closeLoopTask.checkAndCreateBaseOutputDir(args.output)\n",
    "# The iteration directory\n",
    "iterDirName = \"%s%d\" % (iterDefaultDirName, iterCount)\n",
    "\n",
    "outputDir = os.path.join(baseOutputDir, iterDirName, outputDirName)\n",
    "closeLoopTask.phosimCmpt.setOutputDir(outputDir)\n",
    "\n",
    "outputDir = os.path.join(baseOutputDir, iterDirName, outputImgDirName)\n",
    "closeLoopTask.phosimCmpt.setOutputDir(outputDir)"
   ]
  },
  {
   "cell_type": "code",
   "execution_count": 23,
   "id": "4d379e31",
   "metadata": {},
   "outputs": [],
   "source": [
    "\n",
    "def runBatoid(optic, wavelength, numOfZk, sensorIdList, sensorLocationList, outputDir, iterCount, obsId):\n",
    "\n",
    "    listOfWfErr = []\n",
    "    for sensorId, sensorLocation in zip(sensorIdList, sensorLocationList):\n",
    "\n",
    "        zk = batoid.zernike(\n",
    "            optic,\n",
    "            sensorLocation[0], sensorLocation[1],\n",
    "            wavelength, \n",
    "            eps=0.61, \n",
    "            jmax = numOfZk + 3, \n",
    "            nx=25\n",
    "        ) * 0.5\n",
    "\n",
    "        sensorWavefrontData = SensorWavefrontError(numOfZk=numOfZk)\n",
    "        sensorWavefrontData.setSensorId(sensorId)\n",
    "        #Batoid returns null zk[0] which is unused\n",
    "        sensorWavefrontData.setAnnularZernikePoly(zk[4:])\n",
    "\n",
    "        listOfWfErr.append(sensorWavefrontData)\n",
    "\n",
    "        opd = batoid.wavefront(\n",
    "            optic,\n",
    "            sensorLocation[0], sensorLocation[1],\n",
    "            wavelength=wavelength, \n",
    "            nx=255\n",
    "        ).array * wavelength * 1e6\n",
    "        \n",
    "        opddata = opd.data.astype(np.float32)\n",
    "        opddata[opd.mask] = 0.0\n",
    "        ofn = os.path.join(outputDir, f\"opd_{obsId}_{sensorId}.fits.gz\")\n",
    "        fits.writeto(\n",
    "            ofn,\n",
    "            opddata,\n",
    "            overwrite=True\n",
    "        )\n",
    "\n",
    "    return listOfWfErr\n",
    "\n",
    "\n",
    "listOfWfErr = runBatoid(optic, args.wavelength, args.numOfZk, refSensorIdList, refSensorLocationList, outputDir, iterCount, obsId)\n"
   ]
  },
  {
   "cell_type": "code",
   "execution_count": 24,
   "id": "72a88e36",
   "metadata": {},
   "outputs": [
    {
     "name": "stdout",
     "output_type": "stream",
     "text": [
      "/home/gmegias/jhome/aos/perturbations/test2253/iter3/img\n",
      "file list\n",
      "['/home/gmegias/jhome/aos/perturbations/test2253/iter3/img/opd_9006030_0.fits.gz', '/home/gmegias/jhome/aos/perturbations/test2253/iter3/img/opd_9006030_1.fits.gz', '/home/gmegias/jhome/aos/perturbations/test2253/iter3/img/opd_9006030_2.fits.gz', '/home/gmegias/jhome/aos/perturbations/test2253/iter3/img/opd_9006030_3.fits.gz', '/home/gmegias/jhome/aos/perturbations/test2253/iter3/img/opd_9006030_4.fits.gz', '/home/gmegias/jhome/aos/perturbations/test2253/iter3/img/opd_9006030_5.fits.gz', '/home/gmegias/jhome/aos/perturbations/test2253/iter3/img/opd_9006030_6.fits.gz', '/home/gmegias/jhome/aos/perturbations/test2253/iter3/img/opd_9006030_7.fits.gz', '/home/gmegias/jhome/aos/perturbations/test2253/iter3/img/opd_9006030_8.fits.gz']\n",
      "0.5\n",
      "pssn list\n",
      "[0.9630100958716726, 0.9653007345819246, 0.9628216070364727, 0.9649590026442961, 0.9655336593305265, 0.9646383533232652, 0.9607933331929144, 0.9635650804989531, 0.9604421380514069]\n"
     ]
    }
   ],
   "source": [
    "rotOpdInDeg = 0\n",
    "opdZkFileName = \"opd.zer\"\n",
    "opdPssnFileName = \"PSSN.txt\"\n",
    "outputDirName = \"pert\"\n",
    "\n",
    "outputImgDirName = \"img\"\n",
    "outputImgDir = os.path.join(baseOutputDir, iterDirName, outputImgDirName)\n",
    "\n",
    "closeLoopTask.phosimCmpt.metr.setWgtAndFieldXyOfGQ(instName)\n",
    "closeLoopTask.phosimCmpt.setOutputImgDir(outputImgDir)\n",
    "\n",
    "closeLoopTask.phosimCmpt._writeOpdZkFile(opdZkFileName, rotOpdInDeg)\n",
    "closeLoopTask.phosimCmpt._writeOpdPssnFile(instName, opdPssnFileName)"
   ]
  },
  {
   "cell_type": "code",
   "execution_count": 25,
   "id": "04bd7172",
   "metadata": {},
   "outputs": [
    {
     "name": "stdout",
     "output_type": "stream",
     "text": [
      "Calculated PSSN is [0.9630101  0.96530073 0.96282161 0.964959   0.96553366 0.96463835\n",
      " 0.96079333 0.96356508 0.96044214].\n",
      "GQ effective FWHM is 0.1269.\n",
      "Setting FWHM data...\n",
      "FWHM data set, took 0.0017521381378173828 seconds.\n"
     ]
    }
   ],
   "source": [
    "# Get the PSSN from file\n",
    "pssn = closeLoopTask.phosimCmpt.getOpdPssnFromFile(opdPssnFileName)\n",
    "print(\"Calculated PSSN is %s.\" % pssn)\n",
    "\n",
    "# Get the GQ effective FWHM from file\n",
    "gqEffFwhm = closeLoopTask.phosimCmpt.getOpdGqEffFwhmFromFile(opdPssnFileName)\n",
    "print(\"GQ effective FWHM is %.4f.\" % gqEffFwhm)\n",
    "\n",
    "# Set the FWHM data\n",
    "print(\"Setting FWHM data...\")\n",
    "t0 = time.time()\n",
    "fwhm, sensor_id = closeLoopTask.phosimCmpt.getListOfFwhmSensorData(\n",
    "    opdPssnFileName, refSensorIdList\n",
    ")\n",
    "\n",
    "closeLoopTask.ofcCalc.set_fwhm_data(fwhm, sensor_id)\n",
    "ttl_time = time.time() - t0\n",
    "print(\"FWHM data set, took {} seconds.\".format(ttl_time))"
   ]
  },
  {
   "cell_type": "code",
   "execution_count": 26,
   "id": "43728956",
   "metadata": {},
   "outputs": [
    {
     "name": "stdout",
     "output_type": "stream",
     "text": [
      "Calculating DOF...\n",
      "DOF computed. Took 0.000888824462890625 seconds.\n",
      "Calculating corrections...\n",
      "Corrections computed. Took 0.013141155242919922 seconds.\n",
      "Setting and saving new DOF...\n",
      "New DOF saved. Took 0.0037169456481933594 seconds.\n"
     ]
    }
   ],
   "source": [
    "# Record the wavefront error with the same order as OPD for the\n",
    "# comparison\n",
    "\n",
    "\n",
    "# Calculate the DOF\n",
    "print('Calculating DOF...')\n",
    "t0 = time.time()\n",
    "wfe = np.array(\n",
    "    [sensor_wfe.getAnnularZernikePoly() for sensor_wfe in listOfWfErr]\n",
    ")\n",
    "sensor_ids = np.array(\n",
    "    [sensor_wfe.getSensorId() for sensor_wfe in listOfWfErr]\n",
    ")\n",
    "ttl_time = time.time() - t0\n",
    "print('DOF computed. Took {} seconds.'.format(ttl_time))\n",
    "\n",
    "print('Calculating corrections...')\n",
    "t0 = time.time()\n",
    "closeLoopTask.ofcCalc.calculate_corrections(\n",
    "    wfe=wfe,\n",
    "    field_idx=sensor_ids,\n",
    "    filter_name=str('R'),\n",
    "    gain=-1,\n",
    "    rot=rotCamInDeg,\n",
    ")\n",
    "ttl_time = time.time() - t0\n",
    "print('Corrections computed. Took {} seconds.'.format(ttl_time))\n",
    "\n",
    "# Set the new aggregated DOF to phosimCmpt\n",
    "print('Setting and saving new DOF...')\n",
    "t0 = time.time()\n",
    "dofInUm = closeLoopTask.ofcCalc.ofc_controller.aggregated_state\n",
    "\n",
    "\n",
    "# Save the DOF file\n",
    "closeLoopTask.phosimCmpt.saveDofInUmFileForNextIter(\n",
    "    dofInUm\n",
    ")\n",
    "ttl_time = time.time() - t0\n",
    "print('New DOF saved. Took {} seconds.'.format(ttl_time))\n",
    "\n",
    "# Add the observation ID by 10 for the next iteration\n",
    "obsId += 10"
   ]
  },
  {
   "cell_type": "markdown",
   "id": "089888d0",
   "metadata": {},
   "source": [
    "The wavefront error of the first simulation iteration is printed below"
   ]
  },
  {
   "cell_type": "markdown",
   "id": "b460d8b7",
   "metadata": {},
   "source": [
    "### Summarize the FWHM and plot results"
   ]
  },
  {
   "cell_type": "code",
   "execution_count": 29,
   "id": "7931ffa4",
   "metadata": {},
   "outputs": [],
   "source": [
    "# Summarize the FWHM\n",
    "fwhmItersFileName = \"fwhmIters.png\"\n",
    "pssnFiles = [\n",
    "    os.path.join(\n",
    "        baseOutputDir,\n",
    "        \"%s%d\" % (iterDefaultDirName, num),\n",
    "        outputImgDirName,\n",
    "        opdPssnFileName,\n",
    "    )\n",
    "    for num in [0,1,2,3]\n",
    "]\n",
    "saveToFilePath = os.path.join(baseOutputDir, fwhmItersFileName)\n",
    "plotFwhmOfIters(pssnFiles, saveToFilePath=saveToFilePath)"
   ]
  },
  {
   "cell_type": "code",
   "execution_count": 30,
   "id": "2d95f6ed",
   "metadata": {},
   "outputs": [
    {
     "name": "stderr",
     "output_type": "stream",
     "text": [
      "/tmp/ipykernel_1804689/2572018048.py:10: UserWarning: Matplotlib is currently using agg, which is a non-GUI backend, so cannot show the figure.\n",
      "  plt.show()\n"
     ]
    }
   ],
   "source": [
    "# importing Image class from PIL package\n",
    "from PIL import Image\n",
    "import numpy as np\n",
    "import matplotlib.pyplot as plt\n",
    "\n",
    "im = np.array(Image.open(saveToFilePath))\n",
    "plt.figure(figsize=(10,10))\n",
    "plt.imshow(im)\n",
    "plt.axis('off')\n",
    "plt.show()\n"
   ]
  },
  {
   "cell_type": "code",
   "execution_count": null,
   "id": "ce7309e5",
   "metadata": {},
   "outputs": [],
   "source": [
    "for idx in [0]:\n",
    "\n",
    "    image_file = get_pkg_data_filename('/home/gmegias/jhome/aos/perturbations/test2253/iter0/img/opd_9006000_4.fits.gz')\n",
    "    image_data = fits.getdata(image_file, ext=0)\n",
    "    masked =np.ma.masked_where(image_data == 0, image_data)\n",
    "\n",
    "    image_file = get_pkg_data_filename('/home/gmegias/jhome/aos/perturbations/testNe3/iter0/img/opd_9006000_4.fits.gz')\n",
    "    image_data2 = fits.getdata(image_file, ext=0)\n",
    "    masked2 =np.ma.masked_where(image_data2 == 0, image_data2)\n",
    "\n",
    "\n",
    "    print(np.min(image_data))\n",
    "    print(np.max(image_data))\n",
    "\n",
    "    plt.figure(figsize = (10,9))\n",
    "    plt.imshow(abs(masked - masked2))\n",
    "    plt.colorbar()\n",
    "    plt.savefig('/home/gmegias/jhome/aos/perturbations/trial/diff_imagsse0{}s.png'.format(idx))\n",
    "    plt.close()"
   ]
  }
 ],
 "metadata": {
  "kernelspec": {
   "display_name": "Python 3 (ipykernel)",
   "language": "python",
   "name": "python3"
  },
  "language_info": {
   "codemirror_mode": {
    "name": "ipython",
    "version": 3
   },
   "file_extension": ".py",
   "mimetype": "text/x-python",
   "name": "python",
   "nbconvert_exporter": "python",
   "pygments_lexer": "ipython3",
   "version": "3.10.5"
  },
  "vscode": {
   "interpreter": {
    "hash": "31f2aee4e71d21fbe5cf8b01ff0e069b9275f58929596ceb00d14d90e3e16cd6"
   }
  }
 },
 "nbformat": 4,
 "nbformat_minor": 5
}
