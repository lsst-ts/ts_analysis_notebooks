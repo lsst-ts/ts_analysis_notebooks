{
 "cells": [
  {
   "cell_type": "markdown",
   "id": "0815b4a3",
   "metadata": {},
   "source": [
    "## Closed Loop Simulation Notebook\n",
    "\n",
    "This notebook breaks down the closed loop simulation in different jupyter notebook cells. The aim of this notebook is to ease the debugging and development of the different packages involved in the Optical Feedback Control loop.\n",
    "\n",
    "This notebook was last run on July 7th 2022. \n",
    "Details:\n",
    "- Stack release: 2021_25, Last verified to run 2022-07-07\n",
    "- ts_phosim release: v2.0.4\n",
    "\n",
    "\n",
    "### Required python packages"
   ]
  },
  {
   "cell_type": "code",
   "execution_count": 1,
   "id": "e94abfa7",
   "metadata": {},
   "outputs": [],
   "source": [
    "import argparse\n",
    "import logging\n",
    "import numpy as np\n",
    "import os\n",
    "import shutil\n",
    "import subprocess\n",
    "import sys\n",
    "import time\n",
    "import batoid\n",
    "\n",
    "from lsst.ts.batoid.CloseLoopTask import CloseLoopTask\n",
    "from lsst.ts.batoid.utils.PlotUtil import plotFwhmOfIters\n",
    "from lsst.daf import butler as dafButler\n",
    "from lsst.ts.wep.Utility import CamType, FilterType, runProgram\n",
    "from lsst.ts.batoid.utils.Utility import getPhoSimPath, getAoclcOutputPath, getCamera\n",
    "from lsst.ts.batoid.utils.SensorWavefrontError import SensorWavefrontError\n",
    "from lsst.ts.batoid.wfsim.wfsim import SSTBuilder\n",
    "\n",
    "from astropy.utils.data import get_pkg_data_filename\n",
    "from astropy.io import fits\n",
    "import matplotlib.pyplot as plt"
   ]
  },
  {
   "cell_type": "code",
   "execution_count": 2,
   "id": "4f1f21fd",
   "metadata": {},
   "outputs": [
    {
     "name": "stdout",
     "output_type": "stream",
     "text": [
      "Namespace(inst='comcam', filterType='', rotCam=0.0, m1m3FErr=0.05, numOfProc=1, iterNum=5, output='', log_level=20, clobber=False, pipelineFile='', boresightDeg=[0, 0], skyFile='', eimage=False)\n",
      "CPU times: user 4.01 ms, sys: 1.82 ms, total: 5.83 ms\n",
      "Wall time: 4.77 ms\n"
     ]
    }
   ],
   "source": [
    "%%time\n",
    "\n",
    "# Set the parser\n",
    "parser = argparse.ArgumentParser(\n",
    "    description=\"Run AOS closed-loop simulation (default is amplifier files).\"\n",
    ")\n",
    "parser = CloseLoopTask.setDefaultParser(parser)\n",
    "parser = CloseLoopTask.setImgParser(parser)\n",
    "\n",
    "# Get the default arguments\n",
    "sys.argv = ['-f']\n",
    "args = parser.parse_args()\n",
    "\n",
    "# Print default arguments\n",
    "print(args)\n",
    "\n",
    "logger = logging.getLogger()\n",
    "logger.setLevel(args.log_level)\n",
    "\n",
    "# Initialize the ClosedLoopTask\n",
    "closeLoopTask = CloseLoopTask()"
   ]
  },
  {
   "cell_type": "code",
   "execution_count": 3,
   "id": "eac4c183",
   "metadata": {},
   "outputs": [],
   "source": [
    "PHOSIMPATH = \"/home/gmegias/jhome/aos/phosim_syseng4/\"\n",
    "AOCLCOUTPUTPATH = \"/home/gmegias/jhome/aos/ts_batoid/output/\"\n",
    "os.environ[\"PHOSIMPATH\"] = PHOSIMPATH\n",
    "os.environ[\"AOCLCOUTPUTPATH\"] = AOCLCOUTPUTPATH\n",
    "\n",
    "args.inst = 'comcam' \n",
    "args.boresightDeg = [0.03, -0.02]\n",
    "args.eimage = None\n",
    "args.skyFile = '/home/gmegias/jhome/aos/ts_batoid/tests/testData/sky/skyComCam.txt'\n",
    "args.output = '/home/gmegias/jhome/aos/perturbations/test2253/'a\n",
    "args.filterType = FilterType.REF\n",
    "\n",
    "if os.path.exists(args.output):\n",
    "    shutil.rmtree(args.output)"
   ]
  },
  {
   "cell_type": "code",
   "execution_count": 4,
   "id": "27363903",
   "metadata": {},
   "outputs": [],
   "source": [
    "boresight = [0, 0]\n",
    "rotCamInDeg = args.rotCam\n",
    "rotAngInDeg = 0.0\n",
    "useEimg = args.eimage\n",
    "m1m3ForceError = args.m1m3FErr\n",
    "numPro = args.numOfProc\n",
    "iterNum = args.iterNum\n",
    "doErsDirCont = args.clobber\n",
    "pathSkyFile = args.skyFile"
   ]
  },
  {
   "cell_type": "code",
   "execution_count": 5,
   "id": "7e87cfe8",
   "metadata": {},
   "outputs": [
    {
     "data": {
      "text/plain": [
       "<lsst.ts.batoid.BatoidCmpt.BatoidCmpt at 0x7f76b552dc00>"
      ]
     },
     "execution_count": 5,
     "metadata": {},
     "output_type": "execute_result"
    }
   ],
   "source": [
    "# Check the input arguments\n",
    "camType, instName = closeLoopTask.getCamTypeAndInstName(args.inst)\n",
    "filterType = closeLoopTask.getFilterType(args.filterType)\n",
    "baseOutputDir = closeLoopTask.checkAndCreateBaseOutputDir(args.output)\n",
    "\n",
    "# Config feedback control loop\n",
    "closeLoopTask.configOfcCalc(instName)\n",
    "\n",
    "# Config Batoid\n",
    "closeLoopTask.configBatoidCmpt(\n",
    "        instName,\n",
    "        filterType,\n",
    "        rotAngInDeg,\n",
    "        m1m3ForceError,\n",
    "        numPro,\n",
    "        boresight=boresight,\n",
    "        zAngleInDeg=27.0912,\n",
    "        seedNum=6,\n",
    "    )"
   ]
  },
  {
   "cell_type": "code",
   "execution_count": 6,
   "id": "8fcce66d",
   "metadata": {},
   "outputs": [],
   "source": [
    "# Set the telescope state to be the same as the OFC\n",
    "dofInUm = closeLoopTask.ofcCalc.ofc_controller.aggregated_state\n",
    "closeLoopTask.batoidCmpt.setDofInUm(dofInUm)\n",
    "\n",
    "# Get the list of referenced sensor name (field positions)\n",
    "\n",
    "# If using wavefront sensors we measure one per pair\n",
    "# and the field\n",
    "if camType == CamType.LsstCam:\n",
    "    cornerSensorNameList = closeLoopTask.getSensorNameListOfFields(instName)\n",
    "    cornerSensorIdList = closeLoopTask.getSensorIdListOfFields(instName)\n",
    "    refSensorNameList = []\n",
    "    refSensorIdList = []\n",
    "    for name, id in zip(cornerSensorNameList, cornerSensorIdList):\n",
    "        if name.endswith(\"SW0\"):\n",
    "            refSensorNameList.append(name)\n",
    "            refSensorIdList.append(id)\n",
    "else:\n",
    "    refSensorNameList = closeLoopTask.getSensorNameListOfFields(instName)\n",
    "    refSensorLocationList = closeLoopTask.getSensorLocationListOfFields(instName)\n",
    "    refSensorIdList = closeLoopTask.getSensorIdListOfFields(instName)\n",
    "\n",
    "\n",
    "# Common file and directory names\n",
    "opdZkFileName = \"opd.zer\"\n",
    "opdPssnFileName = \"PSSN.txt\"\n",
    "outputDirName = \"pert\"\n",
    "outputImgDirName = \"img\"\n",
    "iterDefaultDirName = \"iter\"\n",
    "dofInUmFileName = \"dofPertInNextIter.mat\"\n",
    "fwhmItersFileName = \"fwhmIters.png\"\n",
    "if args.pipelineFile == \"\":\n",
    "    pipelineFile = None\n",
    "\n",
    "# Specific file names to the amplifier/eimage\n",
    "wfsZkFileName = \"wfs.zer\""
   ]
  },
  {
   "cell_type": "code",
   "execution_count": null,
   "id": "3f292b52",
   "metadata": {},
   "outputs": [],
   "source": [
    "iterCount = 0\n",
    "obsId = 9006000\n",
    "\n",
    "# Set the observation Id\n",
    "closeLoopTask.phosimCmpt.setSurveyParam(obsId=obsId)\n",
    "\n",
    "# The iteration directory\n",
    "iterDirName = \"%s%d\" % (iterDefaultDirName, iterCount)\n",
    "\n",
    "outputDir = os.path.join(baseOutputDir, iterDirName, outputDirName)\n",
    "closeLoopTask.batoidCmpt.setOutputDir(outputDir)\n",
    "\n",
    "outputDir = os.path.join(baseOutputDir, iterDirName, outputImgDirName)\n",
    "closeLoopTask.batoidCmpt.setOutputDir(outputDir)"
   ]
  },
  {
   "cell_type": "code",
   "execution_count": 7,
   "id": "ea9f4e47",
   "metadata": {},
   "outputs": [],
   "source": [
    "listOfWfErr = closeLoopTask.batoidCmpt.runBatoid(\n",
    "    obsId, refSensorIdList, refSensorLocationList\n",
    ")"
   ]
  },
  {
   "cell_type": "code",
   "execution_count": 8,
   "id": "dc26d0a2",
   "metadata": {},
   "outputs": [
    {
     "ename": "NameError",
     "evalue": "name 'builder' is not defined",
     "output_type": "error",
     "traceback": [
      "\u001b[0;31m---------------------------------------------------------------------------\u001b[0m",
      "\u001b[0;31mNameError\u001b[0m                                 Traceback (most recent call last)",
      "\u001b[1;32m/home/gmegias/jhome/aos/ts_analysis_notebooks/aos/closed_loop/ClosedLoopSimulationBatoid.ipynb Cell 9\u001b[0m in \u001b[0;36m<cell line: 1>\u001b[0;34m()\u001b[0m\n\u001b[0;32m----> <a href='vscode-notebook-cell://ssh-remote%2Blsst-devl02/home/gmegias/jhome/aos/ts_analysis_notebooks/aos/closed_loop/ClosedLoopSimulationBatoid.ipynb#ch0000008vscode-remote?line=0'>1</a>\u001b[0m builder \u001b[39m=\u001b[39m builder\u001b[39m.\u001b[39mwith_aos_dof(dofInUm)\n\u001b[1;32m      <a href='vscode-notebook-cell://ssh-remote%2Blsst-devl02/home/gmegias/jhome/aos/ts_analysis_notebooks/aos/closed_loop/ClosedLoopSimulationBatoid.ipynb#ch0000008vscode-remote?line=1'>2</a>\u001b[0m optic \u001b[39m=\u001b[39m builder\u001b[39m.\u001b[39mbuild()\n\u001b[1;32m      <a href='vscode-notebook-cell://ssh-remote%2Blsst-devl02/home/gmegias/jhome/aos/ts_analysis_notebooks/aos/closed_loop/ClosedLoopSimulationBatoid.ipynb#ch0000008vscode-remote?line=3'>4</a>\u001b[0m iterCount \u001b[39m+\u001b[39m\u001b[39m=\u001b[39m \u001b[39m1\u001b[39m\n",
      "\u001b[0;31mNameError\u001b[0m: name 'builder' is not defined"
     ]
    }
   ],
   "source": [
    "builder = builder.with_aos_dof(dofInUm)\n",
    "optic = builder.build()\n",
    "\n",
    "iterCount += 1\n",
    "outputDirName = \"pert\"\n",
    "outputImgDirName = \"img\"\n",
    "iterDefaultDirName = \"iter\"\n",
    "baseOutputDir = closeLoopTask.checkAndCreateBaseOutputDir(args.output)\n",
    "# The iteration directory\n",
    "iterDirName = \"%s%d\" % (iterDefaultDirName, iterCount)\n",
    "\n",
    "outputDir = os.path.join(baseOutputDir, iterDirName, outputDirName)\n",
    "closeLoopTask.phosimCmpt.setOutputDir(outputDir)\n",
    "\n",
    "outputDir = os.path.join(baseOutputDir, iterDirName, outputImgDirName)\n",
    "closeLoopTask.phosimCmpt.setOutputDir(outputDir)"
   ]
  },
  {
   "cell_type": "code",
   "execution_count": 15,
   "id": "72a88e36",
   "metadata": {},
   "outputs": [],
   "source": [
    "outputImgDirName = \"img\"\n",
    "outputImgDir = os.path.join(baseOutputDir, iterDirName, outputImgDirName)\n",
    "\n",
    "closeLoopTask.batoidCmpt.metr.setWgtAndFieldXyOfGQ(instName)\n",
    "closeLoopTask.batoidCmpt.setOutputImgDir(outputImgDir)\n",
    "\n",
    "closeLoopTask.phosimCmpt.analyzeOpdData(\n",
    "    instName,\n",
    "    zkFileName=opdZkFileName,\n",
    "    rotOpdInDeg=-rotCamInDeg,\n",
    "    pssnFileName=opdPssnFileName,\n",
    ")\n"
   ]
  },
  {
   "cell_type": "code",
   "execution_count": 11,
   "id": "04bd7172",
   "metadata": {},
   "outputs": [
    {
     "name": "stdout",
     "output_type": "stream",
     "text": [
      "Calculated PSSN is [0.5861822  0.58574083 0.59020358 0.58073176 0.57745064 0.58226992\n",
      " 0.58156714 0.57865639 0.58104174].\n",
      "GQ effective FWHM is 0.5515.\n",
      "Setting FWHM data...\n",
      "FWHM data set, took 0.0016791820526123047 seconds.\n"
     ]
    }
   ],
   "source": [
    "# Get the PSSN from file\n",
    "pssn = closeLoopTask.batoidCmpt.getOpdPssnFromFile(opdPssnFileName)\n",
    "print(\"Calculated PSSN is %s.\" % pssn)\n",
    "\n",
    "# Get the GQ effective FWHM from file\n",
    "gqEffFwhm = closeLoopTask.batoidCmpt.getOpdGqEffFwhmFromFile(opdPssnFileName)\n",
    "print(\"GQ effective FWHM is %.4f.\" % gqEffFwhm)\n",
    "\n",
    "# Set the FWHM data\n",
    "print(\"Setting FWHM data...\")\n",
    "t0 = time.time()\n",
    "fwhm, sensor_id = closeLoopTask.batoidCmpt.getListOfFwhmSensorData(\n",
    "    opdPssnFileName, refSensorIdList\n",
    ")\n",
    "\n",
    "closeLoopTask.ofcCalc.set_fwhm_data(fwhm, sensor_id)\n",
    "ttl_time = time.time() - t0\n",
    "print(\"FWHM data set, took {} seconds.\".format(ttl_time))"
   ]
  },
  {
   "cell_type": "code",
   "execution_count": 13,
   "id": "43728956",
   "metadata": {},
   "outputs": [
    {
     "name": "stdout",
     "output_type": "stream",
     "text": [
      "Calculating DOF...\n",
      "DOF computed. Took 0.0004107952117919922 seconds.\n",
      "Calculating corrections...\n",
      "Corrections computed. Took 0.013369083404541016 seconds.\n",
      "Setting and saving new DOF...\n",
      "New DOF saved. Took 0.0019941329956054688 seconds.\n"
     ]
    }
   ],
   "source": [
    "# Record the wavefront error with the same order as OPD for the\n",
    "# comparison\n",
    "\n",
    "\n",
    "# Calculate the DOF\n",
    "print('Calculating DOF...')\n",
    "t0 = time.time()\n",
    "wfe = np.array(\n",
    "    [sensor_wfe.getAnnularZernikePoly() for sensor_wfe in listOfWfErr]\n",
    ")\n",
    "sensor_ids = np.array(\n",
    "    [sensor_wfe.getSensorId() for sensor_wfe in listOfWfErr]\n",
    ")\n",
    "ttl_time = time.time() - t0\n",
    "print('DOF computed. Took {} seconds.'.format(ttl_time))\n",
    "\n",
    "print('Calculating corrections...')\n",
    "t0 = time.time()\n",
    "closeLoopTask.ofcCalc.calculate_corrections(\n",
    "    wfe=wfe,\n",
    "    field_idx=sensor_ids,\n",
    "    filter_name=str('R'),\n",
    "    gain=-1,\n",
    "    rot=rotAngInDeg,\n",
    ")\n",
    "ttl_time = time.time() - t0\n",
    "print('Corrections computed. Took {} seconds.'.format(ttl_time))\n",
    "\n",
    "# Set the new aggregated DOF to phosimCmpt\n",
    "print('Setting and saving new DOF...')\n",
    "t0 = time.time()\n",
    "dofInUm = closeLoopTask.ofcCalc.ofc_controller.aggregated_state\n",
    "closeLoopTask.batoidCmpt.setDofInUm(dofInUm)\n",
    "\n",
    "# Save the DOF file\n",
    "closeLoopTask.batoidCmpt.saveDofInUmFileForNextIter(\n",
    "    dofInUm\n",
    ")\n",
    "ttl_time = time.time() - t0\n",
    "print('New DOF saved. Took {} seconds.'.format(ttl_time))\n",
    "\n",
    "# Add the observation ID by 10 for the next iteration\n",
    "obsId += 10"
   ]
  },
  {
   "cell_type": "markdown",
   "id": "089888d0",
   "metadata": {},
   "source": [
    "The wavefront error of the first simulation iteration is printed below"
   ]
  },
  {
   "cell_type": "markdown",
   "id": "b460d8b7",
   "metadata": {},
   "source": [
    "### Summarize the FWHM and plot results"
   ]
  },
  {
   "cell_type": "code",
   "execution_count": 29,
   "id": "7931ffa4",
   "metadata": {},
   "outputs": [],
   "source": [
    "# Summarize the FWHM\n",
    "fwhmItersFileName = \"fwhmIters.png\"\n",
    "pssnFiles = [\n",
    "    os.path.join(\n",
    "        baseOutputDir,\n",
    "        \"%s%d\" % (iterDefaultDirName, num),\n",
    "        outputImgDirName,\n",
    "        opdPssnFileName,\n",
    "    )\n",
    "    for num in [0,1,2,3]\n",
    "]\n",
    "saveToFilePath = os.path.join(baseOutputDir, fwhmItersFileName)\n",
    "plotFwhmOfIters(pssnFiles, saveToFilePath=saveToFilePath)"
   ]
  },
  {
   "cell_type": "code",
   "execution_count": 30,
   "id": "2d95f6ed",
   "metadata": {},
   "outputs": [
    {
     "name": "stderr",
     "output_type": "stream",
     "text": [
      "/tmp/ipykernel_1804689/2572018048.py:10: UserWarning: Matplotlib is currently using agg, which is a non-GUI backend, so cannot show the figure.\n",
      "  plt.show()\n"
     ]
    }
   ],
   "source": [
    "# importing Image class from PIL package\n",
    "from PIL import Image\n",
    "import numpy as np\n",
    "import matplotlib.pyplot as plt\n",
    "\n",
    "im = np.array(Image.open(saveToFilePath))\n",
    "plt.figure(figsize=(10,10))\n",
    "plt.imshow(im)\n",
    "plt.axis('off')\n",
    "plt.show()\n"
   ]
  },
  {
   "cell_type": "code",
   "execution_count": null,
   "id": "ce7309e5",
   "metadata": {},
   "outputs": [],
   "source": [
    "for idx in [0]:\n",
    "\n",
    "    image_file = get_pkg_data_filename('/home/gmegias/jhome/aos/perturbations/test2253/iter0/img/opd_9006000_4.fits.gz')\n",
    "    image_data = fits.getdata(image_file, ext=0)\n",
    "    masked =np.ma.masked_where(image_data == 0, image_data)\n",
    "\n",
    "    image_file = get_pkg_data_filename('/home/gmegias/jhome/aos/perturbations/testNe3/iter0/img/opd_9006000_4.fits.gz')\n",
    "    image_data2 = fits.getdata(image_file, ext=0)\n",
    "    masked2 =np.ma.masked_where(image_data2 == 0, image_data2)\n",
    "\n",
    "\n",
    "    print(np.min(image_data))\n",
    "    print(np.max(image_data))\n",
    "\n",
    "    plt.figure(figsize = (10,9))\n",
    "    plt.imshow(abs(masked - masked2))\n",
    "    plt.colorbar()\n",
    "    plt.savefig('/home/gmegias/jhome/aos/perturbations/trial/diff_imagsse0{}s.png'.format(idx))\n",
    "    plt.close()"
   ]
  }
 ],
 "metadata": {
  "kernelspec": {
   "display_name": "Python 3 (ipykernel)",
   "language": "python",
   "name": "python3"
  },
  "language_info": {
   "codemirror_mode": {
    "name": "ipython",
    "version": 3
   },
   "file_extension": ".py",
   "mimetype": "text/x-python",
   "name": "python",
   "nbconvert_exporter": "python",
   "pygments_lexer": "ipython3",
   "version": "3.10.5"
  },
  "vscode": {
   "interpreter": {
    "hash": "31f2aee4e71d21fbe5cf8b01ff0e069b9275f58929596ceb00d14d90e3e16cd6"
   }
  }
 },
 "nbformat": 4,
 "nbformat_minor": 5
}
