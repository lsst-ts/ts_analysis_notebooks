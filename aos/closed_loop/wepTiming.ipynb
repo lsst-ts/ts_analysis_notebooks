{
 "cells": [
  {
   "cell_type": "markdown",
   "id": "62b1ed9e-ae0e-4e4e-9a31-bd10a6b8d1b2",
   "metadata": {},
   "source": [
    "# WEP Timing Tests\n",
    "\n",
    "Owner: **Bryce Kalmbach** ([@jbkalmbach](https://github.com/lsst-ts/ts_analysis_notebooks/issues/new?body=@jbkalmbach))\n",
    "<br>Last Verified to Run: **2022-07-05**\n",
    "<br>Software Versions:\n",
    "  - `lsst_distrib`: **w_2022_22**"
   ]
  },
  {
   "cell_type": "markdown",
   "id": "f1f938b8-1eb7-4ff2-b16f-9c2849377745",
   "metadata": {},
   "source": [
    "## Notebook Objective\n",
    "\n",
    "The goal of this notebook is to calculate the time various tasks in the AOS Wavefront Estimation Pipeline take and to keep track of how they have changed over time."
   ]
  },
  {
   "cell_type": "markdown",
   "id": "65324d4e-16c4-409d-ab17-f6f27f07926f",
   "metadata": {},
   "source": [
    "## Logistics\n",
    "\n",
    "The data used to gather timing information is stored on NCSA and this notebook has been created and tested on the Rubin Science Platform at https://lsst-rsp-stable.ncsa.illinois.edu/nb.\n",
    "\n",
    "The data used for timing was created for a low density field and a high density field using three different versions of the `ts_wep` pipeline:\n",
    "\n",
    "1. `ts_wep` v2.3.6: This version is an older baseline version before optimizations in the loop structure of the Zernike estimation code.\n",
    "2. `ts_wep` v2.4.0 w/ `EstimateZernikesCwfsTask` (Old Pipeline): This version is a newer version with code optimizations within the Zernike estimation code but uses a Gen 3 task `EstimateZernikesCwfsTask` that combines the postage stamp creation of donut sources and the Zernike estimation into a single task. Since we need to load extra and intra-focal images together when creating the donut postage stamps we cannot parallelize across the 4 pairs of donut sensors as the DM pipeline is not set up to parallelize across pairs of detectors only across individual detectors.\n",
    "3. `ts_wep` v2.4.0 w/ `CutOutDonutStampsCwfsTask` and `CalcZernikesTask`: This version has the optimizations within the Zernike estimation code as well as breaking the donut postage stamp creation and Zernike calculation steps into two separate Gen 3 tasks. The `CutOutDonutsCwfsTask` cuts out the donut postage stamps from the extra and intra-focal pairs of stamps and then saves these all under the data ID of the extrafocal detector. Therefore when calculating the Zernikes for each pair of wavefront detectors we only need to call the extra-focal detectors and the DM pipeline can parallelize the calculation across the data associated with the 4 extra-focal sensors in separate tasks using `CalcZernikesTask`.\n",
    "\n",
    "Sample pipeline commands used to run on `lsst-devl` and generate the data are below."
   ]
  },
  {
   "cell_type": "markdown",
   "id": "186905aa-8ad1-4655-9e15-8e62d8cfca3b",
   "metadata": {},
   "source": [
    "Sample pipeline command used for this notebook (low density field): \n",
    "```\n",
    "pipetask run -b /project/aos/data_repos/aosTestDataRepo -i refcats/DM-28636,LSSTCam/raw/all,LSSTCam/calib/unbounded --instrument lsst.obs.lsst.LsstCam --register-dataset-types --output-run cwfs_test_052022_new_pipeline_low_dens -p /home/brycek/jhome/notebooks/Commissioning/aos/ts_analysis_notebooks/aos/aos_milestones/lsstCwfsPipelineNew.yaml -d \"exposure IN (4021123110021) and detector IN (191, 192, 195, 196, 199, 200, 203, 204)\" -j 4\n",
    "```"
   ]
  },
  {
   "cell_type": "markdown",
   "id": "32611250-34aa-4fd6-a87a-b346df9ba367",
   "metadata": {},
   "source": [
    "Sample pipeline command used for this notebook (high density field): \n",
    "```\n",
    "pipetask run -b /project/aos/data_repos/aosTestDataRepo -i refcats/DM-28636,LSSTCam/raw/all,LSSTCam/calib/unbounded --instrument lsst.obs.lsst.LsstCam --register-dataset-types --output-run cwfs_test_052022_new_pipeline_high_dens -p /home/brycek/jhome/notebooks/Commissioning/aos/ts_analysis_notebooks/aos/aos_milestones/lsstCwfsPipelineNew.yaml -d \"exposure IN (4021123106040) and detector IN (191, 192, 195, 196, 199, 200, 203, 204)\" -j 4\n",
    "```"
   ]
  },
  {
   "cell_type": "code",
   "execution_count": 2,
   "id": "38556569-8e0c-49e8-8365-4797b1566372",
   "metadata": {
    "tags": []
   },
   "outputs": [],
   "source": [
    "# Some basic imports\n",
    "import os\n",
    "import numpy as np\n",
    "import matplotlib.pyplot as plt\n",
    "import astropy.units as u\n",
    "from astropy.time import Time\n",
    "%matplotlib inline\n",
    "# This allows us to run command line tasks from inside the notebook easier\n",
    "from lsst.ts.wep.Utility import runProgram, writePipetaskCmd, writeCleanUpRepoCmd\n",
    "\n",
    "# Location of ts_wep\n",
    "ts_wep_dir = os.environ['TS_WEP_DIR']\n",
    "\n",
    "# Import Gen 3 Butler\n",
    "from lsst.daf import butler as dafButler\n",
    "\n",
    "# Enable markdown within code cell\n",
    "from IPython.display import Markdown as md"
   ]
  },
  {
   "cell_type": "markdown",
   "id": "61572ee0-25a5-4d0e-9c6b-e5ecbf751dfb",
   "metadata": {},
   "source": [
    "## Prepare butler and dataIds\n",
    "\n",
    "Here we load the butler that stores AOS test data on `lsst-devl` and generate the data IDs for the low and high density fields."
   ]
  },
  {
   "cell_type": "code",
   "execution_count": 3,
   "id": "25f18c49-6433-4b63-9f4d-5427a3bd2d7a",
   "metadata": {},
   "outputs": [],
   "source": [
    "# First specify the repository location\n",
    "repoDir = '/project/aos/data_repos/aosTestDataRepo'"
   ]
  },
  {
   "cell_type": "code",
   "execution_count": 4,
   "id": "1577953a",
   "metadata": {},
   "outputs": [],
   "source": [
    "butler = dafButler.Butler(repoDir)\n",
    "registry = butler.registry"
   ]
  },
  {
   "cell_type": "markdown",
   "id": "e0154f32-cd58-4dc1-94fa-2913cbfd72de",
   "metadata": {},
   "source": [
    "The 3 different pipelines were run for both low and high density fields and are the six `cwfs_test_052022` collections below."
   ]
  },
  {
   "cell_type": "code",
   "execution_count": 5,
   "id": "9b0de9c7-387f-458b-8d1f-f53443636f24",
   "metadata": {},
   "outputs": [
    {
     "data": {
      "text/plain": [
       "['refcats/DM-28636',\n",
       " 'LSSTCam/raw/all',\n",
       " 'LSSTCam/calib',\n",
       " 'LSSTCam/calib/unbounded',\n",
       " 'w_2022_06',\n",
       " 'cwfs_test_052022_orig_pipeline_high_dens',\n",
       " 'cwfs_test_052022_new_pipeline_high_dens',\n",
       " 'cwfs_test_052022_orig_pipeline_high_dens_pre_optimize',\n",
       " 'cwfs_test_052022_new_pipeline_low_dens',\n",
       " 'cwfs_test_052022_orig_pipeline_low_dens',\n",
       " 'cwfs_test_052022_orig_pipeline_low_dens_pre_optimize']"
      ]
     },
     "execution_count": 5,
     "metadata": {},
     "output_type": "execute_result"
    }
   ],
   "source": [
    "list(registry.queryCollections())"
   ]
  },
  {
   "cell_type": "code",
   "execution_count": 6,
   "id": "56bcae35-65f8-4fd5-8ec5-e5d24198eb5a",
   "metadata": {},
   "outputs": [],
   "source": [
    "dataIdExtra_lowDens = {'instrument': 'LSSTCam', 'detector': 191, 'exposure': 4021123110021, 'visit': 4021123110021}\n",
    "dataIdIntra_lowDens = {'instrument': 'LSSTCam', 'detector': 192, 'exposure': 4021123110021, 'visit': 4021123110021}"
   ]
  },
  {
   "cell_type": "code",
   "execution_count": 7,
   "id": "f2f1626a",
   "metadata": {},
   "outputs": [],
   "source": [
    "dataIdExtra_highDens = {'instrument': 'LSSTCam', 'detector': 191, 'exposure': 4021123106040, 'visit': 4021123106040}\n",
    "dataIdIntra_highDens = {'instrument': 'LSSTCam', 'detector': 192, 'exposure': 4021123106040, 'visit': 4021123106040}"
   ]
  },
  {
   "cell_type": "markdown",
   "id": "85d0b39a-f4a5-4ce3-809c-4db91e061542",
   "metadata": {},
   "source": [
    "## Timing Tests"
   ]
  },
  {
   "cell_type": "markdown",
   "id": "776d6289-f3d8-4d51-8cc8-5755932f4c57",
   "metadata": {},
   "source": [
    "We get the timing information for each pipeline task by gathering the data from the associated metadata stored in the butler repository.\n",
    "\n",
    "There are three steps to the wavefront estimation pipeline that are broken down into three or four pipeline tasks depending on the version used. We go through each of them here in order that they are run."
   ]
  },
  {
   "cell_type": "code",
   "execution_count": 8,
   "id": "c86f510b-aa1e-4e04-a14a-83f2a73fdbd8",
   "metadata": {},
   "outputs": [],
   "source": [
    "def getTaskTimingData(taskMetadata):\n",
    "    \"\"\"Take the task metadata and get the timing data for the quantum\n",
    "    that performed the task.\n",
    "    \n",
    "    Parameters\n",
    "    ----------\n",
    "    taskMetadata : dict\n",
    "        Metadata stored in the butler repo after completion of the task.\n",
    "        \n",
    "    Returns\n",
    "    -------\n",
    "    float\n",
    "        Timing data for the task quantum in seconds.\n",
    "    \"\"\"\n",
    "    \n",
    "    startTime = Time(taskMetadata['quantum']['prepUtc'])\n",
    "    endTime = Time(taskMetadata['quantum']['endUtc'])\n",
    "    \n",
    "    return (endTime-startTime).to_value(u.second)"
   ]
  },
  {
   "cell_type": "markdown",
   "id": "4f2a88ca-98c4-47d4-8270-1ec6cf5e8ec2",
   "metadata": {},
   "source": [
    "### ISR"
   ]
  },
  {
   "cell_type": "markdown",
   "id": "9040a325-101e-47d1-acf4-0f042f7ac16d",
   "metadata": {},
   "source": [
    "We currently run ISR with the following configuration:\n",
    "\n",
    "```\n",
    "doBias: False\n",
    "doVariance: False\n",
    "doLinearize: False\n",
    "doCrosstalk: False\n",
    "doDefect: False\n",
    "doNanMasking: False\n",
    "doInterpolate: False\n",
    "doBrighterFatter: False\n",
    "doDark: False\n",
    "doFlat: False\n",
    "doApplyGains: True\n",
    "doFringe: False\n",
    "doOverscan: True\n",
    "```"
   ]
  },
  {
   "cell_type": "markdown",
   "id": "f047db5b-d671-4e0a-b017-febf0dc44666",
   "metadata": {},
   "source": [
    "#### Low Density Field\n",
    "\n",
    "Only check the timing on this for one of the high density runs since this should be roughly the same for all pipelines."
   ]
  },
  {
   "cell_type": "code",
   "execution_count": 9,
   "id": "e57a11d1-352d-421b-b31c-6a505b6816b4",
   "metadata": {},
   "outputs": [],
   "source": [
    "runName = 'cwfs_test_052022_orig_pipeline_low_dens'\n",
    "\n",
    "isrTimes_lowDens = []\n",
    "for detectorNum in [191, 195, 199, 203]:\n",
    "    dataIdExtra_lowDens['detector'] = detectorNum\n",
    "    taskMetadata = butler.get('isr_metadata', dataId=dataIdExtra_lowDens, collections=[runName])\n",
    "    taskTime = getTaskTimingData(taskMetadata)\n",
    "    isrTimes_lowDens.append(taskTime)\n",
    "    \n",
    "for detectorNum in [192, 196, 200, 204]:\n",
    "    dataIdIntra_lowDens['detector'] = detectorNum\n",
    "    taskMetadata = butler.get('isr_metadata', dataId=dataIdIntra_lowDens, collections=[runName])\n",
    "    taskTime = getTaskTimingData(taskMetadata)\n",
    "    isrTimes_lowDens.append(taskTime)"
   ]
  },
  {
   "cell_type": "code",
   "execution_count": 10,
   "id": "2fb79e18-1fc7-4c40-abfe-a6691b2f5e6a",
   "metadata": {},
   "outputs": [
    {
     "data": {
      "text/plain": [
       "[4.870624999994888,\n",
       " 7.766533000006248,\n",
       " 4.723642000006123,\n",
       " 4.458890999999809,\n",
       " 6.6083000000105585,\n",
       " 5.547791999995155,\n",
       " 4.410623999996588,\n",
       " 4.513418000003]"
      ]
     },
     "execution_count": 10,
     "metadata": {},
     "output_type": "execute_result"
    }
   ],
   "source": [
    "isrTimes_lowDens"
   ]
  },
  {
   "cell_type": "code",
   "execution_count": 11,
   "id": "0d9ae912-d25f-4683-9d73-683ddd243834",
   "metadata": {},
   "outputs": [],
   "source": [
    "isrTimes_lowDens_avg = np.mean(isrTimes_lowDens)\n",
    "isrTimes_lowDens_max = np.max(isrTimes_lowDens)"
   ]
  },
  {
   "cell_type": "code",
   "execution_count": 12,
   "id": "bf73cff5-a016-40a7-b553-ef57b1846d55",
   "metadata": {},
   "outputs": [
    {
     "data": {
      "text/markdown": [
       "Average ISR time for detector in low density field: 5.3625 seconds. <br>Max ISR time for detector in low density field: 7.7665 seconds."
      ],
      "text/plain": [
       "<IPython.core.display.Markdown object>"
      ]
     },
     "execution_count": 12,
     "metadata": {},
     "output_type": "execute_result"
    }
   ],
   "source": [
    "md(\n",
    "    f\"Average ISR time for detector in low density field: {isrTimes_lowDens_avg:.4f} seconds. <br>\" +\n",
    "    f\"Max ISR time for detector in low density field: {isrTimes_lowDens_max:.4f} seconds.\"\n",
    ")"
   ]
  },
  {
   "cell_type": "markdown",
   "id": "aa56c9e1-997b-4717-8279-13131a6843e8",
   "metadata": {},
   "source": [
    "#### High Density Field\n",
    "\n",
    "Only check the timing on this for one of the high density runs since this should be roughly the same for all pipelines."
   ]
  },
  {
   "cell_type": "code",
   "execution_count": 13,
   "id": "d50d179f-8f72-45e4-8722-f9b3e3062678",
   "metadata": {},
   "outputs": [],
   "source": [
    "runName = 'cwfs_test_052022_orig_pipeline_high_dens'\n",
    "\n",
    "isrTimes_highDens = []\n",
    "for detectorNum in [191, 195, 199, 203]:\n",
    "    dataIdExtra_highDens['detector'] = detectorNum\n",
    "    taskMetadata = butler.get('isr_metadata', dataId=dataIdExtra_highDens, collections=[runName])\n",
    "    taskTime = getTaskTimingData(taskMetadata)\n",
    "    isrTimes_highDens.append(taskTime)\n",
    "    \n",
    "for detectorNum in [192, 196, 200, 204]:\n",
    "    dataIdIntra_highDens['detector'] = detectorNum\n",
    "    taskMetadata = butler.get('isr_metadata', dataId=dataIdIntra_highDens, collections=[runName])\n",
    "    taskTime = getTaskTimingData(taskMetadata)\n",
    "    isrTimes_highDens.append(taskTime)"
   ]
  },
  {
   "cell_type": "code",
   "execution_count": 14,
   "id": "4f945389-4a0a-4823-8e34-350bf3074155",
   "metadata": {},
   "outputs": [
    {
     "data": {
      "text/plain": [
       "[4.484133999997297,\n",
       " 5.642279999995381,\n",
       " 7.98836699999157,\n",
       " 4.6095300000033035,\n",
       " 4.540957000008206,\n",
       " 4.4360659999913565,\n",
       " 4.295187999999328,\n",
       " 6.707979999989533]"
      ]
     },
     "execution_count": 14,
     "metadata": {},
     "output_type": "execute_result"
    }
   ],
   "source": [
    "isrTimes_highDens"
   ]
  },
  {
   "cell_type": "code",
   "execution_count": 15,
   "id": "0c1169dd-ca61-4943-982a-c122fba08767",
   "metadata": {},
   "outputs": [],
   "source": [
    "isrTimes_highDens_avg = np.mean(isrTimes_highDens)\n",
    "isrTimes_highDens_max = np.max(isrTimes_highDens)"
   ]
  },
  {
   "cell_type": "code",
   "execution_count": 16,
   "id": "728b3a76-de3b-47b6-a520-a7cb47270d33",
   "metadata": {},
   "outputs": [
    {
     "data": {
      "text/markdown": [
       "Average ISR time for detector in high density field: 5.3381 seconds. <br>Max ISR time for detector in high density field: 7.9884 seconds."
      ],
      "text/plain": [
       "<IPython.core.display.Markdown object>"
      ]
     },
     "execution_count": 16,
     "metadata": {},
     "output_type": "execute_result"
    }
   ],
   "source": [
    "md(\n",
    "    f\"Average ISR time for detector in high density field: {isrTimes_highDens_avg:.4f} seconds. <br>\" +\n",
    "    f\"Max ISR time for detector in high density field: {isrTimes_highDens_max:.4f} seconds.\"\n",
    ")"
   ]
  },
  {
   "cell_type": "markdown",
   "id": "74e3f65d-19d7-4b2e-af62-0bd8b68d5580",
   "metadata": {},
   "source": [
    "### Generate Donut Catalog"
   ]
  },
  {
   "cell_type": "markdown",
   "id": "9920c038-4d7d-4f33-afd2-002528e8d92c",
   "metadata": {},
   "source": [
    "This step loads the reference catalog sources that fall on the detector and then runs the donut source selection code. It then saves the resulting donut catalog to the butler.\n",
    "Once again this step should be the same for all pipelines but this will differ in the low vs. high density fields based upon the number of sources the selector needs to evalulate."
   ]
  },
  {
   "cell_type": "markdown",
   "id": "7357b0a0-48c2-410c-8f41-d8df6a15214d",
   "metadata": {},
   "source": [
    "#### Low density field"
   ]
  },
  {
   "cell_type": "code",
   "execution_count": 17,
   "id": "53097e5c-2ead-4d95-a323-638e3022ca6e",
   "metadata": {},
   "outputs": [],
   "source": [
    "runName = 'cwfs_test_052022_orig_pipeline_low_dens'\n",
    "\n",
    "generateDonutCatalogTimes_lowDens = []\n",
    "numCatalogObjects_lowDens = []\n",
    "for detectorNum in [191, 195, 199, 203]:\n",
    "    dataIdExtra_lowDens['detector'] = detectorNum\n",
    "    taskLog = butler.get('generateDonutCatalogWcsTask_log', dataId=dataIdExtra_lowDens, collections=[runName])\n",
    "    taskMetadata = butler.get('generateDonutCatalogWcsTask_metadata', dataId=dataIdExtra_lowDens, collections=[runName])\n",
    "    taskTime = getTaskTimingData(taskMetadata)\n",
    "    generateDonutCatalogTimes_lowDens.append(taskTime)\n",
    "    taskNumObj = int(taskLog[-4].message.split(' ')[1])\n",
    "    numCatalogObjects_lowDens.append(taskNumObj)\n",
    "    \n",
    "for detectorNum in [192, 196, 200, 204]:\n",
    "    dataIdIntra_lowDens['detector'] = detectorNum\n",
    "    taskLog = butler.get('generateDonutCatalogWcsTask_log', dataId=dataIdIntra_lowDens, collections=[runName])\n",
    "    taskMetadata = butler.get('generateDonutCatalogWcsTask_metadata', dataId=dataIdIntra_lowDens, collections=[runName])\n",
    "    taskTime = getTaskTimingData(taskMetadata)\n",
    "    generateDonutCatalogTimes_lowDens.append(taskTime)\n",
    "    taskNumObj = int(taskLog[-4].message.split(' ')[1])\n",
    "    numCatalogObjects_lowDens.append(taskNumObj)"
   ]
  },
  {
   "cell_type": "code",
   "execution_count": 18,
   "id": "792b14d7-2bc0-4d64-be46-5b39bf5e1231",
   "metadata": {},
   "outputs": [],
   "source": [
    "donutCatalogTime_lowDens_max = max(generateDonutCatalogTimes_lowDens)\n",
    "donutCatalogTime_lowDens_avg = np.mean(generateDonutCatalogTimes_lowDens)"
   ]
  },
  {
   "cell_type": "code",
   "execution_count": 19,
   "id": "2e2f5906-2532-44f3-bf1f-0018d48bef2f",
   "metadata": {},
   "outputs": [],
   "source": [
    "numCatalogObjects_lowDens_max = max(numCatalogObjects_lowDens)\n",
    "numCatalogObjects_lowDens_avg = np.mean(numCatalogObjects_lowDens)"
   ]
  },
  {
   "cell_type": "code",
   "execution_count": 20,
   "id": "7cd7b65f-9165-4026-95a7-cd740aaa1df3",
   "metadata": {},
   "outputs": [
    {
     "data": {
      "text/markdown": [
       "Average donut catalog creation time for detector in low density field is 1.2453 seconds with an average of 1266.25 reference catalog sources on each chip. <br>Max donut catalog creation time for detector in low density field is 1.4195 seconds with 1703 reference catalog sources on the chip. <br>"
      ],
      "text/plain": [
       "<IPython.core.display.Markdown object>"
      ]
     },
     "execution_count": 20,
     "metadata": {},
     "output_type": "execute_result"
    }
   ],
   "source": [
    "md(\n",
    "    f\"Average donut catalog creation time for detector in low density field is {donutCatalogTime_lowDens_avg:.4f} seconds \" +\n",
    "    f\"with an average of {numCatalogObjects_lowDens_avg} reference catalog sources on each chip. <br>\" +\n",
    "    f\"Max donut catalog creation time for detector in low density field is {donutCatalogTime_lowDens_max:.4f} seconds \" +\n",
    "    f\"with {numCatalogObjects_lowDens_max} reference catalog sources on the chip. <br>\" \n",
    ")"
   ]
  },
  {
   "cell_type": "markdown",
   "id": "aed8f5d0-4562-477a-963f-a573826eb7b5",
   "metadata": {},
   "source": [
    "#### High density field"
   ]
  },
  {
   "cell_type": "code",
   "execution_count": 21,
   "id": "763ff342-957a-4a1f-97d5-fc3f406a0d0c",
   "metadata": {},
   "outputs": [],
   "source": [
    "runName = 'cwfs_test_052022_orig_pipeline_high_dens'\n",
    "\n",
    "generateDonutCatalogTimes_highDens = []\n",
    "numCatalogObjects_highDens = []\n",
    "for detectorNum in [191, 195, 199, 203]:\n",
    "    dataIdExtra_highDens['detector'] = detectorNum\n",
    "    taskLog = butler.get('generateDonutCatalogWcsTask_log', dataId=dataIdExtra_highDens, collections=[runName])\n",
    "    taskMetadata = butler.get('generateDonutCatalogWcsTask_metadata', dataId=dataIdExtra_highDens, collections=[runName])\n",
    "    taskTime = getTaskTimingData(taskMetadata)\n",
    "    generateDonutCatalogTimes_highDens.append(taskTime)\n",
    "    taskNumObj = int(taskLog[-4].message.split(' ')[1])\n",
    "    numCatalogObjects_highDens.append(taskNumObj)\n",
    "\n",
    "for detectorNum in [192, 196, 200, 204]:\n",
    "    dataIdIntra_highDens['detector'] = detectorNum\n",
    "    taskLog = butler.get('generateDonutCatalogWcsTask_log', dataId=dataIdIntra_highDens, collections=[runName])\n",
    "    taskMetadata = butler.get('generateDonutCatalogWcsTask_metadata', dataId=dataIdIntra_highDens, collections=[runName])\n",
    "    taskTime = getTaskTimingData(taskMetadata)\n",
    "    generateDonutCatalogTimes_highDens.append(taskTime)\n",
    "    taskNumObj = int(taskLog[-4].message.split(' ')[1])\n",
    "    numCatalogObjects_highDens.append(taskNumObj)"
   ]
  },
  {
   "cell_type": "code",
   "execution_count": 22,
   "id": "ad50e911-1a3c-41ca-bb55-9a09fa3072db",
   "metadata": {},
   "outputs": [],
   "source": [
    "donutCatalogTime_highDens_max = max(generateDonutCatalogTimes_highDens)\n",
    "donutCatalogTime_highDens_avg = np.mean(generateDonutCatalogTimes_highDens)"
   ]
  },
  {
   "cell_type": "code",
   "execution_count": 23,
   "id": "f4bfc9de-e02c-4500-ad80-99e3dd7bbc41",
   "metadata": {},
   "outputs": [],
   "source": [
    "numCatalogObjects_highDens_max = max(numCatalogObjects_highDens)\n",
    "numCatalogObjects_highDens_avg = np.mean(numCatalogObjects_highDens)"
   ]
  },
  {
   "cell_type": "code",
   "execution_count": 24,
   "id": "5a84cbd8-1edf-418a-ad0e-ab97deb78dc7",
   "metadata": {},
   "outputs": [
    {
     "data": {
      "text/markdown": [
       "Average donut catalog creation time for detector in high density field is 7.0758 seconds with an average of 11018.0 reference catalog sources on each chip. <br>Max donut catalog creation time for detector in high density field is 11.6207 seconds with 13374 reference catalog sources on the chip. <br>"
      ],
      "text/plain": [
       "<IPython.core.display.Markdown object>"
      ]
     },
     "execution_count": 24,
     "metadata": {},
     "output_type": "execute_result"
    }
   ],
   "source": [
    "md(\n",
    "    f\"Average donut catalog creation time for detector in high density field is {donutCatalogTime_highDens_avg:.4f} seconds \" +\n",
    "    f\"with an average of {numCatalogObjects_highDens_avg} reference catalog sources on each chip. <br>\" +\n",
    "    f\"Max donut catalog creation time for detector in high density field is {donutCatalogTime_highDens_max:.4f} seconds \" +\n",
    "    f\"with {numCatalogObjects_highDens_max} reference catalog sources on the chip. <br>\" \n",
    ")"
   ]
  },
  {
   "cell_type": "markdown",
   "id": "86c20223-080e-4af6-bff0-dd16538d3f7a",
   "metadata": {},
   "source": [
    "### Estimate Zernikes\n",
    "\n",
    "Here is where the pipelines start to diverge. In the first two instances there is only one task that performs both the donut postage stamp creation and the Zernike estimation. In the final instance (v2.4.0 w/ New Pipeline) this is split in two tasks.\n",
    "\n",
    "In this section we will first load all the data and then compare the results at the end."
   ]
  },
  {
   "cell_type": "markdown",
   "id": "85e9ad10-0623-4062-9d63-f1990cb6d8d9",
   "metadata": {},
   "source": [
    "#### `ts_wep` v2.3.6 (Pre-Optimize)"
   ]
  },
  {
   "cell_type": "markdown",
   "id": "41f89cfb-c820-4305-8fcf-127572014c2d",
   "metadata": {
    "tags": []
   },
   "source": [
    "##### Low Density"
   ]
  },
  {
   "cell_type": "code",
   "execution_count": 25,
   "id": "464caead-4b88-48a0-8fea-bb5dec5a0798",
   "metadata": {},
   "outputs": [],
   "source": [
    "runName = 'cwfs_test_052022_orig_pipeline_low_dens_pre_optimize'\n",
    "\n",
    "taskMetadata = butler.get('estimateZernikesCwfsTask_metadata', dataId=dataIdExtra_lowDens, collections=[runName])\n",
    "origPipelineTime_preOptimize_lowDens = getTaskTimingData(taskMetadata)"
   ]
  },
  {
   "cell_type": "markdown",
   "id": "49bdbcb4-c867-4396-bacf-3df877d69413",
   "metadata": {
    "tags": []
   },
   "source": [
    "##### High Density"
   ]
  },
  {
   "cell_type": "code",
   "execution_count": 26,
   "id": "29e6f320-4ddb-4da5-bc5f-fba0b855098b",
   "metadata": {},
   "outputs": [],
   "source": [
    "runName = 'cwfs_test_052022_orig_pipeline_high_dens_pre_optimize'\n",
    "\n",
    "taskMetadata = butler.get('estimateZernikesCwfsTask_metadata', dataId=dataIdExtra_highDens, collections=[runName])\n",
    "origPipelineTime_preOptimize_highDens = getTaskTimingData(taskMetadata)"
   ]
  },
  {
   "cell_type": "markdown",
   "id": "e32cbfeb-272a-43c4-8b1d-6ce717dab624",
   "metadata": {},
   "source": [
    "#### `ts_wep` v2.4.0 w/ Original Pipeline"
   ]
  },
  {
   "cell_type": "markdown",
   "id": "1b19dd81-7210-4706-beb7-7bf8e193d7d9",
   "metadata": {
    "tags": []
   },
   "source": [
    "##### Low Density"
   ]
  },
  {
   "cell_type": "code",
   "execution_count": 27,
   "id": "7fa72ec3-372e-45d7-ad34-a59110a0bd20",
   "metadata": {},
   "outputs": [],
   "source": [
    "runName = 'cwfs_test_052022_orig_pipeline_low_dens'\n",
    "\n",
    "taskMetadata = butler.get('estimateZernikesCwfsTask_metadata', dataId=dataIdExtra_lowDens, collections=[runName])\n",
    "origPipelineTime_lowDens = getTaskTimingData(taskMetadata)"
   ]
  },
  {
   "cell_type": "markdown",
   "id": "9f34b5d0-5318-401a-b26d-94d9c7809751",
   "metadata": {
    "tags": []
   },
   "source": [
    "##### High Density"
   ]
  },
  {
   "cell_type": "code",
   "execution_count": 28,
   "id": "e851a8b3-03d5-403b-a224-ea50dad6f6b7",
   "metadata": {},
   "outputs": [],
   "source": [
    "runName = 'cwfs_test_052022_orig_pipeline_high_dens'\n",
    "\n",
    "taskMetadata = butler.get('estimateZernikesCwfsTask_metadata', dataId=dataIdExtra_highDens, collections=[runName])\n",
    "origPipelineTime_highDens = getTaskTimingData(taskMetadata)"
   ]
  },
  {
   "cell_type": "markdown",
   "id": "8ed7a651-c59a-4feb-89fa-f8c30bdadfa0",
   "metadata": {},
   "source": [
    "#### `ts_wep` v2.4.0 w/ Original Pipeline"
   ]
  },
  {
   "cell_type": "markdown",
   "id": "923ad0e7-d4d4-49b7-ae3b-ec0af0dca5a8",
   "metadata": {
    "tags": []
   },
   "source": [
    "#### Low Density"
   ]
  },
  {
   "cell_type": "code",
   "execution_count": 29,
   "id": "50bc93a6-08a1-4632-bfbc-ac16c488bf1d",
   "metadata": {},
   "outputs": [],
   "source": [
    "runName = 'cwfs_test_052022_new_pipeline_low_dens'\n",
    "\n",
    "taskMetadata = butler.get('cutOutDonutsCwfsTask_metadata', dataId=dataIdExtra_lowDens, collections=[runName])\n",
    "cutOutDonutsTaskTime_lowDens = getTaskTimingData(taskMetadata)"
   ]
  },
  {
   "cell_type": "markdown",
   "id": "134b4f44-fcc1-4fab-ad49-c7566bd006db",
   "metadata": {},
   "source": [
    "We can also look at how many donuts we used in each detector."
   ]
  },
  {
   "cell_type": "code",
   "execution_count": 30,
   "id": "886ef143-a5e8-4e84-b5ac-110edaaecf3a",
   "metadata": {},
   "outputs": [
    {
     "name": "stdout",
     "output_type": "stream",
     "text": [
      "scalars={'numDonutsTotal': 3, 'numDonutsUsed': 2, 'numDonutsRejected': 1} arrays={'combineZernikesFlags': [1, 0, 0]} metadata={}\n",
      "scalars={'numDonutsTotal': 4, 'numDonutsUsed': 3, 'numDonutsRejected': 1} arrays={'combineZernikesFlags': [1, 0, 0, 0]} metadata={}\n",
      "scalars={'numDonutsTotal': 3, 'numDonutsUsed': 2, 'numDonutsRejected': 1} arrays={'combineZernikesFlags': [1, 0, 0]} metadata={}\n",
      "scalars={'numDonutsTotal': 2, 'numDonutsUsed': 2, 'numDonutsRejected': 0} arrays={'combineZernikesFlags': [0, 0]} metadata={}\n"
     ]
    }
   ],
   "source": [
    "runName = 'cwfs_test_052022_new_pipeline_low_dens'\n",
    "\n",
    "calcZernikesTimes_lowDens = []\n",
    "numDonutsCalc_lowDens = 0\n",
    "maxDonutsCalc_lowDens = 0\n",
    "for detectorNum in [191, 195, 199, 203]:\n",
    "    dataIdExtra_lowDens['detector'] = detectorNum\n",
    "    metadata = butler.get('calcZernikesTask_metadata', dataId=dataIdExtra_lowDens, collections=[runName])\n",
    "    print(metadata['calcZernikesTask:combineZernikes'])\n",
    "    taskTime = getTaskTimingData(taskMetadata)\n",
    "    calcZernikesTimes_lowDens.append(taskTime)\n",
    "    numDonutsCalc_lowDens += metadata['calcZernikesTask:combineZernikes']['numDonutsTotal']\n",
    "    if metadata['calcZernikesTask:combineZernikes']['numDonutsTotal'] > maxDonutsCalc_lowDens:\n",
    "        maxDonutsCalc_lowDens = metadata['calcZernikesTask:combineZernikes']['numDonutsTotal']"
   ]
  },
  {
   "cell_type": "code",
   "execution_count": 31,
   "id": "dc6dd566-85f8-4812-b4fe-e60b22783568",
   "metadata": {},
   "outputs": [],
   "source": [
    "calcZernikesTaskTime_lowDens_max = max(calcZernikesTimes_lowDens)\n",
    "calcZernikesTaskTime_lowDens_avg = np.mean(calcZernikesTimes_lowDens)"
   ]
  },
  {
   "cell_type": "code",
   "execution_count": 32,
   "id": "827f5667-08b2-404c-80f9-4dd4f9be7933",
   "metadata": {},
   "outputs": [],
   "source": [
    "newPipelineTime_lowDens_max = cutOutDonutsTaskTime_lowDens + calcZernikesTaskTime_lowDens_max\n",
    "newPipelineTime_lowDens_avg = cutOutDonutsTaskTime_lowDens + calcZernikesTaskTime_lowDens_avg"
   ]
  },
  {
   "cell_type": "markdown",
   "id": "98c4901c-6013-49e8-83b0-776eb9119a6f",
   "metadata": {
    "tags": []
   },
   "source": [
    "#### High Density"
   ]
  },
  {
   "cell_type": "code",
   "execution_count": 33,
   "id": "cbd48509-41d8-4990-b0eb-4f14777bb976",
   "metadata": {},
   "outputs": [],
   "source": [
    "runName = 'cwfs_test_052022_new_pipeline_high_dens'\n",
    "\n",
    "taskMetadata = butler.get('cutOutDonutsCwfsTask_metadata', dataId=dataIdExtra_highDens, collections=[runName])\n",
    "cutOutDonutsTaskTime_highDens = getTaskTimingData(taskMetadata)"
   ]
  },
  {
   "cell_type": "markdown",
   "id": "95218406-59bd-4903-b007-b99bbc466c52",
   "metadata": {},
   "source": [
    "Once again we can look at how many donuts we used in each detector."
   ]
  },
  {
   "cell_type": "code",
   "execution_count": 34,
   "id": "6e128797-dd65-4441-aed0-62a7973994a5",
   "metadata": {},
   "outputs": [
    {
     "name": "stdout",
     "output_type": "stream",
     "text": [
      "scalars={'numDonutsTotal': 14, 'numDonutsUsed': 12, 'numDonutsRejected': 2} arrays={'combineZernikesFlags': [0, 0, 1, 0, 0, 0, 0, 0, 1, 0, 0, 0, 0, 0]} metadata={}\n",
      "scalars={'numDonutsTotal': 12, 'numDonutsUsed': 7, 'numDonutsRejected': 5} arrays={'combineZernikesFlags': [0, 0, 0, 1, 1, 0, 0, 1, 0, 1, 0, 1]} metadata={}\n",
      "scalars={'numDonutsTotal': 14, 'numDonutsUsed': 12, 'numDonutsRejected': 2} arrays={'combineZernikesFlags': [0, 0, 0, 0, 1, 0, 0, 0, 0, 0, 1, 0, 0, 0]} metadata={}\n",
      "scalars={'numDonutsTotal': 9, 'numDonutsUsed': 7, 'numDonutsRejected': 2} arrays={'combineZernikesFlags': [0, 0, 0, 0, 0, 1, 0, 0, 1]} metadata={}\n"
     ]
    }
   ],
   "source": [
    "runName = 'cwfs_test_052022_new_pipeline_high_dens'\n",
    "\n",
    "calcZernikesTimes_highDens = []\n",
    "numDonutsCalc_highDens = 0\n",
    "maxDonutsCalc_highDens = 0\n",
    "for detectorNum in [191, 195, 199, 203]:\n",
    "    dataIdExtra_highDens['detector'] = detectorNum\n",
    "    metadata = butler.get('calcZernikesTask_metadata', dataId=dataIdExtra_highDens, collections=[runName])\n",
    "    print(metadata['calcZernikesTask:combineZernikes'])\n",
    "    taskMetadata = butler.get('calcZernikesTask_metadata', dataId=dataIdExtra_highDens, collections=[runName])\n",
    "    taskTime = getTaskTimingData(taskMetadata)\n",
    "    calcZernikesTimes_highDens.append(taskTime)\n",
    "    numDonutsCalc_highDens += metadata['calcZernikesTask:combineZernikes']['numDonutsTotal']\n",
    "    if metadata['calcZernikesTask:combineZernikes']['numDonutsTotal'] > maxDonutsCalc_highDens:\n",
    "        maxDonutsCalc_highDens = metadata['calcZernikesTask:combineZernikes']['numDonutsTotal']"
   ]
  },
  {
   "cell_type": "code",
   "execution_count": 35,
   "id": "813c0364-bd49-4e53-a757-7b04db4a3725",
   "metadata": {},
   "outputs": [],
   "source": [
    "calcZernikesTaskTime_highDens_max = max(calcZernikesTimes_highDens)\n",
    "calcZernikesTaskTime_highDens_avg = np.mean(calcZernikesTimes_highDens)"
   ]
  },
  {
   "cell_type": "code",
   "execution_count": 36,
   "id": "aa7df6ce-2710-4a60-90a9-8f862b3c8320",
   "metadata": {},
   "outputs": [],
   "source": [
    "newPipelineTime_highDens_max = cutOutDonutsTaskTime_highDens + calcZernikesTaskTime_highDens_max\n",
    "newPipelineTime_highDens_avg = cutOutDonutsTaskTime_highDens + calcZernikesTaskTime_highDens_avg"
   ]
  },
  {
   "cell_type": "markdown",
   "id": "d0f6649e-c979-49d6-ad3e-9a672ded9830",
   "metadata": {},
   "source": [
    "### Results"
   ]
  },
  {
   "cell_type": "markdown",
   "id": "c669abe9-ea55-4334-9970-900fa48eeccb",
   "metadata": {},
   "source": [
    "#### Low Density"
   ]
  },
  {
   "cell_type": "code",
   "execution_count": 37,
   "id": "cab3b0e4-7774-40c2-835d-511ddb29dc84",
   "metadata": {},
   "outputs": [
    {
     "data": {
      "text/markdown": [
       "For field with 12 total donuts across 4 pairs of wavefront sensors with a max of 4 on a detector: <br>Pre-optimization pipeline time = 60.708557999997836 s. <br>Optimized original pipeline time = 24.684161000016758 s. <br>New pipeline time (Avg/Max) = 13.33843599999156 s. / 13.33843599999156 s."
      ],
      "text/plain": [
       "<IPython.core.display.Markdown object>"
      ]
     },
     "execution_count": 37,
     "metadata": {},
     "output_type": "execute_result"
    }
   ],
   "source": [
    "md(\n",
    "    f'For field with {numDonutsCalc_lowDens} total donuts across 4 pairs of wavefront sensors with a max of {maxDonutsCalc_lowDens} on a detector: <br>' +\n",
    "    f'Pre-optimization pipeline time = {origPipelineTime_preOptimize_lowDens} s. <br>' + \n",
    "    f'Optimized original pipeline time = {origPipelineTime_lowDens} s. <br>' +\n",
    "    f'New pipeline time (Avg/Max) = {newPipelineTime_lowDens_avg} s. / {newPipelineTime_lowDens_max} s.'\n",
    ")"
   ]
  },
  {
   "cell_type": "markdown",
   "id": "a2c0d2a4-3222-4bc1-9608-682d1dcaabd0",
   "metadata": {},
   "source": [
    "#### High Density"
   ]
  },
  {
   "cell_type": "code",
   "execution_count": 38,
   "id": "d32344e9-6933-443a-bc77-800a4f7a35e8",
   "metadata": {},
   "outputs": [
    {
     "data": {
      "text/markdown": [
       "For field with 49 total donuts across 4 pairs of wavefront sensors with a max of 14 on a detector: <br>Pre-optimization pipeline time = 230.7128989999935 s.<br>Optimized original pipeline time = 83.73000099999466 s.<br>New pipeline time (Avg/Max) = 31.040358500007592 s. / 33.85169299999973 s."
      ],
      "text/plain": [
       "<IPython.core.display.Markdown object>"
      ]
     },
     "execution_count": 38,
     "metadata": {},
     "output_type": "execute_result"
    }
   ],
   "source": [
    "md(\n",
    "    f'For field with {numDonutsCalc_highDens} total donuts across 4 pairs of wavefront sensors with a max of {maxDonutsCalc_highDens} on a detector: <br>' +\n",
    "    f'Pre-optimization pipeline time = {origPipelineTime_preOptimize_highDens} s.<br>' + \n",
    "    f'Optimized original pipeline time = {origPipelineTime_highDens} s.<br>' +\n",
    "    f'New pipeline time (Avg/Max) = {newPipelineTime_highDens_avg} s. / {newPipelineTime_highDens_max} s.'\n",
    ")"
   ]
  },
  {
   "cell_type": "markdown",
   "id": "73064a59-6bb4-4fad-bc43-1c48d7969ad2",
   "metadata": {},
   "source": [
    "## Summary"
   ]
  },
  {
   "cell_type": "code",
   "execution_count": 39,
   "id": "32dac64f-2288-42c7-b53f-3e101cf3af8b",
   "metadata": {},
   "outputs": [
    {
     "data": {
      "text/plain": [
       "Text(0.5, 1.0, 'Cut out donuts and calculate Zernikes tasks. LSST-DEVL w/ 4 processes.')"
      ]
     },
     "execution_count": 39,
     "metadata": {},
     "output_type": "execute_result"
    },
    {
     "data": {
      "image/png": "[encoded data removed]",
      "text/plain": [
       "<Figure size 576x432 with 1 Axes>"
      ]
     },
     "metadata": {
      "needs_background": "light"
     },
     "output_type": "display_data"
    }
   ],
   "source": [
    "%matplotlib inline\n",
    "fig = plt.figure(figsize=(8, 6))\n",
    "plt.plot(np.arange(3), [origPipelineTime_preOptimize_lowDens,\n",
    "                        origPipelineTime_lowDens,\n",
    "                        newPipelineTime_lowDens_max], '-o', label='Low Density Field. Max 4 donuts on one sensor, 12 total.')\n",
    "plt.plot(np.arange(3), [origPipelineTime_preOptimize_highDens,\n",
    "                        origPipelineTime_highDens,\n",
    "                        newPipelineTime_highDens_max], '-o', label='High Density Field. Max 14 donuts on one sensor, 49 total.')\n",
    "plt.legend()\n",
    "plt.ylabel('Seconds')\n",
    "plt.xlabel('ts_wep versions')\n",
    "plt.xticks([0, 1, 2], ['Original pipeline, pre-optimization', 'Original pipeline, optimized', 'New pipeline w/ cwfs parallelization'])\n",
    "plt.title('Cut out donuts and calculate Zernikes tasks. LSST-DEVL w/ 4 processes.')"
   ]
  },
  {
   "cell_type": "code",
   "execution_count": 40,
   "id": "1a088419-7e2e-40e6-acc7-8335c6494ab5",
   "metadata": {},
   "outputs": [],
   "source": [
    "labels = np.array(['Low Density', 'High Density'])\n",
    "isr = np.array([isrTimes_lowDens_avg, isrTimes_lowDens_avg])\n",
    "donutCat = np.array([donutCatalogTime_lowDens_avg, donutCatalogTime_highDens_avg])\n",
    "cutOuts = [cutOutDonutsTaskTime_lowDens, cutOutDonutsTaskTime_highDens]\n",
    "calcZerns = [calcZernikesTaskTime_lowDens_max, calcZernikesTaskTime_highDens_max]\n",
    "width = 0.8"
   ]
  },
  {
   "cell_type": "code",
   "execution_count": 41,
   "id": "190d6905-9ee9-4a52-9485-5feb18cba9dc",
   "metadata": {},
   "outputs": [
    {
     "data": {
      "text/plain": [
       "Text(0.5, 1.0, 'Timing of WEP Tasks (ts_wep v2.4.0 w/ new pipeline)')"
      ]
     },
     "execution_count": 41,
     "metadata": {},
     "output_type": "execute_result"
    },
    {
     "data": {
      "image/png": "[encoded data removed]",
      "text/plain": [
       "<Figure size 576x720 with 1 Axes>"
      ]
     },
     "metadata": {
      "needs_background": "light"
     },
     "output_type": "display_data"
    }
   ],
   "source": [
    "fig, ax = plt.subplots(figsize=(8, 10))\n",
    "ax.bar(labels, isr, width, label='ISR')\n",
    "ax.bar(labels, donutCat, width, label='Generate Donut Catalogs', bottom=isr)\n",
    "ax.bar(labels, cutOuts, width, label='Cut Out Stamps', bottom=donutCat+isr)\n",
    "ax.bar(labels, calcZerns, width, label='Calculate Zernikes', bottom=cutOuts+donutCat+isr)\n",
    "plt.legend(fontsize=14)\n",
    "plt.ylabel('Seconds', size=14)\n",
    "ax.tick_params(labelsize=14)\n",
    "plt.title('Timing of WEP Tasks (ts_wep v2.4.0 w/ new pipeline)', size=16)"
   ]
  },
  {
   "cell_type": "code",
   "execution_count": 42,
   "id": "021eafa3-1d4c-494c-a077-16e421bdde0e",
   "metadata": {},
   "outputs": [
    {
     "data": {
      "text/markdown": [
       "For the low density field the time is 19.9462 seconds. <br>For the high density field the time is 46.2900 seconds. <br>\n",
       "    These numbers come from the average time for one iteration of each task.\n",
       "    Therefore, for the complete set of 8 corner wavefront sensors this timing estimate assumes that the pipeline is being run on 8 processors. <br>\n",
       "    This is because the total set of tasks in the cwfs pipeline is: <br>\n",
       "    &emsp; - 8 isr tasks <br>\n",
       "    &emsp; - 8 generate donut catalog tasks <br>\n",
       "    &emsp; - 4 cut out stamps tasks that run on each of the 4 pairs of wavefront sensors <br>\n",
       "    &emsp; - 4 calculate zernikes tasks based upon the donut stamp cutouts from each pair of wavefront sensors <br>\n",
       "    where each step requires the output of the previous set of tasks.\n",
       "    "
      ],
      "text/plain": [
       "<IPython.core.display.Markdown object>"
      ]
     },
     "execution_count": 42,
     "metadata": {},
     "output_type": "execute_result"
    }
   ],
   "source": [
    "md(\n",
    "    f\"For the low density field the time is {calcZerns[0]+cutOuts[0]+donutCat[0]+isr[0]:.4f} seconds. <br>\" +\n",
    "    f\"For the high density field the time is {calcZerns[1]+cutOuts[1]+donutCat[1]+isr[1]:.4f} seconds. <br>\" +\n",
    "    \"\"\"\n",
    "    These numbers come from the average time for one iteration of each task.\n",
    "    Therefore, for the complete set of 8 corner wavefront sensors this timing estimate assumes that the pipeline is being run on 8 processors. <br>\n",
    "    This is because the total set of tasks in the cwfs pipeline is: <br>\n",
    "    &emsp; - 8 isr tasks <br>\n",
    "    &emsp; - 8 generate donut catalog tasks <br>\n",
    "    &emsp; - 4 cut out stamps tasks that run on each of the 4 pairs of wavefront sensors <br>\n",
    "    &emsp; - 4 calculate zernikes tasks based upon the donut stamp cutouts from each pair of wavefront sensors <br>\n",
    "    where each step requires the output of the previous set of tasks.\n",
    "    \"\"\"\n",
    ")\n"
   ]
  },
  {
   "cell_type": "code",
   "execution_count": null,
   "id": "e22e0476-407c-40bd-8ead-aea69f3e3f1c",
   "metadata": {},
   "outputs": [],
   "source": []
  }
 ],
 "metadata": {
  "kernelspec": {
   "display_name": "LSST",
   "language": "python",
   "name": "lsst"
  },
  "language_info": {
   "codemirror_mode": {
    "name": "ipython",
    "version": 3
   },
   "file_extension": ".py",
   "mimetype": "text/x-python",
   "name": "python",
   "nbconvert_exporter": "python",
   "pygments_lexer": "ipython3",
   "version": "3.10.4"
  }
 },
 "nbformat": 4,
 "nbformat_minor": 5
}
