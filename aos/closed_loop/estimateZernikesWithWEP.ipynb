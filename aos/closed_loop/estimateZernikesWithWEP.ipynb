{
 "cells": [
  {
   "cell_type": "markdown",
   "id": "826bed0b-acdd-4e5a-a8e3-c988cf348670",
   "metadata": {},
   "source": [
    "# Estimating Zernikes with WEP\n",
    "\n",
    "Owner: **Bryce Kalmbach** ([@jbkalmbach](https://github.com/lsst-ts/ts_analysis_notebooks/issues/new?body=@jbkalmbach))\n",
    "<br>Last Verified to Run: **2022-02-14**\n",
    "<br>Software Versions:\n",
    "  - `ts_wep`: **v2.2.0**\n",
    "  - `lsst_distrib`: **w_2022_06**"
   ]
  },
  {
   "cell_type": "markdown",
   "id": "1c7141c2-3585-4114-b741-85e94c2523a1",
   "metadata": {},
   "source": [
    "## Notebook Objective\n",
    "\n",
    "This notebooks shows how to calculate the Zernike coefficients for a detector using `EstimateZernikesCwfsTask`. It walks through the available configuration settings and shows how to run it from the command line as part of a Gen 3 middleware pipeline."
   ]
  },
  {
   "cell_type": "markdown",
   "id": "b2c7b40d-5f7c-43f1-b002-ed6ba26d7da0",
   "metadata": {},
   "source": [
    "## Logistics\n",
    "\n",
    "This notebook is intended to be run on the RSP https://lsst-rsp-stable.ncsa.illinois.edu/nb. The data set is on NCSA."
   ]
  },
  {
   "cell_type": "markdown",
   "id": "3931fc55-1d94-4928-b537-70d7110ef80b",
   "metadata": {
    "tags": []
   },
   "source": [
    "## Imports"
   ]
  },
  {
   "cell_type": "code",
   "execution_count": 1,
   "id": "b02e6dd3-6a93-4d66-b835-5bd1f088833a",
   "metadata": {},
   "outputs": [],
   "source": [
    "from lsst.daf.butler import Butler\n",
    "\n",
    "from lsst.ts.wep.Utility import runProgram, writePipetaskCmd\n",
    "from lsst.ts.wep.task.EstimateZernikesCwfsTask import EstimateZernikesCwfsTask, EstimateZernikesCwfsTaskConfig\n",
    "\n",
    "import numpy as np\n",
    "import matplotlib.pyplot as plt\n",
    "%matplotlib inline"
   ]
  },
  {
   "cell_type": "markdown",
   "id": "07615ef8",
   "metadata": {},
   "source": [
    "## EstimateZernikes\n",
    "\n",
    "With the catalogs for each chip and the postISRCCD exposures we can run the next task in the pipeline to get the Zernikes."
   ]
  },
  {
   "cell_type": "markdown",
   "id": "6682a963-8f7b-47f7-ad68-a598cce52261",
   "metadata": {},
   "source": [
    "### Configure the `EstimateZernikes...Task`\n",
    "\n",
    "Here we will look at the available configuration settings when running the task."
   ]
  },
  {
   "cell_type": "code",
   "execution_count": 2,
   "id": "42ca01b2",
   "metadata": {},
   "outputs": [],
   "source": [
    "zernConfig = EstimateZernikesCwfsTaskConfig()"
   ]
  },
  {
   "cell_type": "code",
   "execution_count": 3,
   "id": "a69932fc-c10f-40c2-bd48-051253f2c995",
   "metadata": {},
   "outputs": [
    {
     "name": "stdout",
     "output_type": "stream",
     "text": [
      "{'saveMetadata': True, 'saveLogOutput': True, 'donutTemplateSize': 160, 'donutStampSize': 160, 'initialCutoutPadding': 40, 'combineZernikes': {'sigma': 3.0}, 'connections': {'donutCatalog': 'donutCatalog', 'camera': 'camera', 'donutStampsExtra': 'donutStampsExtra', 'donutStampsIntra': 'donutStampsIntra', 'outputZernikesRaw': 'zernikeEstimateRaw', 'outputZernikesAvg': 'zernikeEstimateAvg', 'exposures': 'postISRCCD'}}\n"
     ]
    }
   ],
   "source": [
    "print(zernConfig)"
   ]
  },
  {
   "cell_type": "markdown",
   "id": "acfe1b14-15be-4546-b3e8-860d1e536d46",
   "metadata": {},
   "source": [
    "#### Available Configuration settings\n",
    "\n",
    "* `donutTemplateSize`: Size in pixels of template used for centroiding the donuts. Default=160.\n",
    "* `donutStampSize`: Size of the donut stamps in pixels. Default=160.\n",
    "* `initialCutoutPadding`: Additional padding in pixels on each side of the initial postage stamp before centroiding. Default=40.\n",
    "* `combineZernikes`: This setting specifies which `CombineZernikes` subtask to use when combining the Zernike coefficients from donut pairs to return a single set of Zernike coefficients for a detector. Available options are `CombineZernikesMeanTask` (combines coefficients with an unweighted mean) and `CombineZernikesSigmaClipTask` (calculates unweighted mean after masking out donuts that have any Zernike coefficients more than `sigma` standard deviations outside the mean value of all donuts. The default subtask is `CombineZernikesSigmaClipTask` and the default value for `combineZernikes.sigma` is 3.0."
   ]
  },
  {
   "cell_type": "markdown",
   "id": "fac9880b-ae58-4f9b-aadb-eb822829d943",
   "metadata": {},
   "source": [
    "#### Changing Configuration Settings in Interactive Mode\n",
    "\n",
    "To change one of the configuration settings that only involves a number it is as easy as:"
   ]
  },
  {
   "cell_type": "code",
   "execution_count": 4,
   "id": "fa2fc9e9-b896-438c-ade4-a264bed95222",
   "metadata": {},
   "outputs": [
    {
     "name": "stdout",
     "output_type": "stream",
     "text": [
      "40\n"
     ]
    }
   ],
   "source": [
    "print(zernConfig.initialCutoutPadding)"
   ]
  },
  {
   "cell_type": "code",
   "execution_count": 5,
   "id": "1ee00a71-643c-485a-b0d2-5927a949a025",
   "metadata": {},
   "outputs": [
    {
     "name": "stdout",
     "output_type": "stream",
     "text": [
      "10\n"
     ]
    }
   ],
   "source": [
    "zernConfig.initialCutoutPadding = 10\n",
    "print(zernConfig.initialCutoutPadding)"
   ]
  },
  {
   "cell_type": "markdown",
   "id": "c0568a43-ab7b-4ec1-8fa9-1b0babbda99d",
   "metadata": {},
   "source": [
    "This is also true to change the settings inside the `combineZernikes` subtask:"
   ]
  },
  {
   "cell_type": "code",
   "execution_count": 6,
   "id": "a1b91696-c112-4b17-850a-1353d192bdcf",
   "metadata": {},
   "outputs": [
    {
     "name": "stdout",
     "output_type": "stream",
     "text": [
      "3.0\n"
     ]
    }
   ],
   "source": [
    "print(zernConfig.combineZernikes.sigma)"
   ]
  },
  {
   "cell_type": "code",
   "execution_count": 7,
   "id": "d6f7fbcf-c1d4-4377-9ee7-77fdc2d3f6b3",
   "metadata": {},
   "outputs": [
    {
     "name": "stdout",
     "output_type": "stream",
     "text": [
      "2.0\n"
     ]
    }
   ],
   "source": [
    "zernConfig.combineZernikes.sigma = 2.0\n",
    "print(zernConfig.combineZernikes.sigma)"
   ]
  },
  {
   "cell_type": "markdown",
   "id": "e723f5b0-2ae7-4903-8f36-70fd603e7375",
   "metadata": {},
   "source": [
    "But to change the subtask that `combineZernikes` uses you need to use the `retarget` function:"
   ]
  },
  {
   "cell_type": "code",
   "execution_count": 8,
   "id": "abf8a272-2a6b-4272-b82f-aedd8adde184",
   "metadata": {},
   "outputs": [
    {
     "name": "stdout",
     "output_type": "stream",
     "text": [
      "<class 'lsst.ts.wep.task.CombineZernikesSigmaClipTask.CombineZernikesSigmaClipTask'>\n"
     ]
    }
   ],
   "source": [
    "print(zernConfig.combineZernikes.target)"
   ]
  },
  {
   "cell_type": "code",
   "execution_count": 9,
   "id": "9c687463-19af-41ff-b5b9-cd27f6f1d383",
   "metadata": {},
   "outputs": [
    {
     "name": "stdout",
     "output_type": "stream",
     "text": [
      "<class 'lsst.ts.wep.task.CombineZernikesMeanTask.CombineZernikesMeanTask'>\n"
     ]
    }
   ],
   "source": [
    "from lsst.ts.wep.task.CombineZernikesMeanTask import CombineZernikesMeanTask\n",
    "zernConfig.combineZernikes.retarget(CombineZernikesMeanTask)\n",
    "print(zernConfig.combineZernikes.target)"
   ]
  },
  {
   "cell_type": "markdown",
   "id": "1d41e350-16ba-49e3-b752-0cfe2201cb19",
   "metadata": {
    "tags": []
   },
   "source": [
    "### Running the task\n",
    "\n",
    "Now we can run the task with our set configurations. The data we need to run the `EstimateZernikesCwfsTask` are the `postISR` exposures from a pair of corner wavefront sensors and the `donutCatalog` for the visit on those detectors as well as a calibration model for the `camera`."
   ]
  },
  {
   "cell_type": "code",
   "execution_count": 10,
   "id": "fc22d470",
   "metadata": {},
   "outputs": [],
   "source": [
    "# Initiate the task with our given configuration\n",
    "zernTask = EstimateZernikesCwfsTask(config=zernConfig)"
   ]
  },
  {
   "cell_type": "code",
   "execution_count": 11,
   "id": "3240bd4e-00c9-428d-9a2e-dddd2c5bd11f",
   "metadata": {},
   "outputs": [],
   "source": [
    "# Repository with closed loop data\n",
    "butler_repo = '/project/aos/data_repos/aosTestDataRepo'\n",
    "# Initialize the butler to get the donut catalogs and postISR exposures\n",
    "butler = Butler(butler_repo)\n",
    "registry = butler.registry"
   ]
  },
  {
   "cell_type": "code",
   "execution_count": 12,
   "id": "9da99404-b6fa-431a-af2e-31960c865ab2",
   "metadata": {},
   "outputs": [],
   "source": [
    "# Specify the data Ids for the data in the repository\n",
    "dataIdExtra = {'instrument': 'LSSTCam', 'detector': 191, 'exposure': 4021123110021, 'visit': 4021123110021}\n",
    "dataIdIntra = {'instrument': 'LSSTCam', 'detector': 192, 'exposure': 4021123110021, 'visit': 4021123110021}"
   ]
  },
  {
   "cell_type": "code",
   "execution_count": 13,
   "id": "1326526b-366d-4472-8eb8-f6a91b9a5c6c",
   "metadata": {},
   "outputs": [],
   "source": [
    "# Load the donut catalogs\n",
    "donutCatalogExtra = butler.get('donutCatalog', dataId=dataIdExtra, collections=['w_2022_06'])\n",
    "donutCatalogIntra = butler.get('donutCatalog', dataId=dataIdIntra, collections=['w_2022_06'])"
   ]
  },
  {
   "cell_type": "code",
   "execution_count": 14,
   "id": "f65612de-4b04-4641-8572-efa6cb7234bc",
   "metadata": {},
   "outputs": [],
   "source": [
    "# Load the postISR exposures\n",
    "isrOutExtra = butler.get('postISRCCD', dataId=dataIdExtra, collections=['w_2022_06'])\n",
    "isrOutIntra = butler.get('postISRCCD', dataId=dataIdIntra, collections=['w_2022_06'])"
   ]
  },
  {
   "cell_type": "code",
   "execution_count": 15,
   "id": "6c9785d8-c21f-4630-baed-102ba763cc1d",
   "metadata": {},
   "outputs": [],
   "source": [
    "# Get the camera model\n",
    "camera = butler.get('camera', {'instrument': 'LSSTCam'}, collections=['LSSTCam/calib/unbounded'])"
   ]
  },
  {
   "cell_type": "code",
   "execution_count": 16,
   "id": "e223621a",
   "metadata": {},
   "outputs": [
    {
     "data": {
      "text/html": [
       "<pre style=\"margin: 0.1em;\n",
       "padding-left: 0.25em;\n",
       "border-left-style: solid;\n",
       "font-family: var(--jp-code-font-family);\n",
       "font-size: var(--jp-code-font-size);\n",
       "line-height: var(--jp-code-line-height);\n",
       "\"><span style=\"color: var(--jp-warn-color2)\">CombineZernikesMeanTask</span> <span style=\"color: var(--jp-info-color0)\">INFO</span>: Using 3.0 pairs out of 3 in final Zernike estimate.</pre>"
      ],
      "text/plain": [
       "<IPython.core.display.HTML object>"
      ]
     },
     "metadata": {},
     "output_type": "display_data"
    },
    {
     "name": "stdout",
     "output_type": "stream",
     "text": [
      "scalars={'numDonutsTotal': 3, 'numDonutsUsed': 3.0, 'numDonutsRejected': 0.0} arrays={'combineZernikesFlags': [0.0, 0.0, 0.0]} metadata={}\n"
     ]
    }
   ],
   "source": [
    "# Run the Zernike estimation task\n",
    "zernOutput = zernTask.run(\n",
    "    [isrOutExtra, isrOutIntra],\n",
    "    [donutCatalogExtra, donutCatalogIntra],\n",
    "    camera\n",
    ")"
   ]
  },
  {
   "cell_type": "markdown",
   "id": "c6d1e869-bbad-4406-abb4-2f5dfb238ac6",
   "metadata": {},
   "source": [
    "Note that the `combineZernike` task will print out log information for the user."
   ]
  },
  {
   "cell_type": "code",
   "execution_count": 17,
   "id": "fa59554a",
   "metadata": {},
   "outputs": [
    {
     "data": {
      "text/plain": [
       "Struct(outputZernikesAvg=[-0.65817198  0.67749956  0.42454741 -0.12388158  0.31833513 -0.08849994\n",
       " -0.33968782  0.01215916  0.01098545 -0.04837799 -0.06583297  0.02398053\n",
       " -0.07421616  0.07897657 -0.01796492 -0.00080373  0.11869624 -0.05629749\n",
       "  0.00582783]; outputZernikesRaw=[[-6.50162390e-01  3.79885575e-01  4.17168883e-01 -7.06500364e-02\n",
       "   3.17994448e-01 -9.45840512e-02 -2.89673728e-01 -9.71983088e-03\n",
       "   1.00831136e-02 -6.58564907e-03 -1.07646839e-01 -2.81159326e-03\n",
       "  -8.75926948e-02  5.35233937e-02 -2.25267497e-02 -1.53258386e-02\n",
       "   8.60051809e-02 -5.17570982e-02  1.39626134e-02]\n",
       " [-6.41889028e-01  8.41607235e-01  2.40559265e-01 -2.08612980e-01\n",
       "   2.86322626e-01 -1.33768211e-02 -3.00058689e-01  2.03275949e-02\n",
       "   2.36255200e-02 -5.67112400e-02 -3.63062800e-02 -9.20105716e-02\n",
       "  -6.02349176e-02  1.04836353e-01 -1.12267730e-02 -3.91448133e-03\n",
       "   1.06310571e-01 -2.20972266e-03  3.93703684e-03]\n",
       " [-6.82464525e-01  8.11005880e-01  6.15914086e-01 -9.23817096e-02\n",
       "   3.50688325e-01 -1.57538945e-01 -4.29331050e-01  2.58697100e-02\n",
       "  -7.52271729e-04 -8.18370871e-02 -5.35457944e-02  1.66763749e-01\n",
       "  -7.48208630e-02  7.85699508e-02 -2.01412225e-02  1.68291442e-02\n",
       "   1.63772956e-01 -1.14925663e-01 -4.16173161e-04]]; donutStampsExtra=<lsst.ts.wep.task.DonutStamps.DonutStamps object at 0x7f8a4d461dc0>; donutStampsIntra=<lsst.ts.wep.task.DonutStamps.DonutStamps object at 0x7f8a4d461e50>)"
      ]
     },
     "execution_count": 17,
     "metadata": {},
     "output_type": "execute_result"
    }
   ],
   "source": [
    "zernOutput"
   ]
  },
  {
   "cell_type": "markdown",
   "id": "05b0f574-5888-486b-97ca-86362d967a3c",
   "metadata": {},
   "source": [
    "The final output of the task is a `struct` with four different datasets:\n",
    "\n",
    "* `outputZernikesRaw`: This contains the Zernike cofficients for all donuts selected on the detector, one set of coefficients per row.\n",
    "* `outputZernikesAvg`: This is the array with combined set of Zernike coefficients that is the output from whichever `combineZernikes` task was selected and the `outputZernikesRaw`.\n",
    "* `donutStampsExtra`: This is a `donutStamps` object that contains postage stamps and location information of the extra-focal donuts selected for use in the Zernike estimation.\n",
    "* `donutStampsIntra`: This is a `donutStamps` object that contains postage stamps and location information of the intra-focal donuts selected for use in the Zernike estimation."
   ]
  },
  {
   "cell_type": "markdown",
   "id": "49902016-09e8-4d5b-8505-eb384dc3370d",
   "metadata": {},
   "source": [
    "Here we can plot the output Zernikes cofficients for each pair of donuts and the combined value."
   ]
  },
  {
   "cell_type": "code",
   "execution_count": 18,
   "id": "15278e6a",
   "metadata": {},
   "outputs": [
    {
     "data": {
      "text/plain": [
       "Text(0, 0.5, 'Zernike Coefficient (microns)')"
      ]
     },
     "execution_count": 18,
     "metadata": {},
     "output_type": "execute_result"
    },
    {
     "data": {
      "image/png": "[encoded data removed]",
      "text/plain": [
       "<Figure size 864x504 with 1 Axes>"
      ]
     },
     "metadata": {
      "needs_background": "light"
     },
     "output_type": "display_data"
    }
   ],
   "source": [
    "fig = plt.figure(figsize=(12,7))\n",
    "plt.plot(np.arange(4,23), zernOutput.outputZernikesAvg, '-x', lw=3, label='Avg Estimated Zernikes')\n",
    "plt.plot(np.arange(4,23), zernOutput.outputZernikesRaw[0], c='k', alpha=0.2, label='Raw Estimated Zernikes')\n",
    "for i in range(1, 3):\n",
    "    plt.plot(np.arange(4,23), zernOutput.outputZernikesRaw[i], c='k', alpha=0.2)\n",
    "plt.legend()\n",
    "plt.xlabel('Zernike Polynomial Number')\n",
    "plt.ylabel('Zernike Coefficient (microns)')"
   ]
  },
  {
   "cell_type": "markdown",
   "id": "8fc202b9-e754-473f-a4c5-8698f1f65b8c",
   "metadata": {},
   "source": [
    "The task also maintains the metadata on the number of donuts used in the final Zernike estimate and which donuts were kept and rejected."
   ]
  },
  {
   "cell_type": "code",
   "execution_count": 19,
   "id": "7e22df67-debd-4496-bd3f-98124ef4f4c6",
   "metadata": {},
   "outputs": [
    {
     "data": {
      "text/plain": [
       "TaskMetadata(scalars={'numDonutsTotal': 3, 'numDonutsUsed': 3.0, 'numDonutsRejected': 0.0}, arrays={'combineZernikesFlags': [0.0, 0.0, 0.0]}, metadata={})"
      ]
     },
     "execution_count": 19,
     "metadata": {},
     "output_type": "execute_result"
    }
   ],
   "source": [
    "zernTask.combineZernikes.metadata"
   ]
  },
  {
   "cell_type": "markdown",
   "id": "82802b77-c7bb-46e7-8d62-23d9c938c819",
   "metadata": {},
   "source": [
    "### Running as a pipeline task\n",
    "\n",
    "Here in this example notebook we showed how to run the `EstimateZernikesCWFSTask` in individual steps. When running in a full Gen3 processing pipeline you can use `EstimateZernikesCWFSTask` setting the configuration settings for source selection in a pipeline file or on the command line."
   ]
  },
  {
   "cell_type": "markdown",
   "id": "0a0165b8-bc18-428a-ae4e-8037427980f0",
   "metadata": {},
   "source": [
    "If you have `raw` data and have not yet run the `isrTask` or `generateDonutCatalogWCSTask` you can run a full pipeline with the following configuration file:\n",
    "\n",
    "```\n",
    "# This yaml file is used to define the tasks and configuration of\n",
    "# a Gen 3 pipeline to run donut source selection using ts_wep\n",
    "description: wep sample source selection pipeline\n",
    "# Here we specify the corresponding instrument for the data we\n",
    "# will be using.\n",
    "instrument: lsst.obs.lsst.LsstCam\n",
    "# Then we can specify each task in our pipeline by a name\n",
    "# and then specify the class name corresponding to that task\n",
    "tasks:\n",
    "  isr:\n",
    "    class: lsst.ip.isr.isrTask.IsrTask\n",
    "    # Below we specify the configuration settings we want to use\n",
    "    # when running the task in this pipeline. Since our data doesn't\n",
    "    # include bias or flats we only want to use doApplyGains and\n",
    "    # doOverscan in our isr task.\n",
    "    config:\n",
    "      connections.outputExposure: 'postISRCCD'\n",
    "      doBias: False\n",
    "      doVariance: False\n",
    "      doLinearize: False\n",
    "      doCrosstalk: False\n",
    "      doDefect: False\n",
    "      doNanMasking: False\n",
    "      doInterpolate: False\n",
    "      doBrighterFatter: False\n",
    "      doDark: False\n",
    "      doFlat: False\n",
    "      doApplyGains: True\n",
    "      doFringe: False\n",
    "      doOverscan: True\n",
    "  generateDonutCatalogWcsTask:\n",
    "    class: lsst.ts.wep.task.GenerateDonutCatalogWcsTask.GenerateDonutCatalogWcsTask\n",
    "    # Here we specify the configurations for pointing that we added into the class\n",
    "    # GenerateDonutCatalogWcsTaskConfig.\n",
    "    config:\n",
    "      connections.refCatalogs: 'ps1_pv3_3pi_20170110'\n",
    "      filterName: 'g'\n",
    "      referenceSelector.doMagLimit: True\n",
    "      referenceSelector.magLimit.maximum: 15.90\n",
    "      referenceSelector.magLimit.minimum: 8.74\n",
    "      referenceSelector.magLimit.fluxField: 'g_flux'\n",
    "      doDonutSelection: True\n",
    "      donutSelector.fluxField: 'g_flux'\n",
    "  estimateZernikesCwfsTask:\n",
    "    class: lsst.ts.wep.task.EstimateZernikesCwfsTask.EstimateZernikesCwfsTask\n",
    "    config:\n",
    "      # And here we specify the configuration settings originally defined in\n",
    "      # EstimateZernikesCwfsTaskConfig.\n",
    "      donutTemplateSize: 160\n",
    "      donutStampSize: 160\n",
    "      initialCutoutPadding: 40\n",
    "```"
   ]
  },
  {
   "cell_type": "markdown",
   "id": "f324a0e9-a3cf-441d-a42b-ef6a0c7cba9c",
   "metadata": {},
   "source": [
    "And a possible entry on the command line would be:\n",
    "\n",
    "`pipetask run -b $PATH_TO_BUTLER_REPO -i $COLLECTION_NAMES -d \"exposure in ($EXPOSURE_IDS)\" -p $PIPELINE_CONFIGURATION_FILE --instrument lsst.obs.lsst.LsstCam  --register-dataset-types --output-run $OUTPUT_RUN_NAME `\n",
    "\n",
    "* `-b` points to your repository\n",
    "* `-i` names the collections where your calibration and raw data are located in the repository\n",
    "* `-d` specify a data selection query here\n",
    "* `-p` the path to the configuration file like the sample above\n",
    "* `--instrument` specify the instrument for your data\n",
    "* `--register-dataset-types` registers any dataset types that don't already exist in the registry\n",
    "* `--output-run` specifies the name of the new output collection"
   ]
  },
  {
   "cell_type": "code",
   "execution_count": null,
   "id": "efb890ce-a910-44b0-b302-fa60a6a5dcc6",
   "metadata": {},
   "outputs": [],
   "source": []
  }
 ],
 "metadata": {
  "kernelspec": {
   "display_name": "LSST",
   "language": "python",
   "name": "lsst"
  },
  "language_info": {
   "codemirror_mode": {
    "name": "ipython",
    "version": 3
   },
   "file_extension": ".py",
   "mimetype": "text/x-python",
   "name": "python",
   "nbconvert_exporter": "python",
   "pygments_lexer": "ipython3",
   "version": "3.8.12"
  }
 },
 "nbformat": 4,
 "nbformat_minor": 5
}
