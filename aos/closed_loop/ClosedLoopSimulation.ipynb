{
 "cells": [
  {
   "cell_type": "markdown",
   "id": "1c05ae65",
   "metadata": {},
   "source": [
    "## Closed Loop Simulation Notebook\n",
    "\n",
    "This notebook breaks down the closed loop simulation in different jupyter notebook cells. The aim of this notebook is to ease the debugging and development of the different packages involved in the Optical Feedback Control loop.\n",
    "\n",
    "### Required python packages"
   ]
  },
  {
   "cell_type": "code",
   "execution_count": 1,
   "id": "6d3fad58",
   "metadata": {},
   "outputs": [],
   "source": [
    "import argparse\n",
    "import logging\n",
    "import os\n",
    "import sys\n",
    "\n",
    "from lsst.ts.phosim.CloseLoopTask import CloseLoopTask"
   ]
  },
  {
   "cell_type": "code",
   "execution_count": 2,
   "id": "5dbf3c6a",
   "metadata": {},
   "outputs": [],
   "source": [
    "from tqdm import tqdm"
   ]
  },
  {
   "cell_type": "markdown",
   "id": "fbed2178",
   "metadata": {},
   "source": [
    "### Default arguments and initializations\n",
    "\n",
    "Initialize default arguments to run the closed loop and initialize the ClosedLoopTask"
   ]
  },
  {
   "cell_type": "code",
   "execution_count": 3,
   "id": "4bb2b6ab",
   "metadata": {},
   "outputs": [
    {
     "name": "stdout",
     "output_type": "stream",
     "text": [
      "Namespace(boresightDeg=[0, 0], clobber=False, eimage=False, filterType='', inst='comcam', iterNum=5, log_level=20, m1m3FErr=0.05, numOfProc=1, output='', rotCam=0.0, skyFile='')\n"
     ]
    }
   ],
   "source": [
    "# Set the parser\n",
    "parser = argparse.ArgumentParser(\n",
    "    description=\"Run AOS closed-loop simulation (default is amplifier files).\"\n",
    ")\n",
    "parser = CloseLoopTask.setDefaultParser(parser)\n",
    "parser = CloseLoopTask.setImgParser(parser)\n",
    "\n",
    "# Get the default arguments\n",
    "sys.argv = ['-f']\n",
    "args = parser.parse_args()\n",
    "\n",
    "# Print default arguments\n",
    "print(args)\n",
    "\n",
    "logger = logging.getLogger()\n",
    "logger.setLevel(args.log_level)\n",
    "\n",
    "# Initialize the ClosedLoopTask\n",
    "closeLoopTask = CloseLoopTask()"
   ]
  },
  {
   "cell_type": "markdown",
   "id": "f1a83813",
   "metadata": {},
   "source": [
    "### Set paths and arguments\n",
    "\n",
    "Customize the following arguments to run the simulation you are interested in. If not stated in the following code cell, the arguments are taken to be the default ones. Note that this paths should be changed if another user is running them and wants to change the directory addresses."
   ]
  },
  {
   "cell_type": "code",
   "execution_count": 4,
   "id": "2d68d4d0",
   "metadata": {},
   "outputs": [],
   "source": [
    "PHOSIMPATH = \"/project/gmegias/aos/lsst_stack/phosim_syseng4/\"\n",
    "AOCLCOUTPUTPATH = \"/project/gmegias/aos/lsst_stack/ts_phosim/output/\"\n",
    "os.environ[\"PHOSIMPATH\"] = PHOSIMPATH\n",
    "os.environ[\"AOCLCOUTPUTPATH\"] = AOCLCOUTPUTPATH"
   ]
  },
  {
   "cell_type": "code",
   "execution_count": 18,
   "id": "55e1cb18",
   "metadata": {},
   "outputs": [],
   "source": [
    "args.inst = 'comcam' \n",
    "args.numOfProc = 32 \n",
    "args.boresightDeg = [0.03, -0.02]\n",
    "args.skyFile = '/project/gmegias/aos/lsst_stack/ts_phosim/tests/testData/sky/skyComCam.txt'\n",
    "args.output = '/project/gmegias/aos/perturbations/imgCloseLoop_test7/'"
   ]
  },
  {
   "cell_type": "markdown",
   "id": "c0cd1b6a",
   "metadata": {},
   "source": [
    "### Intializations and initial configurations\n",
    "\n",
    "First, initialize the variables from the arguments dictionary."
   ]
  },
  {
   "cell_type": "code",
   "execution_count": 19,
   "id": "15ee1fe0",
   "metadata": {},
   "outputs": [],
   "source": [
    "boresight = args.boresightDeg\n",
    "rotCamInDeg = args.rotCam\n",
    "useEimg = args.eimage\n",
    "m1m3ForceError = args.m1m3FErr\n",
    "numPro = args.numOfProc\n",
    "iterNum = args.iterNum\n",
    "doErsDirCont = args.clobber\n",
    "pathSkyFile = args.skyFile"
   ]
  },
  {
   "cell_type": "markdown",
   "id": "2124b67a",
   "metadata": {},
   "source": [
    "Check and set the required configurations to run the simulation loop."
   ]
  },
  {
   "cell_type": "code",
   "execution_count": 20,
   "id": "0bfe364b",
   "metadata": {},
   "outputs": [],
   "source": [
    "# Check the input arguments\n",
    "camType, instName = closeLoopTask.getCamTypeAndInstName(args.inst)\n",
    "filterType = closeLoopTask.getFilterType(args.filterType)\n",
    "baseOutputDir = closeLoopTask.checkAndCreateBaseOutputDir(args.output)\n",
    "\n",
    "if doErsDirCont:\n",
    "    closeLoopTask.eraseDirectoryContent(baseOutputDir)\n",
    "\n",
    "closeLoopTask.checkBoresight(boresight, args.skyFile)\n",
    "\n",
    "closeLoopTask.assignImgType(useEimg)\n",
    "\n",
    "# Configure the components\n",
    "closeLoopTask.configSkySim(instName, pathSkyFile = args.skyFile, starMag=15)\n",
    "\n",
    "pathIsrDir = closeLoopTask.createIsrDir(baseOutputDir)\n",
    "closeLoopTask.configWepCalc(\n",
    "    camType, pathIsrDir, filterType, boresight, rotCamInDeg, useEimg=useEimg\n",
    ")\n",
    "\n",
    "closeLoopTask.configOfcCalc(instName)\n",
    "closeLoopTask.configPhosimCmpt(\n",
    "    filterType, rotCamInDeg, m1m3ForceError, numPro\n",
    ")\n",
    "\n",
    "# Set the defocal distance for WEP calculator based on the setting\n",
    "# file in the telescope\n",
    "closeLoopTask.setWepCalcWithDefocalDist()"
   ]
  },
  {
   "cell_type": "markdown",
   "id": "341ad16d",
   "metadata": {},
   "source": [
    "### Generate butler gen3 repository."
   ]
  },
  {
   "cell_type": "code",
   "execution_count": 21,
   "id": "7dcd4149",
   "metadata": {},
   "outputs": [],
   "source": [
    "# generate bluter gen3 repo if needed\n",
    "butlerRootPath = os.path.join(baseOutputDir, \"phosimData\")\n",
    "if closeLoopTask.useCcdImg():\n",
    "    closeLoopTask.generateButler(butlerRootPath, instName)\n",
    "    closeLoopTask.generateRefCatalog(\n",
    "        instName=instName,\n",
    "        butlerRootPath=butlerRootPath,\n",
    "        pathSkyFile=pathSkyFile,\n",
    "    )\n",
    "    \n",
    "closeLoopTask.phosimCmpt.tele.setInstName(camType)"
   ]
  },
  {
   "cell_type": "markdown",
   "id": "41a81c41",
   "metadata": {},
   "source": [
    "### Simulation loop initialization\n",
    "\n",
    "Initialize the state of the telescope to run the simulation. This cell also sets common file and directory names required for the closed loop simulation."
   ]
  },
  {
   "cell_type": "code",
   "execution_count": 22,
   "id": "820daebb",
   "metadata": {},
   "outputs": [],
   "source": [
    "# Set the telescope state to be the same as the OFC\n",
    "state0 = closeLoopTask.ofcCalc.ofc_controller.aggregated_state\n",
    "closeLoopTask.phosimCmpt.setDofInUm(state0)\n",
    "\n",
    "# Get the list of referenced sensor name (field positions)\n",
    "refSensorNameList = closeLoopTask.getSensorNameListOfFields(instName)\n",
    "refSensorIdList = closeLoopTask.getSensorIdListOfFields(instName)\n",
    "\n",
    "# Common file and directory names\n",
    "opdZkFileName = \"opd.zer\"\n",
    "opdPssnFileName = \"PSSN.txt\"\n",
    "outputDirName = \"pert\"\n",
    "outputImgDirName = \"img\"\n",
    "iterDefaultDirName = \"iter\"\n",
    "dofInUmFileName = \"dofPertInNextIter.mat\"\n",
    "fwhmItersFileName = \"fwhmIters.png\"\n",
    "\n",
    "# Specific file names to the amplifier/eimage\n",
    "wfsZkFileName = \"wfs.zer\""
   ]
  },
  {
   "cell_type": "markdown",
   "id": "6b0d9b00",
   "metadata": {},
   "source": [
    "### Run simulation for each iteration"
   ]
  },
  {
   "cell_type": "code",
   "execution_count": null,
   "id": "bc40802e",
   "metadata": {},
   "outputs": [],
   "source": [
    "# Do the iteration\n",
    "obsId = 9006000\n",
    "\n",
    "for iterCount in tqdm(range(iterNum)):\n",
    "    print(iterCount)\n",
    "\n",
    "    # Set the observation Id\n",
    "    closeLoopTask.phosimCmpt.setSurveyParam(obsId=obsId)\n",
    "\n",
    "    # The iteration directory\n",
    "    iterDirName = \"%s%d\" % (iterDefaultDirName, iterCount)\n",
    "\n",
    "    # Set the output directory\n",
    "    outputDir = os.path.join(baseOutputDir, iterDirName, outputDirName)\n",
    "    closeLoopTask.phosimCmpt.setOutputDir(outputDir)\n",
    "\n",
    "    # Set the output image directory\n",
    "    outputImgDir = os.path.join(baseOutputDir, iterDirName, outputImgDirName)\n",
    "    closeLoopTask.phosimCmpt.setOutputImgDir(outputImgDir)\n",
    "\n",
    "    # Generate the OPD image\n",
    "    print(\"Preparing PhoSim....\")\n",
    "    argString = closeLoopTask.phosimCmpt.getOpdArgsAndFilesForPhoSim(instName)\n",
    "\n",
    "    print(\"PhoSim prepared....\")\n",
    "    closeLoopTask.phosimCmpt.runPhoSim(argString)\n",
    "\n",
    "    # Analyze the OPD data\n",
    "    # Rotate OPD in the reversed direction of camera\n",
    "    print(\"Analyzing OPD data....\")\n",
    "    closeLoopTask.phosimCmpt.analyzeOpdData(\n",
    "        instName,\n",
    "        zkFileName=opdZkFileName,\n",
    "        rotOpdInDeg=-rotCamInDeg,\n",
    "        pssnFileName=opdPssnFileName,\n",
    "    )\n",
    "    print(\"OPD data analyzed....\")\n",
    "    \n",
    "    # Get the PSSN from file\n",
    "    pssn = closeLoopTask.phosimCmpt.getOpdPssnFromFile(opdPssnFileName)\n",
    "    print(\"Calculated PSSN is %s.\" % pssn)\n",
    "\n",
    "    # Get the GQ effective FWHM from file\n",
    "    gqEffFwhm = closeLoopTask.phosimCmpt.getOpdGqEffFwhmFromFile(opdPssnFileName)\n",
    "    print(\"GQ effective FWHM is %.4f.\" % gqEffFwhm)\n",
    "\n",
    "    # Set the FWHM data\n",
    "    print(\"Setting FWHM data...\")\n",
    "    fwhm, sensor_id = closeLoopTask.phosimCmpt.getListOfFwhmSensorData(\n",
    "        opdPssnFileName, refSensorIdList\n",
    "    )\n",
    "\n",
    "    closeLoopTask.ofcCalc.set_fwhm_data(fwhm, sensor_id)\n",
    "    print(\"FWHM data set.\")\n",
    "\n",
    "    # Generate the sky images and calculate the wavefront error\n",
    "    if closeLoopTask.useCcdImg():\n",
    "        listOfWfErr = closeLoopTask._calcWfErrFromImg(\n",
    "            obsId, butlerRootPath = butlerRootPath, instName=instName, snap=0\n",
    "        )\n",
    "    else:\n",
    "        # Simulate to get the wavefront sensor data from WEP\n",
    "        listOfWfErr = closeLoopTask.phosimCmpt.mapOpdDataToListOfWfErr(\n",
    "            opdZkFileName, refSensorIdList\n",
    "        )\n",
    "\n",
    "    # Record the wavefront error with the same order as OPD for the\n",
    "    # comparison\n",
    "    if closeLoopTask.useCcdImg():\n",
    "        closeLoopTask.phosimCmpt.reorderAndSaveWfErrFile(\n",
    "            listOfWfErr,\n",
    "            refSensorNameList,\n",
    "            getCamera(instName),\n",
    "            zkFileName=wfsZkFileName,\n",
    "        )\n",
    "\n",
    "    # Calculate the DOF\n",
    "    wfe = np.array(\n",
    "        [sensor_wfe.getAnnularZernikePoly() for sensor_wfe in listOfWfErr]\n",
    "    )\n",
    "    sensor_ids = np.array(\n",
    "        [sensor_wfe.getSensorId() for sensor_wfe in listOfWfErr]\n",
    "    )\n",
    "\n",
    "    closeLoopTask.ofcCalc.calculate_corrections(\n",
    "        wfe=wfe,\n",
    "        field_idx=sensor_ids,\n",
    "        filter_name=str(filterType),\n",
    "        gain=-1,\n",
    "        rot=rotCamInDeg,\n",
    "    )\n",
    "\n",
    "    # Set the new aggregated DOF to phosimCmpt\n",
    "    dofInUm = closeLoopTask.ofcCalc.ofc_controller.aggregated_state\n",
    "    closeLoopTask.phosimCmpt.setDofInUm(dofInUm)\n",
    "\n",
    "    # Save the DOF file\n",
    "    closeLoopTask.phosimCmpt.saveDofInUmFileForNextIter(\n",
    "        dofInUm, dofInUmFileName=dofInUmFileName\n",
    "    )\n",
    "\n",
    "    # Add the observation ID by 10 for the next iteration\n",
    "    obsId += 10"
   ]
  },
  {
   "cell_type": "markdown",
   "id": "8c427b0e",
   "metadata": {},
   "source": [
    "### Summarize the FWHM and plot pssn profiles"
   ]
  },
  {
   "cell_type": "code",
   "execution_count": null,
   "id": "5f0ea29c",
   "metadata": {},
   "outputs": [],
   "source": [
    "# Summarize the FWHM\n",
    "pssnFiles = [\n",
    "    os.path.join(\n",
    "        baseOutputDir,\n",
    "        \"%s%d\" % (iterDefaultDirName, num),\n",
    "        outputImgDirName,\n",
    "        opdPssnFileName,\n",
    "    )\n",
    "    for num in range(iterNum)\n",
    "]\n",
    "saveToFilePath = os.path.join(baseOutputDir, fwhmItersFileName)\n",
    "plotFwhmOfIters(pssnFiles, saveToFilePath=saveToFilePath)"
   ]
  }
 ],
 "metadata": {
  "kernelspec": {
   "display_name": "LSST",
   "language": "python",
   "name": "lsst"
  },
  "language_info": {
   "codemirror_mode": {
    "name": "ipython",
    "version": 3
   },
   "file_extension": ".py",
   "mimetype": "text/x-python",
   "name": "python",
   "nbconvert_exporter": "python",
   "pygments_lexer": "ipython3",
   "version": "3.8.8"
  }
 },
 "nbformat": 4,
 "nbformat_minor": 5
}
