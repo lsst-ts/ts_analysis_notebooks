{
 "cells": [
  {
   "cell_type": "markdown",
   "id": "fcd272f1",
   "metadata": {},
   "source": [
    "## Closed Loop Simulation Notebook\n",
    "\n",
    "This notebook breaks down the closed loop simulation in different jupyter notebook cells. The aim of this notebook is to ease the debugging and development of the different packages involved in the Optical Feedback Control loop.\n",
    "\n",
    "This notebook was last run on Aug. 12th 2021. \n",
    "Details:\n",
    "- Machine size: 32 CPUs, 16 cores per socket (2 sockets).\n",
    "- Stack release: 2021_13, Last verified to run 2021-08-12\n",
    "- ts_phosim release: v1.4.0\n",
    "\n",
    "\n",
    "### Required python packages"
   ]
  },
  {
   "cell_type": "code",
   "execution_count": 2,
   "id": "7fc467e0",
   "metadata": {},
   "outputs": [],
   "source": [
    "import argparse\n",
    "import logging\n",
    "import os\n",
    "import sys\n",
    "import time\n",
    "import shutil\n",
    "\n",
    "from lsst.ts.phosim.CloseLoopTask import CloseLoopTask\n",
    "from lsst.ts.phosim.telescope.TeleFacade import TeleFacade"
   ]
  },
  {
   "cell_type": "code",
   "execution_count": 3,
   "id": "50512683",
   "metadata": {},
   "outputs": [],
   "source": [
    "from tqdm import tqdm"
   ]
  },
  {
   "cell_type": "markdown",
   "id": "9fc8c85d",
   "metadata": {},
   "source": [
    "### Default arguments and initializations\n",
    "\n",
    "Initialize default arguments to run the closed loop and initialize the ClosedLoopTask"
   ]
  },
  {
   "cell_type": "code",
   "execution_count": 4,
   "id": "e1f2b473",
   "metadata": {},
   "outputs": [
    {
     "name": "stdout",
     "output_type": "stream",
     "text": [
      "Namespace(boresightDeg=[0, 0], clobber=False, eimage=False, filterType='', inst='comcam', iterNum=5, log_level=20, m1m3FErr=0.05, numOfProc=1, output='', rotCam=0.0, skyFile='')\n",
      "CPU times: user 3.96 ms, sys: 48 µs, total: 4.01 ms\n",
      "Wall time: 3.46 ms\n"
     ]
    }
   ],
   "source": [
    "%%time\n",
    "\n",
    "# Set the parser\n",
    "parser = argparse.ArgumentParser(\n",
    "    description=\"Run AOS closed-loop simulation (default is amplifier files).\"\n",
    ")\n",
    "parser = CloseLoopTask.setDefaultParser(parser)\n",
    "parser = CloseLoopTask.setImgParser(parser)\n",
    "\n",
    "# Get the default arguments\n",
    "sys.argv = ['-f']\n",
    "args = parser.parse_args()\n",
    "\n",
    "# Print default arguments\n",
    "print(args)\n",
    "\n",
    "logger = logging.getLogger()\n",
    "logger.setLevel(args.log_level)\n",
    "\n",
    "# Initialize the ClosedLoopTask\n",
    "closeLoopTask = CloseLoopTask()"
   ]
  },
  {
   "cell_type": "markdown",
   "id": "351caf64",
   "metadata": {},
   "source": [
    "### Set paths and arguments\n",
    "\n",
    "Customize the following arguments to run the simulation you are interested in. If not stated in the following code cell, the arguments are taken to be the default ones. Note that this paths should be changed if another user is running them and wants to change the directory addresses."
   ]
  },
  {
   "cell_type": "code",
   "execution_count": 5,
   "id": "4dc57c13",
   "metadata": {},
   "outputs": [],
   "source": [
    "PHOSIMPATH = \"/project/gmegias/aos/lsst_stack/phosim_syseng4/\"\n",
    "AOCLCOUTPUTPATH = \"/project/gmegias/aos/lsst_stack/ts_phosim/output/\"\n",
    "os.environ[\"PHOSIMPATH\"] = PHOSIMPATH\n",
    "os.environ[\"AOCLCOUTPUTPATH\"] = AOCLCOUTPUTPATH"
   ]
  },
  {
   "cell_type": "code",
   "execution_count": 6,
   "id": "b485fd1f",
   "metadata": {},
   "outputs": [],
   "source": [
    "args.inst = 'comcam' \n",
    "args.numOfProc = 32 \n",
    "args.boresightDeg = [0.03, -0.02]\n",
    "args.skyFile = '/project/gmegias/aos/lsst_stack/ts_phosim/tests/testData/sky/skyComCam.txt'\n",
    "args.output = '/project/gmegias/aos/perturbations/imgCloseLoop_test12/'\n",
    "\n",
    "if os.path.exists(args.output):\n",
    "    shutil.rmtree(args.output)"
   ]
  },
  {
   "cell_type": "markdown",
   "id": "e6c62b2f",
   "metadata": {},
   "source": [
    "### Intializations and initial configurations\n",
    "\n",
    "First, initialize the variables from the arguments dictionary."
   ]
  },
  {
   "cell_type": "code",
   "execution_count": 7,
   "id": "4656d94b",
   "metadata": {},
   "outputs": [],
   "source": [
    "boresight = args.boresightDeg\n",
    "rotCamInDeg = args.rotCam\n",
    "useEimg = args.eimage\n",
    "m1m3ForceError = args.m1m3FErr\n",
    "numPro = args.numOfProc\n",
    "iterNum = args.iterNum\n",
    "doErsDirCont = args.clobber\n",
    "pathSkyFile = args.skyFile"
   ]
  },
  {
   "cell_type": "markdown",
   "id": "6f7b416e",
   "metadata": {},
   "source": [
    "Check and set the required configurations to run the simulation loop."
   ]
  },
  {
   "cell_type": "code",
   "execution_count": 8,
   "id": "7b794816",
   "metadata": {},
   "outputs": [
    {
     "name": "stderr",
     "output_type": "stream",
     "text": [
      "/project/gmegias/aos/lsst_stack/ts_wep/python/lsst/ts/wep/bsc/WcsSol.py:45: FutureWarning: Gen2 Butler has been deprecated (LsstCamMapper). It will be removed sometime after v23.0 but no earlier than the end of 2021.\n",
      "  self._camera = obs_lsst.lsstCamMapper.LsstCamMapper().camera\n"
     ]
    },
    {
     "name": "stdout",
     "output_type": "stream",
     "text": [
      "CPU times: user 2min 43s, sys: 3.02 s, total: 2min 46s\n",
      "Wall time: 2min 47s\n"
     ]
    }
   ],
   "source": [
    "%%time\n",
    "\n",
    "# Check the input arguments\n",
    "camType, instName = closeLoopTask.getCamTypeAndInstName(args.inst)\n",
    "filterType = closeLoopTask.getFilterType(args.filterType)\n",
    "baseOutputDir = closeLoopTask.checkAndCreateBaseOutputDir(args.output)\n",
    "\n",
    "if doErsDirCont:\n",
    "    closeLoopTask.eraseDirectoryContent(baseOutputDir)\n",
    "\n",
    "closeLoopTask.checkBoresight(boresight, args.skyFile)\n",
    "\n",
    "closeLoopTask.assignImgType(useEimg)\n",
    "\n",
    "# Configure the components\n",
    "closeLoopTask.configSkySim(instName, pathSkyFile = args.skyFile, starMag=15)\n",
    "\n",
    "pathIsrDir = closeLoopTask.createIsrDir(baseOutputDir)\n",
    "closeLoopTask.configWepCalc(\n",
    "    camType, pathIsrDir, filterType, boresight, rotCamInDeg, useEimg=useEimg\n",
    ")\n",
    "\n",
    "closeLoopTask.configOfcCalc(instName)\n",
    "closeLoopTask.configPhosimCmpt(\n",
    "    filterType, rotCamInDeg, m1m3ForceError, numPro\n",
    ")\n",
    "\n",
    "# Set the defocal distance for WEP calculator based on the setting\n",
    "# file in the telescope\n",
    "closeLoopTask.setWepCalcWithDefocalDist()"
   ]
  },
  {
   "cell_type": "markdown",
   "id": "016711a9",
   "metadata": {},
   "source": [
    "### Generate butler gen3 repository."
   ]
  },
  {
   "cell_type": "code",
   "execution_count": 9,
   "id": "9c2ff46a",
   "metadata": {},
   "outputs": [
    {
     "name": "stdout",
     "output_type": "stream",
     "text": [
      "CPU times: user 36.7 ms, sys: 65.1 ms, total: 102 ms\n",
      "Wall time: 3min 15s\n"
     ]
    }
   ],
   "source": [
    "%%time\n",
    "\n",
    "# generate bluter gen3 repo if needed\n",
    "butlerRootPath = os.path.join(baseOutputDir, \"phosimData\")\n",
    "if closeLoopTask.useCcdImg():\n",
    "    closeLoopTask.generateButler(butlerRootPath, instName)\n",
    "    closeLoopTask.generateRefCatalog(\n",
    "        instName = instName,\n",
    "        butlerRootPath = butlerRootPath,\n",
    "        pathSkyFile = pathSkyFile,\n",
    "    )\n",
    "    \n",
    "closeLoopTask.phosimCmpt.tele.setInstName(camType)"
   ]
  },
  {
   "cell_type": "markdown",
   "id": "811fb208",
   "metadata": {},
   "source": [
    "### Simulation loop initialization\n",
    "\n",
    "Initialize the state of the telescope to run the simulation. This cell also sets common file and directory names required for the closed loop simulation."
   ]
  },
  {
   "cell_type": "code",
   "execution_count": 10,
   "id": "8435dae9",
   "metadata": {},
   "outputs": [
    {
     "name": "stdout",
     "output_type": "stream",
     "text": [
      "CPU times: user 84 ms, sys: 6.02 ms, total: 90 ms\n",
      "Wall time: 88.1 ms\n"
     ]
    }
   ],
   "source": [
    "%%time\n",
    "\n",
    "# Set the telescope state to be the same as the OFC\n",
    "state0 = closeLoopTask.ofcCalc.ofc_controller.aggregated_state\n",
    "closeLoopTask.phosimCmpt.setDofInUm(state0)\n",
    "\n",
    "# Get the list of referenced sensor name (field positions)\n",
    "refSensorNameList = closeLoopTask.getSensorNameListOfFields(instName)\n",
    "refSensorIdList = closeLoopTask.getSensorIdListOfFields(instName)\n",
    "\n",
    "# Common file and directory names\n",
    "opdZkFileName = \"opd.zer\"\n",
    "opdPssnFileName = \"PSSN.txt\"\n",
    "outputDirName = \"pert\"\n",
    "outputImgDirName = \"img\"\n",
    "iterDefaultDirName = \"iter\"\n",
    "dofInUmFileName = \"dofPertInNextIter.mat\"\n",
    "fwhmItersFileName = \"fwhmIters.png\"\n",
    "\n",
    "# Specific file names to the amplifier/eimage\n",
    "wfsZkFileName = \"wfs.zer\""
   ]
  },
  {
   "cell_type": "markdown",
   "id": "4e5b63bb",
   "metadata": {},
   "source": [
    "### Define Phosim initalization functions"
   ]
  },
  {
   "cell_type": "code",
   "execution_count": 13,
   "id": "d71548c9",
   "metadata": {},
   "outputs": [
    {
     "data": {
      "text/plain": [
       "'/project/gmegias/aos/perturbations/imgCloseLoop_test12/iter0/pert/opd.inst -i comcam -e 1 -c /project/gmegias/aos/perturbations/imgCloseLoop_test12/iter0/pert/opd.cmd -p 32 -o /project/gmegias/aos/perturbations/imgCloseLoop_test12/iter0/img > /project/gmegias/aos/perturbations/imgCloseLoop_test12/iter0/img/opdPhoSim.log 2>&1'"
      ]
     },
     "execution_count": 13,
     "metadata": {},
     "output_type": "execute_result"
    }
   ],
   "source": [
    "\n",
    "def _writePertAndCmdFiles(self, cmdSettingFileName, cmdFileName):\n",
    "    \"\"\"Write the physical perturbation and command files.\n",
    "    Parameters\n",
    "    ----------\n",
    "    cmdSettingFileName : str\n",
    "        Physical command setting file name.\n",
    "    cmdFileName : str\n",
    "        Physical command file name.\n",
    "    Returns\n",
    "    -------\n",
    "    str\n",
    "        Command file path.\n",
    "    \"\"\"\n",
    "\n",
    "    # Write the perturbation file\n",
    "    pertCmdFileName = \"pert.cmd\"\n",
    "\n",
    "    pertCmdFilePath = os.path.join(self.outputDir, pertCmdFileName)\n",
    "    tele = TeleFacade()\n",
    "    if not os.path.exists(pertCmdFilePath):\n",
    "        tele.writePertBaseOnConfigFile(\n",
    "            self.outputDir,\n",
    "            seedNum=self.seedNum,\n",
    "            m1m3ForceError=self.m1m3ForceError,\n",
    "            saveResMapFig=True,\n",
    "            pertCmdFileName=pertCmdFileName,\n",
    "        )\n",
    "\n",
    "    # Write the physical command file\n",
    "    cmdSettingFile = os.path.join(self.configDir, \"cmdFile\", cmdSettingFileName)\n",
    "    cmdFilePath = os.path.join(self.outputDir, cmdFileName)\n",
    "    if not os.path.exists(cmdFilePath):\n",
    "        self.tele.writeCmdFile(\n",
    "            self.outputDir,\n",
    "            cmdSettingFile=cmdSettingFile,\n",
    "            pertFilePath=pertCmdFilePath,\n",
    "            cmdFileName=cmdFileName,\n",
    "        )\n",
    "\n",
    "    return cmdFilePath\n",
    "\n",
    "def getOpdArgsAndFilesForPhoSim(\n",
    "        phosimCmpt,\n",
    "        instName,\n",
    "        cmdFileName=\"opd.cmd\",\n",
    "        instFileName=\"opd.inst\",\n",
    "        logFileName=\"opdPhoSim.log\",\n",
    "        cmdSettingFileName=\"opdDefault.cmd\",\n",
    "        instSettingFileName=\"opdDefault.inst\",\n",
    "    ):\n",
    "        \"\"\"Get the OPD calculation arguments and files for the PhoSim\n",
    "        calculation.\n",
    "        OPD: optical path difference.\n",
    "        Parameters\n",
    "        ----------\n",
    "        instName : `str`\n",
    "            Instrument name.\n",
    "        cmdFileName : str, optional\n",
    "            Physical command file name. (the default is \"opd.cmd\".)\n",
    "        instFileName : str, optional\n",
    "            OPD instance file name. (the default is \"opd.inst\".)\n",
    "        logFileName : str, optional\n",
    "            Log file name. (the default is \"opdPhoSim.log\".)\n",
    "        cmdSettingFileName : str, optional\n",
    "            Physical command setting file name. (the default is\n",
    "            \"opdDefault.cmd\".)\n",
    "        instSettingFileName : str, optional\n",
    "            Instance setting file name. (the default is \"opdDefault.inst\".)\n",
    "        Returns\n",
    "        -------\n",
    "        str\n",
    "            Arguments to run the PhoSim.\n",
    "        \"\"\"\n",
    "\n",
    "        # Set the weighting ratio and field positions of OPD\n",
    "        phosimCmpt.metr.setWgtAndFieldXyOfGQ(instName)\n",
    "\n",
    "        # Write the command file\n",
    "        cmdFilePath = _writePertAndCmdFiles(phosimCmpt, cmdSettingFileName, cmdFileName)\n",
    "\n",
    "        # Write the instance file\n",
    "        instSettingFile = phosimCmpt._getInstSettingFilePath(instSettingFileName)\n",
    "\n",
    "        instFilePath = phosimCmpt.tele.writeOpdInstFile(\n",
    "            phosimCmpt.outputDir,\n",
    "            phosimCmpt.metr,\n",
    "            instSettingFile=instSettingFile,\n",
    "            instFileName=instFileName,\n",
    "        )\n",
    "\n",
    "        # Get the argument to run the PhoSim\n",
    "        argString = phosimCmpt._getPhoSimArgs(logFileName, instFilePath, cmdFilePath)\n",
    "\n",
    "        return argString\n",
    "    \n",
    "getOpdArgsAndFilesForPhoSim(closeLoopTask.phosimCmpt, instName)"
   ]
  },
  {
   "cell_type": "markdown",
   "id": "a08f2a2c",
   "metadata": {},
   "source": [
    "### Run simulation for each iteration"
   ]
  },
  {
   "cell_type": "code",
   "execution_count": 14,
   "id": "66cbefe8",
   "metadata": {},
   "outputs": [
    {
     "name": "stderr",
     "output_type": "stream",
     "text": [
      "  0%|          | 0/5 [00:00<?, ?it/s]"
     ]
    },
    {
     "name": "stdout",
     "output_type": "stream",
     "text": [
      "0\n",
      "Preparing PhoSim....\n",
      "PhoSim prepared, took 0.013274431228637695 seconds.\n",
      "Running PhoSim....\n",
      "PhoSim run, took 108.8821747303009 seconds.\n",
      "Analyzing OPD data....\n",
      "OPD data analyzed, took 4.577322483062744 seconds.\n",
      "Calculated PSSN is [0.98029371 0.98606982 0.98029371 0.98606982 0.98372946 0.98606982\n",
      " 0.98159617 0.98606982 0.9802937 ].\n",
      "GQ effective FWHM is 0.0844.\n",
      "Setting FWHM data...\n",
      "FWHM data set, took 0.002550363540649414 seconds.\n",
      "Generating sky images and calculating WF error...\n"
     ]
    },
    {
     "name": "stderr",
     "output_type": "stream",
     "text": [
      "  0%|          | 0/5 [15:29<?, ?it/s]\n"
     ]
    },
    {
     "ename": "RuntimeError",
     "evalue": "Error running: pipetask run -b /project/gmegias/aos/perturbations/imgCloseLoop_test12/phosimData -i refcats,LSSTComCam/raw/all,LSSTComCam/calib --instrument lsst.obs.lsst.LsstComCam --register-dataset-types --output-run ts_phosim_9006001 -p comcamPipeline.yaml -d \"exposure IN (4021123106001, 4021123106002)\" -j 2",
     "output_type": "error",
     "traceback": [
      "\u001b[0;31m---------------------------------------------------------------------------\u001b[0m",
      "\u001b[0;31mRuntimeError\u001b[0m                              Traceback (most recent call last)",
      "\u001b[0;32m<ipython-input-14-5cdf86f03e05>\u001b[0m in \u001b[0;36m<module>\u001b[0;34m\u001b[0m\n\u001b[1;32m     69\u001b[0m     \u001b[0mt0\u001b[0m \u001b[0;34m=\u001b[0m \u001b[0mtime\u001b[0m\u001b[0;34m.\u001b[0m\u001b[0mtime\u001b[0m\u001b[0;34m(\u001b[0m\u001b[0;34m)\u001b[0m\u001b[0;34m\u001b[0m\u001b[0;34m\u001b[0m\u001b[0m\n\u001b[1;32m     70\u001b[0m     \u001b[0;32mif\u001b[0m \u001b[0mcloseLoopTask\u001b[0m\u001b[0;34m.\u001b[0m\u001b[0museCcdImg\u001b[0m\u001b[0;34m(\u001b[0m\u001b[0;34m)\u001b[0m\u001b[0;34m:\u001b[0m\u001b[0;34m\u001b[0m\u001b[0;34m\u001b[0m\u001b[0m\n\u001b[0;32m---> 71\u001b[0;31m         listOfWfErr = closeLoopTask._calcWfErrFromImg(\n\u001b[0m\u001b[1;32m     72\u001b[0m             \u001b[0mobsId\u001b[0m\u001b[0;34m,\u001b[0m \u001b[0mbutlerRootPath\u001b[0m \u001b[0;34m=\u001b[0m \u001b[0mbutlerRootPath\u001b[0m\u001b[0;34m,\u001b[0m \u001b[0minstName\u001b[0m\u001b[0;34m=\u001b[0m\u001b[0minstName\u001b[0m\u001b[0;34m,\u001b[0m \u001b[0msnap\u001b[0m\u001b[0;34m=\u001b[0m\u001b[0;36m0\u001b[0m\u001b[0;34m\u001b[0m\u001b[0;34m\u001b[0m\u001b[0m\n\u001b[1;32m     73\u001b[0m         )\n",
      "\u001b[0;32m/project/gmegias/aos/lsst_stack/ts_phosim/python/lsst/ts/phosim/CloseLoopTask.py\u001b[0m in \u001b[0;36m_calcWfErrFromImg\u001b[0;34m(self, obsId, butlerRootPath, instName, snap, simSeed)\u001b[0m\n\u001b[1;32m    791\u001b[0m         \u001b[0mself\u001b[0m\u001b[0;34m.\u001b[0m\u001b[0mingestData\u001b[0m\u001b[0;34m(\u001b[0m\u001b[0mbutlerRootPath\u001b[0m\u001b[0;34m=\u001b[0m\u001b[0mbutlerRootPath\u001b[0m\u001b[0;34m,\u001b[0m \u001b[0minstName\u001b[0m\u001b[0;34m=\u001b[0m\u001b[0minstName\u001b[0m\u001b[0;34m)\u001b[0m\u001b[0;34m\u001b[0m\u001b[0;34m\u001b[0m\u001b[0m\n\u001b[1;32m    792\u001b[0m \u001b[0;34m\u001b[0m\u001b[0m\n\u001b[0;32m--> 793\u001b[0;31m         \u001b[0mlistOfWfErr\u001b[0m \u001b[0;34m=\u001b[0m \u001b[0mself\u001b[0m\u001b[0;34m.\u001b[0m\u001b[0mrunWep\u001b[0m\u001b[0;34m(\u001b[0m\u001b[0mextraObsId\u001b[0m\u001b[0;34m,\u001b[0m \u001b[0mintraObsId\u001b[0m\u001b[0;34m,\u001b[0m \u001b[0mbutlerRootPath\u001b[0m\u001b[0;34m,\u001b[0m \u001b[0minstName\u001b[0m\u001b[0;34m)\u001b[0m\u001b[0;34m\u001b[0m\u001b[0;34m\u001b[0m\u001b[0m\n\u001b[0m\u001b[1;32m    794\u001b[0m \u001b[0;34m\u001b[0m\u001b[0m\n\u001b[1;32m    795\u001b[0m         \u001b[0;32mreturn\u001b[0m \u001b[0mlistOfWfErr\u001b[0m\u001b[0;34m\u001b[0m\u001b[0;34m\u001b[0m\u001b[0m\n",
      "\u001b[0;32m/project/gmegias/aos/lsst_stack/ts_phosim/python/lsst/ts/phosim/CloseLoopTask.py\u001b[0m in \u001b[0;36mrunWep\u001b[0;34m(self, extraObsId, intraObsId, butlerRootPath, instName)\u001b[0m\n\u001b[1;32m    830\u001b[0m         \u001b[0mself\u001b[0m\u001b[0;34m.\u001b[0m\u001b[0mwriteWepConfiguration\u001b[0m\u001b[0;34m(\u001b[0m\u001b[0minstName\u001b[0m\u001b[0;34m)\u001b[0m\u001b[0;34m\u001b[0m\u001b[0;34m\u001b[0m\u001b[0m\n\u001b[1;32m    831\u001b[0m \u001b[0;34m\u001b[0m\u001b[0m\n\u001b[0;32m--> 832\u001b[0;31m         runProgram(\n\u001b[0m\u001b[1;32m    833\u001b[0m             \u001b[0;34mf\"pipetask run -b {butlerRootPath} \"\u001b[0m\u001b[0;34m\u001b[0m\u001b[0;34m\u001b[0m\u001b[0m\n\u001b[1;32m    834\u001b[0m             \u001b[0;34mf\"-i refcats,LSST{butlerInstName}/raw/all,LSST{butlerInstName}/calib \"\u001b[0m\u001b[0;34m\u001b[0m\u001b[0;34m\u001b[0m\u001b[0m\n",
      "\u001b[0;32m/project/gmegias/aos/lsst_stack/ts_wep/python/lsst/ts/wep/Utility.py\u001b[0m in \u001b[0;36mrunProgram\u001b[0;34m(command, binDir, argstring)\u001b[0m\n\u001b[1;32m    140\u001b[0m     \u001b[0;31m# Call the program w/o arguments\u001b[0m\u001b[0;34m\u001b[0m\u001b[0;34m\u001b[0m\u001b[0;34m\u001b[0m\u001b[0m\n\u001b[1;32m    141\u001b[0m     \u001b[0;32mif\u001b[0m \u001b[0msubprocess\u001b[0m\u001b[0;34m.\u001b[0m\u001b[0mcall\u001b[0m\u001b[0;34m(\u001b[0m\u001b[0mcommand\u001b[0m\u001b[0;34m,\u001b[0m \u001b[0mshell\u001b[0m\u001b[0;34m=\u001b[0m\u001b[0;32mTrue\u001b[0m\u001b[0;34m)\u001b[0m \u001b[0;34m!=\u001b[0m \u001b[0;36m0\u001b[0m\u001b[0;34m:\u001b[0m\u001b[0;34m\u001b[0m\u001b[0;34m\u001b[0m\u001b[0m\n\u001b[0;32m--> 142\u001b[0;31m         \u001b[0;32mraise\u001b[0m \u001b[0mRuntimeError\u001b[0m\u001b[0;34m(\u001b[0m\u001b[0;34m\"Error running: %s\"\u001b[0m \u001b[0;34m%\u001b[0m \u001b[0mcommand\u001b[0m\u001b[0;34m)\u001b[0m\u001b[0;34m\u001b[0m\u001b[0;34m\u001b[0m\u001b[0m\n\u001b[0m\u001b[1;32m    143\u001b[0m \u001b[0;34m\u001b[0m\u001b[0m\n\u001b[1;32m    144\u001b[0m \u001b[0;34m\u001b[0m\u001b[0m\n",
      "\u001b[0;31mRuntimeError\u001b[0m: Error running: pipetask run -b /project/gmegias/aos/perturbations/imgCloseLoop_test12/phosimData -i refcats,LSSTComCam/raw/all,LSSTComCam/calib --instrument lsst.obs.lsst.LsstComCam --register-dataset-types --output-run ts_phosim_9006001 -p comcamPipeline.yaml -d \"exposure IN (4021123106001, 4021123106002)\" -j 2"
     ]
    }
   ],
   "source": [
    "# Do the iteration\n",
    "obsId = 9006000\n",
    "\n",
    "for iterCount in tqdm(range(iterNum)):\n",
    "    print(iterCount)\n",
    "\n",
    "    # Set the observation Id\n",
    "    closeLoopTask.phosimCmpt.setSurveyParam(obsId=obsId)\n",
    "\n",
    "    # The iteration directory\n",
    "    iterDirName = \"%s%d\" % (iterDefaultDirName, iterCount)\n",
    "\n",
    "    # Set the output directory\n",
    "    outputDir = os.path.join(baseOutputDir, iterDirName, outputDirName)\n",
    "    closeLoopTask.phosimCmpt.setOutputDir(outputDir)\n",
    "\n",
    "    # Set the output image directory\n",
    "    outputImgDir = os.path.join(baseOutputDir, iterDirName, outputImgDirName)\n",
    "    closeLoopTask.phosimCmpt.setOutputImgDir(outputImgDir)\n",
    "\n",
    "    # Generate the OPD image\n",
    "    print(\"Preparing PhoSim....\")\n",
    "    t0 = time.time()\n",
    "    argString = getOpdArgsAndFilesForPhoSim(closeLoopTask.phosimCmpt, instName)\n",
    "    ttl_time = time.time() - t0\n",
    "    print(\"PhoSim prepared, took {} seconds.\".format(ttl_time))\n",
    "    \n",
    "    # Run Phosimd\n",
    "    print(\"Running PhoSim....\")\n",
    "    t0 = time.time()\n",
    "    closeLoopTask.phosimCmpt.runPhoSim(argString)\n",
    "    ttl_time = time.time() - t0\n",
    "    print(\"PhoSim run, took {} seconds.\".format(ttl_time))\n",
    "\n",
    "    # Analyze the OPD data\n",
    "    # Rotate OPD in the reversed direction of camera\n",
    "    print(\"Analyzing OPD data....\")\n",
    "    t0 = time.time()\n",
    "    closeLoopTask.phosimCmpt.analyzeOpdData(\n",
    "        instName,\n",
    "        zkFileName=opdZkFileName,\n",
    "        rotOpdInDeg=-rotCamInDeg,\n",
    "        pssnFileName=opdPssnFileName,\n",
    "    )\n",
    "    ttl_time = time.time() - t0\n",
    "    print(\"OPD data analyzed, took {} seconds.\".format(ttl_time))\n",
    "    \n",
    "    # Get the PSSN from file\n",
    "    pssn = closeLoopTask.phosimCmpt.getOpdPssnFromFile(opdPssnFileName)\n",
    "    print(\"Calculated PSSN is %s.\" % pssn)\n",
    "\n",
    "    # Get the GQ effective FWHM from file\n",
    "    gqEffFwhm = closeLoopTask.phosimCmpt.getOpdGqEffFwhmFromFile(opdPssnFileName)\n",
    "    print(\"GQ effective FWHM is %.4f.\" % gqEffFwhm)\n",
    "\n",
    "    # Set the FWHM data\n",
    "    print(\"Setting FWHM data...\")\n",
    "    t0 = time.time()\n",
    "    fwhm, sensor_id = closeLoopTask.phosimCmpt.getListOfFwhmSensorData(\n",
    "        opdPssnFileName, refSensorIdList\n",
    "    )\n",
    "\n",
    "    closeLoopTask.ofcCalc.set_fwhm_data(fwhm, sensor_id)\n",
    "    ttl_time = time.time() - t0\n",
    "    print(\"FWHM data set, took {} seconds.\".format(ttl_time))\n",
    "\n",
    "    # Generate the sky images and calculate the wavefront error\n",
    "    print(\"Generating sky images and calculating WF error...\")\n",
    "    t0 = time.time()\n",
    "    if closeLoopTask.useCcdImg():\n",
    "        listOfWfErr = closeLoopTask._calcWfErrFromImg(\n",
    "            obsId, butlerRootPath = butlerRootPath, instName=instName, snap=0\n",
    "        )\n",
    "    else:\n",
    "        # Simulate to get the wavefront sensor data from WEP\n",
    "        listOfWfErr = closeLoopTask.phosimCmpt.mapOpdDataToListOfWfErr(\n",
    "            opdZkFileName, refSensorIdList\n",
    "        )\n",
    "    ttl_time = time.time() - t0\n",
    "    print(\"Sky images and WF error generated. Took {} seconds.\".format(ttl_time))\n",
    "\n",
    "    # Record the wavefront error with the same order as OPD for the\n",
    "    # comparison\n",
    "    print('Recording wavefront error...')\n",
    "    t0 = time.time()\n",
    "    if closeLoopTask.useCcdImg():\n",
    "        closeLoopTask.phosimCmpt.reorderAndSaveWfErrFile(\n",
    "            listOfWfErr,\n",
    "            refSensorNameList,\n",
    "            getCamera(instName),\n",
    "            zkFileName=wfsZkFileName,\n",
    "        )\n",
    "    ttl_time = time.time() - t0\n",
    "    print('Wavefront error recorded. Took {} seconds.'.format(ttl_time))\n",
    "        \n",
    "    # Calculate the DOF\n",
    "    print('Calculating DOF...')\n",
    "    t0 = time.time()\n",
    "    wfe = np.array(\n",
    "        [sensor_wfe.getAnnularZernikePoly() for sensor_wfe in listOfWfErr]\n",
    "    )\n",
    "    sensor_ids = np.array(\n",
    "        [sensor_wfe.getSensorId() for sensor_wfe in listOfWfErr]\n",
    "    )\n",
    "    ttl_time = time.time() - t0\n",
    "    print('DOF computed. Took {} seconds.'.format(ttl_time))\n",
    "\n",
    "    print('Calculating corrections...')\n",
    "    t0 = time.time()\n",
    "    closeLoopTask.ofcCalc.calculate_corrections(\n",
    "        wfe=wfe,\n",
    "        field_idx=sensor_ids,\n",
    "        filter_name=str(filterType),\n",
    "        gain=-1,\n",
    "        rot=rotCamInDeg,\n",
    "    )\n",
    "    ttl_time = time.time() - t0\n",
    "    print('Corrections computed. Took {} seconds.'.format(ttl_time))\n",
    "\n",
    "    # Set the new aggregated DOF to phosimCmpt\n",
    "    print('Setting and saving new DOF...')\n",
    "    t0 = time.time()\n",
    "    dofInUm = closeLoopTask.ofcCalc.ofc_controller.aggregated_state\n",
    "    closeLoopTask.phosimCmpt.setDofInUm(dofInUm)\n",
    "\n",
    "    # Save the DOF file\n",
    "    closeLoopTask.phosimCmpt.saveDofInUmFileForNextIter(\n",
    "        dofInUm, dofInUmFileName=dofInUmFileName\n",
    "    )\n",
    "    ttl_time = time.time() - t0\n",
    "    print('New DOF saved. Took {} seconds.'.format(ttl_time))\n",
    "\n",
    "    # Add the observation ID by 10 for the next iteration\n",
    "    obsId += 10"
   ]
  },
  {
   "cell_type": "markdown",
   "id": "fe093c68",
   "metadata": {},
   "source": [
    "### Summarize the FWHM and plot pssn profiles"
   ]
  },
  {
   "cell_type": "code",
   "execution_count": null,
   "id": "75a54161",
   "metadata": {},
   "outputs": [],
   "source": [
    "# Summarize the FWHM\n",
    "pssnFiles = [\n",
    "    os.path.join(\n",
    "        baseOutputDir,\n",
    "        \"%s%d\" % (iterDefaultDirName, num),\n",
    "        outputImgDirName,\n",
    "        opdPssnFileName,\n",
    "    )\n",
    "    for num in range(iterNum)\n",
    "]\n",
    "saveToFilePath = os.path.join(baseOutputDir, fwhmItersFileName)\n",
    "plotFwhmOfIters(pssnFiles, saveToFilePath=saveToFilePath)"
   ]
  }
 ],
 "metadata": {
  "kernelspec": {
   "display_name": "LSST",
   "language": "python",
   "name": "lsst"
  },
  "language_info": {
   "codemirror_mode": {
    "name": "ipython",
    "version": 3
   },
   "file_extension": ".py",
   "mimetype": "text/x-python",
   "name": "python",
   "nbconvert_exporter": "python",
   "pygments_lexer": "ipython3",
   "version": "3.8.8"
  }
 },
 "nbformat": 4,
 "nbformat_minor": 5
}
