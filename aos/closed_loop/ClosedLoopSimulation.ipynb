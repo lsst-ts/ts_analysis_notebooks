{
 "cells": [
  {
   "cell_type": "markdown",
   "id": "0b4c6bbd",
   "metadata": {},
   "source": [
    "## Closed Loop Simulation Notebook\n",
    "\n",
    "This notebook breaks down the closed loop simulation in different jupyter notebook cells. The aim of this notebook is to ease the debugging and development of the different packages involved in the Optical Feedback Control loop.\n",
    "\n",
    "This notebook was last run on Aug. 12th 2021. \n",
    "Details:\n",
    "- Machine size: 32 CPUs, 16 cores per socket (2 sockets).\n",
    "- Stack release: 2021_25, Last verified to run 2021-08-12\n",
    "- ts_phosim release: v1.4.0\n",
    "\n",
    "\n",
    "### Required python packages"
   ]
  },
  {
   "cell_type": "code",
   "execution_count": 1,
   "id": "004d7e35",
   "metadata": {},
   "outputs": [],
   "source": [
    "import argparse\n",
    "import logging\n",
    "import numpy as np\n",
    "import os\n",
    "import shutil\n",
    "import subprocess\n",
    "import sys\n",
    "import time\n",
    "\n",
    "from lsst.ts.phosim.CloseLoopTask import CloseLoopTask\n",
    "from lsst.ts.phosim.telescope.TeleFacade import TeleFacade\n",
    "from lsst.ts.phosim.PlotUtil import plotFwhmOfIters\n",
    "from lsst.daf import butler as dafButler\n",
    "from lsst.ts.wep.Utility import CamType, FilterType, runProgram\n",
    "from lsst.ts.wep.ctrlIntf.SensorWavefrontData import SensorWavefrontData\n",
    "from lsst.ts.phosim.Utility import getPhoSimPath, getAoclcOutputPath, getCamera"
   ]
  },
  {
   "cell_type": "code",
   "execution_count": 2,
   "id": "506482e0",
   "metadata": {},
   "outputs": [],
   "source": [
    "from tqdm import tqdm"
   ]
  },
  {
   "cell_type": "markdown",
   "id": "b2a9276c",
   "metadata": {},
   "source": [
    "### Default arguments and initializations\n",
    "\n",
    "Initialize default arguments to run the closed loop and initialize the ClosedLoopTask"
   ]
  },
  {
   "cell_type": "code",
   "execution_count": 3,
   "id": "d06abc75",
   "metadata": {},
   "outputs": [
    {
     "name": "stdout",
     "output_type": "stream",
     "text": [
      "Namespace(boresightDeg=[0, 0], clobber=False, eimage=False, filterType='', inst='comcam', iterNum=5, log_level=20, m1m3FErr=0.05, numOfProc=1, output='', rotCam=0.0, skyFile='')\n",
      "CPU times: user 3.52 ms, sys: 986 µs, total: 4.51 ms\n",
      "Wall time: 3.49 ms\n"
     ]
    }
   ],
   "source": [
    "%%time\n",
    "\n",
    "# Set the parser\n",
    "parser = argparse.ArgumentParser(\n",
    "    description=\"Run AOS closed-loop simulation (default is amplifier files).\"\n",
    ")\n",
    "parser = CloseLoopTask.setDefaultParser(parser)\n",
    "parser = CloseLoopTask.setImgParser(parser)\n",
    "\n",
    "# Get the default arguments\n",
    "sys.argv = ['-f']\n",
    "args = parser.parse_args()\n",
    "\n",
    "# Print default arguments\n",
    "print(args)\n",
    "\n",
    "logger = logging.getLogger()\n",
    "logger.setLevel(args.log_level)\n",
    "\n",
    "# Initialize the ClosedLoopTask\n",
    "closeLoopTask = CloseLoopTask()"
   ]
  },
  {
   "cell_type": "markdown",
   "id": "00a820d4",
   "metadata": {},
   "source": [
    "### Set paths and arguments\n",
    "\n",
    "Customize the following arguments to run the simulation you are interested in. If not stated in the following code cell, the arguments are taken to be the default ones. Note that this paths should be changed if another user is running them and wants to change the directory addresses."
   ]
  },
  {
   "cell_type": "code",
   "execution_count": 4,
   "id": "f841d12f",
   "metadata": {},
   "outputs": [],
   "source": [
    "PHOSIMPATH = \"/project/gmegias/aos/lsst_stack/phosim_syseng4/\"\n",
    "AOCLCOUTPUTPATH = \"/project/gmegias/aos/lsst_stack/ts_phosim/output/\"\n",
    "os.environ[\"PHOSIMPATH\"] = PHOSIMPATH\n",
    "os.environ[\"AOCLCOUTPUTPATH\"] = AOCLCOUTPUTPATH"
   ]
  },
  {
   "cell_type": "code",
   "execution_count": 5,
   "id": "55bfb48b",
   "metadata": {},
   "outputs": [],
   "source": [
    "args.inst = 'comcam' \n",
    "args.numOfProc = 32 \n",
    "args.boresightDeg = [0.03, -0.02]\n",
    "args.skyFile = '/project/gmegias/aos/lsst_stack/ts_phosim/tests/testData/sky/skyComCam.txt'\n",
    "args.output = '/project/gmegias/aos/lsst_stack/perturbations/test/'\n",
    "\n",
    "if os.path.exists(args.output):\n",
    "    shutil.rmtree(args.output)"
   ]
  },
  {
   "cell_type": "markdown",
   "id": "894b68e2",
   "metadata": {},
   "source": [
    "### Intializations and initial configurations\n",
    "\n",
    "First, initialize the variables from the arguments dictionary."
   ]
  },
  {
   "cell_type": "code",
   "execution_count": 6,
   "id": "ba8ca3f7",
   "metadata": {},
   "outputs": [],
   "source": [
    "boresight = args.boresightDeg\n",
    "rotCamInDeg = args.rotCam\n",
    "useEimg = args.eimage\n",
    "m1m3ForceError = args.m1m3FErr\n",
    "numPro = args.numOfProc\n",
    "iterNum = args.iterNum\n",
    "doErsDirCont = args.clobber\n",
    "pathSkyFile = args.skyFile"
   ]
  },
  {
   "cell_type": "markdown",
   "id": "0d53a359",
   "metadata": {},
   "source": [
    "Check and set the required configurations to run the simulation loop."
   ]
  },
  {
   "cell_type": "code",
   "execution_count": 7,
   "id": "fab2ee61",
   "metadata": {},
   "outputs": [
    {
     "name": "stderr",
     "output_type": "stream",
     "text": [
      "/project/gmegias/aos/lsst_stack/ts_wep/python/lsst/ts/wep/bsc/WcsSol.py:45: FutureWarning: Gen2 Butler has been deprecated (LsstCamMapper). It will be removed sometime after v23.0 but no earlier than the end of 2021.\n",
      "  self._camera = obs_lsst.lsstCamMapper.LsstCamMapper().camera\n"
     ]
    },
    {
     "name": "stdout",
     "output_type": "stream",
     "text": [
      "CPU times: user 3min 2s, sys: 7.52 s, total: 3min 10s\n",
      "Wall time: 3min 10s\n"
     ]
    }
   ],
   "source": [
    "%%time\n",
    "\n",
    "# Check the input arguments\n",
    "camType, instName = closeLoopTask.getCamTypeAndInstName(args.inst)\n",
    "filterType = closeLoopTask.getFilterType(args.filterType)\n",
    "baseOutputDir = closeLoopTask.checkAndCreateBaseOutputDir(args.output)\n",
    "\n",
    "if doErsDirCont:\n",
    "    closeLoopTask.eraseDirectoryContent(baseOutputDir)\n",
    "\n",
    "closeLoopTask.checkBoresight(boresight, args.skyFile)\n",
    "\n",
    "closeLoopTask.assignImgType(useEimg)\n",
    "\n",
    "# Configure the components\n",
    "closeLoopTask.configSkySim(instName, pathSkyFile = args.skyFile, starMag=15)\n",
    "\n",
    "pathIsrDir = closeLoopTask.createIsrDir(baseOutputDir)\n",
    "closeLoopTask.configWepCalc(\n",
    "    camType, pathIsrDir, filterType, boresight, rotCamInDeg, useEimg=useEimg\n",
    ")\n",
    "\n",
    "closeLoopTask.configOfcCalc(instName)\n",
    "closeLoopTask.configPhosimCmpt(\n",
    "    filterType, rotCamInDeg, m1m3ForceError, numPro\n",
    ")\n",
    "\n",
    "# Set the defocal distance for WEP calculator based on the setting\n",
    "# file in the telescope\n",
    "closeLoopTask.setWepCalcWithDefocalDist()"
   ]
  },
  {
   "cell_type": "markdown",
   "id": "e8492289",
   "metadata": {},
   "source": [
    "### Generate butler gen3 repository."
   ]
  },
  {
   "cell_type": "code",
   "execution_count": 8,
   "id": "1c6fffcf",
   "metadata": {},
   "outputs": [
    {
     "name": "stdout",
     "output_type": "stream",
     "text": [
      "CPU times: user 22.4 ms, sys: 86.1 ms, total: 108 ms\n",
      "Wall time: 3min 22s\n"
     ]
    }
   ],
   "source": [
    "%%time\n",
    "\n",
    "# generate bluter gen3 repo if needed\n",
    "butlerRootPath = os.path.join(baseOutputDir, \"phosimData\")\n",
    "if closeLoopTask.useCcdImg():\n",
    "    closeLoopTask.generateButler(butlerRootPath, instName)\n",
    "    closeLoopTask.generateRefCatalog(\n",
    "        instName = instName,\n",
    "        butlerRootPath = butlerRootPath,\n",
    "        pathSkyFile = pathSkyFile,\n",
    "    )\n",
    "    \n",
    "closeLoopTask.phosimCmpt.tele.setInstName(camType)"
   ]
  },
  {
   "cell_type": "markdown",
   "id": "70bb379c",
   "metadata": {},
   "source": [
    "### Simulation loop initialization\n",
    "\n",
    "Initialize the state of the telescope to run the simulation. This cell also sets common file and directory names required for the closed loop simulation."
   ]
  },
  {
   "cell_type": "code",
   "execution_count": 9,
   "id": "578e6fd9",
   "metadata": {},
   "outputs": [
    {
     "name": "stdout",
     "output_type": "stream",
     "text": [
      "CPU times: user 50.2 ms, sys: 3.86 ms, total: 54.1 ms\n",
      "Wall time: 52.5 ms\n"
     ]
    }
   ],
   "source": [
    "%%time\n",
    "\n",
    "# Set the telescope state to be the same as the OFC\n",
    "state0 = closeLoopTask.ofcCalc.ofc_controller.aggregated_state\n",
    "closeLoopTask.phosimCmpt.setDofInUm(state0)\n",
    "\n",
    "# Get the list of referenced sensor name (field positions)\n",
    "refSensorNameList = closeLoopTask.getSensorNameListOfFields(instName)\n",
    "refSensorIdList = closeLoopTask.getSensorIdListOfFields(instName)\n",
    "\n",
    "# Common file and directory names\n",
    "opdZkFileName = \"opd.zer\"\n",
    "opdPssnFileName = \"PSSN.txt\"\n",
    "outputDirName = \"pert\"\n",
    "outputImgDirName = \"img\"\n",
    "iterDefaultDirName = \"iter\"\n",
    "dofInUmFileName = \"dofPertInNextIter.mat\"\n",
    "fwhmItersFileName = \"fwhmIters.png\"\n",
    "\n",
    "# Specific file names to the amplifier/eimage\n",
    "wfsZkFileName = \"wfs.zer\""
   ]
  },
  {
   "cell_type": "markdown",
   "id": "c62887bb",
   "metadata": {},
   "source": [
    "### Define Phosim initalization functions"
   ]
  },
  {
   "cell_type": "code",
   "execution_count": 10,
   "id": "53ec574d",
   "metadata": {},
   "outputs": [
    {
     "data": {
      "text/plain": [
       "'/home/gmegias/notebooks/opd.inst -i comcam -e 1 -c /home/gmegias/notebooks/opd.cmd -p 32 -o /home/gmegias/notebooks > /home/gmegias/notebooks/opdPhoSim.log 2>&1'"
      ]
     },
     "execution_count": 10,
     "metadata": {},
     "output_type": "execute_result"
    }
   ],
   "source": [
    "def _writePertAndCmdFiles(self, cmdSettingFileName, cmdFileName):\n",
    "    # Write the perturbation file\n",
    "    pertCmdFileName = \"pert.cmd\"\n",
    "\n",
    "    pertCmdFilePath = os.path.join(self.outputDir, pertCmdFileName)\n",
    "    tele = TeleFacade()\n",
    "    if not os.path.exists(pertCmdFilePath):\n",
    "        tele.writePertBaseOnConfigFile(\n",
    "            self.outputDir,\n",
    "            seedNum=self.seedNum,\n",
    "            m1m3ForceError=self.m1m3ForceError,\n",
    "            saveResMapFig=True,\n",
    "            pertCmdFileName=pertCmdFileName,\n",
    "        )\n",
    "\n",
    "    # Write the physical command file\n",
    "    cmdSettingFile = os.path.join(self.configDir, \"cmdFile\", cmdSettingFileName)\n",
    "    cmdFilePath = os.path.join(self.outputDir, cmdFileName)\n",
    "    if not os.path.exists(cmdFilePath):\n",
    "        self.tele.writeCmdFile(\n",
    "            self.outputDir,\n",
    "            cmdSettingFile=cmdSettingFile,\n",
    "            pertFilePath=pertCmdFilePath,\n",
    "            cmdFileName=cmdFileName,\n",
    "        )\n",
    "\n",
    "    return cmdFilePath\n",
    "\n",
    "def getOpdArgsAndFilesForPhoSim(\n",
    "        phosimCmpt,\n",
    "        instName,\n",
    "        cmdFileName=\"opd.cmd\",\n",
    "        instFileName=\"opd.inst\",\n",
    "        logFileName=\"opdPhoSim.log\",\n",
    "        cmdSettingFileName=\"opdDefault.cmd\",\n",
    "        instSettingFileName=\"opdDefault.inst\",\n",
    "    ):\n",
    "        \"\"\"Get the OPD calculation arguments and files for the PhoSim\n",
    "        calculation.\n",
    "        OPD: optical path difference.\n",
    "        Parameters\n",
    "        ----------\n",
    "        instName : `str`\n",
    "            Instrument name.\n",
    "        cmdFileName : str, optional\n",
    "            Physical command file name. (the default is \"opd.cmd\".)\n",
    "        instFileName : str, optional\n",
    "            OPD instance file name. (the default is \"opd.inst\".)\n",
    "        logFileName : str, optional\n",
    "            Log file name. (the default is \"opdPhoSim.log\".)\n",
    "        cmdSettingFileName : str, optional\n",
    "            Physical command setting file name. (the default is\n",
    "            \"opdDefault.cmd\".)\n",
    "        instSettingFileName : str, optional\n",
    "            Instance setting file name. (the default is \"opdDefault.inst\".)\n",
    "        Returns\n",
    "        -------\n",
    "        str\n",
    "            Arguments to run the PhoSim.\n",
    "        \"\"\"\n",
    "\n",
    "        # Set the weighting ratio and field positions of OPD\n",
    "        phosimCmpt.metr.setWgtAndFieldXyOfGQ(instName)\n",
    "\n",
    "        # Write the command file\n",
    "        cmdFilePath = _writePertAndCmdFiles(phosimCmpt, cmdSettingFileName, cmdFileName)\n",
    "\n",
    "        # Write the instance file\n",
    "        instSettingFile = phosimCmpt._getInstSettingFilePath(instSettingFileName)\n",
    "\n",
    "        instFilePath = phosimCmpt.tele.writeOpdInstFile(\n",
    "            phosimCmpt.outputDir,\n",
    "            phosimCmpt.metr,\n",
    "            instSettingFile=instSettingFile,\n",
    "            instFileName=instFileName,\n",
    "        )\n",
    "\n",
    "        # Get the argument to run the PhoSim\n",
    "        argString = phosimCmpt._getPhoSimArgs(logFileName, instFilePath, cmdFilePath)\n",
    "\n",
    "        return argString\n",
    "    \n",
    "getOpdArgsAndFilesForPhoSim(closeLoopTask.phosimCmpt, instName)"
   ]
  },
  {
   "cell_type": "code",
   "execution_count": 11,
   "id": "aa2f9fe6",
   "metadata": {},
   "outputs": [],
   "source": [
    "iterCount = 1\n",
    "obsId = 9006000\n",
    "# Set the observation Id\n",
    "closeLoopTask.phosimCmpt.setSurveyParam(obsId=obsId)\n",
    "\n",
    "# The iteration directory\n",
    "iterDirName = \"%s%d\" % (iterDefaultDirName, iterCount)\n",
    "\n",
    "# Set the output directory\n",
    "outputDir = os.path.join(baseOutputDir, iterDirName, outputDirName)\n",
    "closeLoopTask.phosimCmpt.setOutputDir(outputDir)\n",
    "\n",
    "# Set the output image directory\n",
    "outputImgDir = os.path.join(baseOutputDir, iterDirName, outputImgDirName)\n",
    "closeLoopTask.phosimCmpt.setOutputImgDir(outputImgDir)"
   ]
  },
  {
   "cell_type": "code",
   "execution_count": 12,
   "id": "31874409",
   "metadata": {},
   "outputs": [
    {
     "name": "stdout",
     "output_type": "stream",
     "text": [
      "Preparing PhoSim....\n",
      "PhoSim prepared, took 0.007406473159790039 seconds.\n"
     ]
    }
   ],
   "source": [
    "# Generate the OPD image\n",
    "print(\"Preparing PhoSim....\")\n",
    "t0 = time.time()\n",
    "argString = getOpdArgsAndFilesForPhoSim(closeLoopTask.phosimCmpt, instName)\n",
    "ttl_time = time.time() - t0\n",
    "print(\"PhoSim prepared, took {} seconds.\".format(ttl_time))"
   ]
  },
  {
   "cell_type": "code",
   "execution_count": 13,
   "id": "8dac1332",
   "metadata": {},
   "outputs": [
    {
     "name": "stdout",
     "output_type": "stream",
     "text": [
      "Running PhoSim....\n",
      "PhoSim run, took 109.80988454818726 seconds.\n"
     ]
    }
   ],
   "source": [
    "print(\"Running PhoSim....\")\n",
    "t0 = time.time()\n",
    "closeLoopTask.phosimCmpt.runPhoSim(argString)\n",
    "ttl_time = time.time() - t0\n",
    "print(\"PhoSim run, took {} seconds.\".format(ttl_time))"
   ]
  },
  {
   "cell_type": "code",
   "execution_count": 14,
   "id": "9f65ba54",
   "metadata": {},
   "outputs": [
    {
     "name": "stdout",
     "output_type": "stream",
     "text": [
      "Analyzing OPD data....\n",
      "OPD data analyzed, took 5.1651270389556885 seconds.\n"
     ]
    }
   ],
   "source": [
    "# Analyze the OPD data\n",
    "# Rotate OPD in the reversed direction of camera\n",
    "print(\"Analyzing OPD data....\")\n",
    "t0 = time.time()\n",
    "closeLoopTask.phosimCmpt.analyzeOpdData(\n",
    "    instName,\n",
    "    zkFileName=opdZkFileName,\n",
    "    rotOpdInDeg=-rotCamInDeg,\n",
    "    pssnFileName=opdPssnFileName,\n",
    ")\n",
    "ttl_time = time.time() - t0\n",
    "print(\"OPD data analyzed, took {} seconds.\".format(ttl_time))"
   ]
  },
  {
   "cell_type": "code",
   "execution_count": 15,
   "id": "80221558",
   "metadata": {},
   "outputs": [
    {
     "name": "stdout",
     "output_type": "stream",
     "text": [
      "Calculated PSSN is [0.98029371 0.98606982 0.98029371 0.98606982 0.98372946 0.98606982\n",
      " 0.98159617 0.98606982 0.9802937 ].\n",
      "GQ effective FWHM is 0.0844.\n",
      "Setting FWHM data...\n",
      "FWHM data set, took 0.001220703125 seconds.\n"
     ]
    }
   ],
   "source": [
    "# Get the PSSN from file\n",
    "pssn = closeLoopTask.phosimCmpt.getOpdPssnFromFile(opdPssnFileName)\n",
    "print(\"Calculated PSSN is %s.\" % pssn)\n",
    "\n",
    "# Get the GQ effective FWHM from file\n",
    "gqEffFwhm = closeLoopTask.phosimCmpt.getOpdGqEffFwhmFromFile(opdPssnFileName)\n",
    "print(\"GQ effective FWHM is %.4f.\" % gqEffFwhm)\n",
    "\n",
    "# Set the FWHM data\n",
    "print(\"Setting FWHM data...\")\n",
    "t0 = time.time()\n",
    "fwhm, sensor_id = closeLoopTask.phosimCmpt.getListOfFwhmSensorData(\n",
    "    opdPssnFileName, refSensorIdList\n",
    ")\n",
    "\n",
    "closeLoopTask.ofcCalc.set_fwhm_data(fwhm, sensor_id)\n",
    "ttl_time = time.time() - t0\n",
    "print(\"FWHM data set, took {} seconds.\".format(ttl_time))"
   ]
  },
  {
   "cell_type": "markdown",
   "id": "e4cdebb5",
   "metadata": {},
   "source": [
    "### Define Wavefront Estimation functions\n",
    "\n",
    "This re-definitiion is required to ensure WEP files are created in the correct directory."
   ]
  },
  {
   "cell_type": "code",
   "execution_count": 16,
   "id": "ffea3e54",
   "metadata": {},
   "outputs": [],
   "source": [
    "def _calcWfErrFromImg(self, obsId, butlerRootPath, instName):\n",
    "    snap=0\n",
    "    simSeed=1000\n",
    "    # Assign the entra- and intra-focal observation Id\n",
    "    extraObsId = obsId + 1\n",
    "    intraObsId = obsId + 2\n",
    "\n",
    "    print('Setting argstring...')\n",
    "    # Generate the defocal images\n",
    "    argStringList = self.phosimCmpt.getPistonCamStarArgsAndFilesForPhoSim(\n",
    "        extraObsId,\n",
    "        intraObsId,\n",
    "        self.skySim,\n",
    "        simSeed=simSeed,\n",
    "        cmdSettingFileName=\"starDefault.cmd\",\n",
    "        instSettingFileName=\"starSingleExp.inst\",\n",
    "    )\n",
    "\n",
    "    print('Running PhoSim...')\n",
    "    for argString in argStringList:\n",
    "        print(f\"PHOSIM CCD ARGSTRING: {argString}\")\n",
    "        self.phosimCmpt.runPhoSim(argString)\n",
    "\n",
    "    print('Repackaging...')\n",
    "    # Repackage the images based on the image type\n",
    "    self.phosimCmpt.repackagePistonCamImgs(\n",
    "        instName=instName if instName == \"comcam\" else \"lsst\", isEimg=self.useEimg\n",
    "    )\n",
    "\n",
    "    print('Ingesting images...')\n",
    "    # Ingest images into butler gen3\n",
    "    self.ingestData(butlerRootPath=butlerRootPath, instName=instName)\n",
    "\n",
    "    print('Running runWep...')\n",
    "    err = runWep(closeLoopTask, extraObsId, intraObsId, butlerRootPath, instName)\n",
    "\n",
    "    return err\n",
    "    \n",
    "def writeWepConfiguration(self, instName):\n",
    "    \"\"\"Write wavefront estimation pipeline task configuration.\n",
    "    Parameters\n",
    "    ----------\n",
    "    instName: `str`\n",
    "        Name of the instrument this configuration is intended for.\n",
    "    \"\"\"\n",
    "\n",
    "    butlerInstName = \"ComCam\" if instName == \"comcam\" else \"Cam\"\n",
    "\n",
    "    with open(f\"/project/gmegias/aos/lsst_stack/perturbations/test/{instName}Pipeline.yaml\", \"w\") as fp:\n",
    "        fp.write(\n",
    "            f\"\"\"# This yaml file is used to define the tasks and configuration of\n",
    "            # a Gen 3 pipeline used for testing in ts_wep.\n",
    "            description: wep basic processing test pipeline\n",
    "            # Here we specify the corresponding instrument for the data we\n",
    "            # will be using.\n",
    "            instrument: lsst.obs.lsst.Lsst{butlerInstName}\n",
    "            # Then we can specify each task in our pipeline by a name\n",
    "            # and then specify the class name corresponding to that task\n",
    "            tasks:\n",
    "            isr:\n",
    "            class: lsst.ip.isr.isrTask.IsrTask\n",
    "            # Below we specify the configuration settings we want to use\n",
    "            # when running the task in this pipeline. Since our data doesn't\n",
    "            # include bias or flats we only want to use doApplyGains and\n",
    "            # doOverscan in our isr task.\n",
    "            config:\n",
    "              connections.outputExposure: 'postISRCCD'\n",
    "              doBias: False\n",
    "              doVariance: False\n",
    "              doLinearize: False\n",
    "              doCrosstalk: False\n",
    "              doDefect: False\n",
    "              doNanMasking: False\n",
    "              doInterpolate: False\n",
    "              doBrighterFatter: False\n",
    "              doDark: False\n",
    "              doFlat: False\n",
    "              doApplyGains: True\n",
    "              doFringe: False\n",
    "              doOverscan: True\n",
    "            generateDonutCatalogOnlineTask:\n",
    "            class: lsst.ts.wep.task.GenerateDonutCatalogOnlineTask.GenerateDonutCatalogOnlineTask\n",
    "            # Here we specify the configurations for pointing that we added into the class\n",
    "            # GenerateDonutCatalogOnlineTaskConfig.\n",
    "            config:\n",
    "              boresightRa: {self.boresightRa}\n",
    "              boresightDec: {self.boresightDec}\n",
    "              boresightRotAng: {self.boresightRotAng}\n",
    "            estimateZernikesFamTask:\n",
    "            class: lsst.ts.wep.task.EstimateZernikesFamTask.EstimateZernikesFamTask\n",
    "            config:\n",
    "              # And here we specify the configuration settings originally defined in\n",
    "              # EstimateZernikesFamTaskConfig.\n",
    "              donutTemplateSize: 160\n",
    "              donutStampSize: 160\n",
    "              initialCutoutPadding: 40\n",
    "            \"\"\"\n",
    "            )\n",
    "    \n",
    "def runWep(self, extraObsId, intraObsId, butlerRootPath, instName):\n",
    "    \n",
    "    butlerInstName = \"ComCam\" if instName == \"comcam\" else \"Cam\"\n",
    "\n",
    "    butler = dafButler.Butler(butlerRootPath)\n",
    "\n",
    "    if f\"LSST{butlerInstName}/calib\" not in butler.registry.queryCollections():\n",
    "\n",
    "        self.log.info(\"Ingesting curated calibrations.\")\n",
    "\n",
    "        runProgram(\n",
    "            f\"butler write-curated-calibrations {butlerRootPath} lsst.obs.lsst.Lsst{butlerInstName}\"\n",
    "        )\n",
    "\n",
    "    print('Writing WEP configuration...')\n",
    "    writeWepConfiguration(self, instName)\n",
    "\n",
    "    print('Running WEP command...')\n",
    "    try: \n",
    "        runProgram(\n",
    "            f\"pipetask run -b {butlerRootPath} \"\n",
    "            f\"-i refcats,LSST{butlerInstName}/raw/all,LSST{butlerInstName}/calib \"\n",
    "            f\"--instrument lsst.obs.lsst.Lsst{butlerInstName} \"\n",
    "            f\"--register-dataset-types --output-run ts_phosim_{extraObsId} -p {instName}Pipeline.yaml -d \"\n",
    "            f'\"exposure IN ({self.visitIdOffset+extraObsId}, {self.visitIdOffset+intraObsId})\" -j 2'\n",
    "        )\n",
    "\n",
    "    except:\n",
    "        # Need to redefine butler because the database changed.\n",
    "        butler = dafButler.Butler(butlerRootPath)\n",
    "\n",
    "        datasetRefs = butler.registry.queryDatasets(\n",
    "            datasetType=\"zernikeEstimateAvg\", collections=[f\"ts_phosim_{extraObsId}\"]\n",
    "        )\n",
    "\n",
    "        print('Setting Wf Errors...')\n",
    "        listOfWfErr = []\n",
    "\n",
    "        for dataset in datasetRefs:\n",
    "            dataId = {\n",
    "                \"instrument\": dataset.dataId[\"instrument\"],\n",
    "                \"detector\": dataset.dataId[\"detector\"],\n",
    "                \"exposure\": dataset.dataId[\"exposure\"],\n",
    "            }\n",
    "\n",
    "            zerCoeff = butler.get(\n",
    "                \"zernikeEstimateAvg\",\n",
    "                dataId=dataId,\n",
    "                collections=[f\"ts_phosim_{extraObsId}\"],\n",
    "            )\n",
    "\n",
    "            sensorWavefrontData = SensorWavefrontData()\n",
    "            sensorWavefrontData.setSensorId(dataset.dataId[\"detector\"])\n",
    "            sensorWavefrontData.setAnnularZernikePoly(zerCoeff)\n",
    "\n",
    "            listOfWfErr.append(sensorWavefrontData)\n",
    "\n",
    "        return listOfWfErr"
   ]
  },
  {
   "cell_type": "code",
   "execution_count": 17,
   "id": "baf0bd07",
   "metadata": {},
   "outputs": [
    {
     "name": "stdout",
     "output_type": "stream",
     "text": [
      "Setting argstring...\n",
      "Running PhoSim...\n",
      "PHOSIM CCD ARGSTRING: /project/gmegias/aos/lsst_stack/perturbations/test/iter1/pert/starExtra.inst -i comcam -e 1 -c /project/gmegias/aos/lsst_stack/perturbations/test/iter1/pert/star.cmd -p 32 -o /project/gmegias/aos/lsst_stack/perturbations/test/iter1/img/extra > /project/gmegias/aos/lsst_stack/perturbations/test/iter1/img/extra/starExtraPhoSim.log 2>&1\n",
      "PHOSIM CCD ARGSTRING: /project/gmegias/aos/lsst_stack/perturbations/test/iter1/pert/starIntra.inst -i comcam -e 1 -c /project/gmegias/aos/lsst_stack/perturbations/test/iter1/pert/star.cmd -p 32 -o /project/gmegias/aos/lsst_stack/perturbations/test/iter1/img/intra > /project/gmegias/aos/lsst_stack/perturbations/test/iter1/img/intra/starIntraPhoSim.log 2>&1\n",
      "Repackaging...\n",
      "Ingesting images...\n",
      "Running runWep...\n",
      "Writing WEP configuration...\n",
      "Running WEP command...\n",
      "Setting Wf Errors...\n",
      "CPU times: user 797 ms, sys: 294 ms, total: 1.09 s\n",
      "Wall time: 19min 8s\n"
     ]
    }
   ],
   "source": [
    "%%time\n",
    "\n",
    "extraObsId = obsId + 1\n",
    "intraObsId = obsId + 2     \n",
    "listOfWfErr = _calcWfErrFromImg(closeLoopTask, obsId, butlerRootPath, instName)err"
   ]
  },
  {
   "cell_type": "markdown",
   "id": "cf392200",
   "metadata": {},
   "source": [
    "### Record the wavefront error and save"
   ]
  },
  {
   "cell_type": "code",
   "execution_count": 18,
   "id": "ee133c2a",
   "metadata": {},
   "outputs": [
    {
     "name": "stdout",
     "output_type": "stream",
     "text": [
      "Recording wavefront error...\n",
      "Wavefront error recorded. Took 0.0060577392578125 seconds.\n",
      "Calculating DOF...\n",
      "DOF computed. Took 0.0006766319274902344 seconds.\n",
      "Calculating corrections...\n",
      "Corrections computed. Took 0.38671398162841797 seconds.\n",
      "Setting and saving new DOF...\n",
      "New DOF saved. Took 0.0014832019805908203 seconds.\n"
     ]
    }
   ],
   "source": [
    "# Record the wavefront error with the same order as OPD for the\n",
    "# comparison\n",
    "print('Recording wavefront error...')\n",
    "t0 = time.time()\n",
    "if closeLoopTask.useCcdImg():\n",
    "    closeLoopTask.phosimCmpt.reorderAndSaveWfErrFile(\n",
    "        listOfWfErr,\n",
    "        refSensorNameList,\n",
    "        getCamera(instName),\n",
    "        zkFileName=wfsZkFileName,\n",
    "    )\n",
    "ttl_time = time.time() - t0\n",
    "print('Wavefront error recorded. Took {} seconds.'.format(ttl_time))\n",
    "\n",
    "# Calculate the DOF\n",
    "print('Calculating DOF...')\n",
    "t0 = time.time()\n",
    "wfe = np.array(\n",
    "    [sensor_wfe.getAnnularZernikePoly() for sensor_wfe in listOfWfErr]\n",
    ")\n",
    "sensor_ids = np.array(\n",
    "    [sensor_wfe.getSensorId() for sensor_wfe in listOfWfErr]\n",
    ")\n",
    "ttl_time = time.time() - t0\n",
    "print('DOF computed. Took {} seconds.'.format(ttl_time))\n",
    "\n",
    "print('Calculating corrections...')\n",
    "t0 = time.time()\n",
    "closeLoopTask.ofcCalc.calculate_corrections(\n",
    "    wfe=wfe,\n",
    "    field_idx=sensor_ids,\n",
    "    filter_name=str('R'),\n",
    "    gain=-1,\n",
    "    rot=rotCamInDeg,\n",
    ")\n",
    "ttl_time = time.time() - t0\n",
    "print('Corrections computed. Took {} seconds.'.format(ttl_time))\n",
    "\n",
    "# Set the new aggregated DOF to phosimCmpt\n",
    "print('Setting and saving new DOF...')\n",
    "t0 = time.time()\n",
    "dofInUm = closeLoopTask.ofcCalc.ofc_controller.aggregated_state\n",
    "closeLoopTask.phosimCmpt.setDofInUm(dofInUm)\n",
    "\n",
    "# Save the DOF file\n",
    "closeLoopTask.phosimCmpt.saveDofInUmFileForNextIter(\n",
    "    dofInUm, dofInUmFileName=dofInUmFileName\n",
    ")\n",
    "ttl_time = time.time() - t0\n",
    "print('New DOF saved. Took {} seconds.'.format(ttl_time))\n",
    "\n",
    "# Add the observation ID by 10 for the next iteration\n",
    "obsId += 10"
   ]
  },
  {
   "cell_type": "markdown",
   "id": "87e7d5ce",
   "metadata": {},
   "source": [
    "The wavefront error of the first simulation iteration is printed below"
   ]
  },
  {
   "cell_type": "code",
   "execution_count": 19,
   "id": "179816f6",
   "metadata": {},
   "outputs": [
    {
     "name": "stdout",
     "output_type": "stream",
     "text": [
      "[[-0.07105599 -0.03728988  0.37645333  0.0392639   0.02995426  0.04551182\n",
      "   0.01198682  0.00934649 -0.00504794  0.00705704 -0.03145979 -0.00290473\n",
      "  -0.00662934 -0.03047965 -0.00306473  0.01636482  0.00602967 -0.05231028\n",
      "   0.01354332]\n",
      " [-0.06230934 -0.2065775   0.17485962 -0.06873055 -0.06191447 -0.03457004\n",
      "   0.03365075  0.00360472 -0.01452705  0.03408544  0.00394021  0.01627989\n",
      "   0.01957985  0.01047506  0.00192995  0.0235407  -0.01778855 -0.0482896\n",
      "   0.01289665]\n",
      " [-0.0462198   0.02189774  0.10332987  0.03663608  0.03398097 -0.06631284\n",
      "   0.04531734  0.01103811 -0.01799035  0.00159723  0.02202471  0.00948923\n",
      "   0.00571454 -0.01524594 -0.00707417  0.03208727  0.00819737 -0.05304637\n",
      "   0.01122915]\n",
      " [-0.07797821 -0.00307038  0.29817786  0.09682685  0.01593729 -0.01681193\n",
      "   0.05598997  0.02019995  0.0066778  -0.01072547  0.00344295 -0.00214571\n",
      "  -0.0044591  -0.03545741 -0.01047244  0.0302643  -0.02453261 -0.05857955\n",
      "   0.01280486]\n",
      " [-0.06512966  0.24227659  0.13571211 -0.03676353  0.03931712 -0.01669129\n",
      "  -0.01784781  0.00227708 -0.00965838 -0.03334733  0.01130177 -0.00372346\n",
      "  -0.01762885  0.00333518  0.00181852  0.02590801 -0.00132702 -0.06017036\n",
      "   0.01135949]]\n"
     ]
    }
   ],
   "source": [
    "print(wfe)"
   ]
  },
  {
   "cell_type": "markdown",
   "id": "0ae2a275",
   "metadata": {},
   "source": [
    "### Summarize the FWHM and plot results"
   ]
  },
  {
   "cell_type": "code",
   "execution_count": 32,
   "id": "fc7ad0ec",
   "metadata": {},
   "outputs": [],
   "source": [
    "# Summarize the FWHM\n",
    "pssnFiles = [\n",
    "    os.path.join(\n",
    "        baseOutputDir,\n",
    "        \"%s%d\" % (iterDefaultDirName, num),\n",
    "        outputImgDirName,\n",
    "        opdPssnFileName,\n",
    "    )\n",
    "    for num in [0]\n",
    "]\n",
    "saveToFilePath = os.path.join(baseOutputDir, fwhmItersFileName)"
   ]
  },
  {
   "cell_type": "code",
   "execution_count": 37,
   "id": "2076b3a5",
   "metadata": {},
   "outputs": [
    {
     "name": "stdout",
     "output_type": "stream",
     "text": [
      "Saved fig as 1.png\n"
     ]
    },
    {
     "data": {
      "image/png": "[encoded data removed]",
      "text/plain": [
       "<Figure size 1152x864 with 4 Axes>"
      ]
     },
     "metadata": {
      "needs_background": "light"
     },
     "output_type": "display_data"
    }
   ],
   "source": [
    "import analysis as at\n",
    "import astropy.io.fits as fits\n",
    "import imp\n",
    "%matplotlib inline\n",
    "import matplotlib.pyplot as plt\n",
    "from matplotlib import rcParams \n",
    "\n",
    "rcParams['ytick.labelsize'] = 15\n",
    "rcParams['xtick.labelsize'] = 15\n",
    "rcParams['axes.labelsize'] = 20\n",
    "rcParams['axes.linewidth'] = 2\n",
    "rcParams['font.size'] = 15\n",
    "rcParams['axes.titlesize'] = 18 \n",
    "\n",
    "sys.path.append('/project/gmegias/aos/lsst_stack')\n",
    "data_dir = '/project/gmegias/aos/lsst_stack/perturbations/test/'\n",
    "\n",
    "at.plotIterationSummary(data_dir, iterNum=1,)"
   ]
  }
 ],
 "metadata": {
  "kernelspec": {
   "display_name": "LSST",
   "language": "python",
   "name": "lsst"
  },
  "language_info": {
   "codemirror_mode": {
    "name": "ipython",
    "version": 3
   },
   "file_extension": ".py",
   "mimetype": "text/x-python",
   "name": "python",
   "nbconvert_exporter": "python",
   "pygments_lexer": "ipython3",
   "version": "3.8.8"
  }
 },
 "nbformat": 4,
 "nbformat_minor": 5
}
