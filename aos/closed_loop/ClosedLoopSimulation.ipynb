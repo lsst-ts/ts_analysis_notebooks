{
 "cells": [
  {
   "cell_type": "markdown",
   "id": "0815b4a3",
   "metadata": {},
   "source": [
    "## Closed Loop Simulation Notebook\n",
    "\n",
    "This notebook breaks down the closed loop simulation in different jupyter notebook cells. The aim of this notebook is to ease the debugging and development of the different packages involved in the Optical Feedback Control loop.\n",
    "\n",
    "This notebook was last run on July 7th 2022. \n",
    "Details:\n",
    "- Stack release: 2021_25, Last verified to run 2022-07-07\n",
    "- ts_phosim release: v2.0.4\n",
    "\n",
    "\n",
    "### Required python packages"
   ]
  },
  {
   "cell_type": "code",
   "execution_count": 1,
   "id": "e94abfa7",
   "metadata": {},
   "outputs": [],
   "source": [
    "import argparse\n",
    "import logging\n",
    "import numpy as np\n",
    "import os\n",
    "import shutil\n",
    "import subprocess\n",
    "import sys\n",
    "import time\n",
    "\n",
    "from lsst.ts.phosim.CloseLoopTask import CloseLoopTask\n",
    "from lsst.ts.phosim.telescope.TeleFacade import TeleFacade\n",
    "from lsst.ts.phosim.utils.PlotUtil import plotFwhmOfIters\n",
    "from lsst.daf import butler as dafButler\n",
    "from lsst.ts.wep.Utility import CamType, FilterType, runProgram\n",
    "from lsst.ts.phosim.utils.Utility import getPhoSimPath, getAoclcOutputPath, getCamera\n",
    "from lsst.ts.phosim.utils.SensorWavefrontError import SensorWavefrontError"
   ]
  },
  {
   "cell_type": "code",
   "execution_count": 2,
   "id": "c3984ae5",
   "metadata": {},
   "outputs": [],
   "source": [
    "from tqdm import tqdm"
   ]
  },
  {
   "cell_type": "markdown",
   "id": "a83682fc",
   "metadata": {},
   "source": [
    "### Default arguments and initializations\n",
    "\n",
    "Initialize default arguments to run the closed loop and initialize the ClosedLoopTask"
   ]
  },
  {
   "cell_type": "code",
   "execution_count": 3,
   "id": "4f1f21fd",
   "metadata": {},
   "outputs": [
    {
     "name": "stdout",
     "output_type": "stream",
     "text": [
      "Namespace(inst='comcam', filterType='', rotCam=0.0, m1m3FErr=0.05, numOfProc=1, iterNum=5, output='', log_level=20, clobber=False, pipelineFile='', boresightDeg=[0, 0], skyFile='', eimage=False)\n",
      "CPU times: user 1.85 ms, sys: 175 µs, total: 2.03 ms\n",
      "Wall time: 3.58 ms\n"
     ]
    }
   ],
   "source": [
    "%%time\n",
    "\n",
    "# Set the parser\n",
    "parser = argparse.ArgumentParser(\n",
    "    description=\"Run AOS closed-loop simulation (default is amplifier files).\"\n",
    ")\n",
    "parser = CloseLoopTask.setDefaultParser(parser)\n",
    "parser = CloseLoopTask.setImgParser(parser)\n",
    "\n",
    "# Get the default arguments\n",
    "sys.argv = ['-f']\n",
    "args = parser.parse_args()\n",
    "\n",
    "# Print default arguments\n",
    "print(args)\n",
    "\n",
    "logger = logging.getLogger()\n",
    "logger.setLevel(args.log_level)\n",
    "\n",
    "# Initialize the ClosedLoopTask\n",
    "closeLoopTask = CloseLoopTask()"
   ]
  },
  {
   "cell_type": "markdown",
   "id": "0a9a396b",
   "metadata": {},
   "source": [
    "### Set paths and arguments\n",
    "\n",
    "Customize the following arguments to run the simulation you are interested in. If not stated in the following code cell, the arguments are taken to be the default ones. Note that this paths should be changed if another user is running them and wants to change the directory addresses."
   ]
  },
  {
   "cell_type": "code",
   "execution_count": 4,
   "id": "eac4c183",
   "metadata": {},
   "outputs": [],
   "source": [
    "PHOSIMPATH = \"/sdf/home/g/gmegias/aos/phosim_syseng4/\"\n",
    "AOCLCOUTPUTPATH = \"/sdf/home/g/gmegias/aos/ts_phosim/output/\"\n",
    "os.environ[\"PHOSIMPATH\"] = PHOSIMPATH\n",
    "os.environ[\"AOCLCOUTPUTPATH\"] = AOCLCOUTPUTPATH"
   ]
  },
  {
   "cell_type": "code",
   "execution_count": 5,
   "id": "fe373402",
   "metadata": {},
   "outputs": [],
   "source": [
    "args.inst = 'comcam' \n",
    "args.numOfProc = 32 \n",
    "args.boresightDeg = [0.03, -0.02]\n",
    "args.eimage = None\n",
    "\n",
    "args.skyFile = '/sdf/home/g/gmegias/aos/ts_phosim/tests/testData/sky/skyComCam.txt'\n",
    "args.output = '/sdf/home/g/gmegias/aos/perturbations/test_phosim/'\n",
    "\n",
    "if os.path.exists(args.output):\n",
    "    shutil.rmtree(args.output)"
   ]
  },
  {
   "cell_type": "markdown",
   "id": "399cdf25",
   "metadata": {},
   "source": [
    "### Intializations and initial configurations\n",
    "\n",
    "First, initialize the variables from the arguments dictionary."
   ]
  },
  {
   "cell_type": "code",
   "execution_count": 6,
   "id": "27363903",
   "metadata": {},
   "outputs": [],
   "source": [
    "boresight = args.boresightDeg\n",
    "rotCamInDeg = args.rotCam\n",
    "useEimg = args.eimage\n",
    "m1m3ForceError = args.m1m3FErr\n",
    "numPro = args.numOfProc\n",
    "iterNum = args.iterNum\n",
    "doErsDirCont = args.clobber\n",
    "pathSkyFile = args.skyFile"
   ]
  },
  {
   "cell_type": "markdown",
   "id": "b4764c64",
   "metadata": {},
   "source": [
    "Check and set the required configurations to run the simulation loop."
   ]
  },
  {
   "cell_type": "code",
   "execution_count": 7,
   "id": "d9917148",
   "metadata": {},
   "outputs": [
    {
     "name": "stdout",
     "output_type": "stream",
     "text": [
      "CPU times: user 2min 39s, sys: 1.36 s, total: 2min 40s\n",
      "Wall time: 2min 41s\n"
     ]
    },
    {
     "data": {
      "text/plain": [
       "<lsst.ts.phosim.PhosimCmpt.PhosimCmpt at 0x7fd7e89b0460>"
      ]
     },
     "execution_count": 7,
     "metadata": {},
     "output_type": "execute_result"
    }
   ],
   "source": [
    "%%time\n",
    "\n",
    "# Check the input arguments\n",
    "camType, instName = closeLoopTask.getCamTypeAndInstName(args.inst)\n",
    "filterType = closeLoopTask.getFilterType(args.filterType)\n",
    "baseOutputDir = closeLoopTask.checkAndCreateBaseOutputDir(args.output)\n",
    "\n",
    "if doErsDirCont:\n",
    "    closeLoopTask.eraseDirectoryContent(baseOutputDir)\n",
    "\n",
    "closeLoopTask.checkBoresight(boresight, args.skyFile)\n",
    "\n",
    "closeLoopTask.assignImgType(useEimg)\n",
    "\n",
    "# Configure the components\n",
    "closeLoopTask.configSkySim(instName, pathSkyFile = args.skyFile, starMag=15)\n",
    "\n",
    "# If pathSkyFile using default OPD positions write this to disk\n",
    "# so that the Butler can load it later\n",
    "if pathSkyFile == \"\":\n",
    "    pathSkyFile = os.path.join(baseOutputDir, \"sky_info.txt\")\n",
    "    closeLoopTask.skySim.exportSkyToFile(pathSkyFile)\n",
    "    closeLoopTask.log.info(f\"Wrote new sky file to {pathSkyFile}.\")\n",
    "\n",
    "closeLoopTask.configOfcCalc(instName)\n",
    "closeLoopTask.configPhosimCmpt(\n",
    "    filterType, rotCamInDeg, m1m3ForceError, numPro, boresight=boresight\n",
    ")"
   ]
  },
  {
   "cell_type": "markdown",
   "id": "b4ef8c13",
   "metadata": {},
   "source": [
    "### Generate butler gen3 repository."
   ]
  },
  {
   "cell_type": "code",
   "execution_count": 8,
   "id": "09c31ae7",
   "metadata": {},
   "outputs": [
    {
     "name": "stdout",
     "output_type": "stream",
     "text": [
      "CPU times: user 35 µs, sys: 0 ns, total: 35 µs\n",
      "Wall time: 41.5 µs\n"
     ]
    }
   ],
   "source": [
    "%%time\n",
    "\n",
    "# generate bluter gen3 repo if needed\n",
    "butlerRootPath = os.path.join(baseOutputDir, \"phosimData\")\n",
    "if closeLoopTask.useCcdImg():\n",
    "    closeLoopTask.generateButler(butlerRootPath, instName)\n",
    "    closeLoopTask.generateRefCatalog(\n",
    "        instName = instName,\n",
    "        butlerRootPath = butlerRootPath,\n",
    "        pathSkyFile = pathSkyFile,\n",
    "    )\n",
    "    \n",
    "closeLoopTask.phosimCmpt.tele.setInstName(camType)"
   ]
  },
  {
   "cell_type": "markdown",
   "id": "84fa48c6",
   "metadata": {},
   "source": [
    "### Simulation loop initialization\n",
    "\n",
    "Initialize the state of the telescope to run the simulation. This cell also sets common file and directory names required for the closed loop simulation."
   ]
  },
  {
   "cell_type": "code",
   "execution_count": 9,
   "id": "8fcce66d",
   "metadata": {},
   "outputs": [],
   "source": [
    "# Set the telescope state to be the same as the OFC\n",
    "state0 = closeLoopTask.ofcCalc.ofc_controller.aggregated_state\n",
    "closeLoopTask.phosimCmpt.setDofInUm(state0)\n",
    "\n",
    "# Get the list of referenced sensor name (field positions)\n",
    "\n",
    "# If using wavefront sensors we measure one per pair\n",
    "# and the field\n",
    "if camType == CamType.LsstCam:\n",
    "    cornerSensorNameList = closeLoopTask.getSensorNameListOfFields(instName)\n",
    "    cornerSensorIdList = closeLoopTask.getSensorIdListOfFields(instName)\n",
    "    refSensorNameList = []\n",
    "    refSensorIdList = []\n",
    "    for name, id in zip(cornerSensorNameList, cornerSensorIdList):\n",
    "        if name.endswith(\"SW0\"):\n",
    "            refSensorNameList.append(name)\n",
    "            refSensorIdList.append(id)\n",
    "else:\n",
    "    refSensorNameList = closeLoopTask.getSensorNameListOfFields(instName)\n",
    "    refSensorIdList = closeLoopTask.getSensorIdListOfFields(instName)\n",
    "\n",
    "# Get the list of referenced sensor name (field positions)\n",
    "refSensorNameList = closeLoopTask.getSensorNameListOfFields(instName)\n",
    "refSensorIdList = closeLoopTask.getSensorIdListOfFields(instName)\n",
    "\n",
    "# Common file and directory names\n",
    "opdZkFileName = \"opd.zer\"\n",
    "opdPssnFileName = \"PSSN.txt\"\n",
    "outputDirName = \"pert\"\n",
    "outputImgDirName = \"img\"\n",
    "iterDefaultDirName = \"iter\"\n",
    "dofInUmFileName = \"dofPertInNextIter.mat\"\n",
    "fwhmItersFileName = \"fwhmIters.png\"\n",
    "if args.pipelineFile == \"\":\n",
    "    pipelineFile = None\n",
    "\n",
    "# Specific file names to the amplifier/eimage\n",
    "wfsZkFileName = \"wfs.zer\""
   ]
  },
  {
   "cell_type": "code",
   "execution_count": 24,
   "id": "71e8c9ea",
   "metadata": {},
   "outputs": [],
   "source": [
    "iterCount = 2\n",
    "#obsId = 9006000\n",
    "# Set the observation Id\n",
    "closeLoopTask.phosimCmpt.setSurveyParam(obsId=obsId)\n",
    "\n",
    "# The iteration directory\n",
    "iterDirName = \"%s%d\" % (iterDefaultDirName, iterCount)\n",
    "\n",
    "# Set the output directory\n",
    "outputDir = os.path.join(baseOutputDir, iterDirName, outputDirName)\n",
    "closeLoopTask.phosimCmpt.setOutputDir(outputDir)\n",
    "\n",
    "# Set the output image directory\n",
    "outputImgDir = os.path.join(baseOutputDir, iterDirName, outputImgDirName)\n",
    "closeLoopTask.phosimCmpt.setOutputImgDir(outputImgDir)"
   ]
  },
  {
   "cell_type": "code",
   "execution_count": 25,
   "id": "4d5ee3b0",
   "metadata": {},
   "outputs": [
    {
     "name": "stdout",
     "output_type": "stream",
     "text": [
      "Preparing PhoSim....\n",
      "PhoSim prepared, took 373.38815426826477 seconds.\n"
     ]
    }
   ],
   "source": [
    "# Generate the OPD image\n",
    "print(\"Preparing PhoSim....\")\n",
    "t0 = time.time()\n",
    "argString = closeLoopTask.phosimCmpt.getOpdArgsAndFilesForPhoSim(instName)\n",
    "closeLoopTask.log.info(f\"PHOSIM OPD ARGSTRING: {argString}\")\n",
    "ttl_time = time.time() - t0\n",
    "print(\"PhoSim prepared, took {} seconds.\".format(ttl_time))"
   ]
  },
  {
   "cell_type": "code",
   "execution_count": 26,
   "id": "35bd9476",
   "metadata": {},
   "outputs": [
    {
     "name": "stdout",
     "output_type": "stream",
     "text": [
      "Running PhoSim....\n",
      "PhoSim run, took 106.79638051986694 seconds.\n"
     ]
    }
   ],
   "source": [
    "print(\"Running PhoSim....\")\n",
    "t0 = time.time()\n",
    "closeLoopTask.phosimCmpt.runPhoSim(argString)\n",
    "ttl_time = time.time() - t0\n",
    "print(\"PhoSim run, took {} seconds.\".format(ttl_time))"
   ]
  },
  {
   "cell_type": "code",
   "execution_count": 27,
   "id": "1f1daad4",
   "metadata": {},
   "outputs": [
    {
     "name": "stdout",
     "output_type": "stream",
     "text": [
      "Analyzing OPD data....\n",
      "OPD data analyzed, took 0.6950511932373047 seconds.\n"
     ]
    }
   ],
   "source": [
    "# Analyze the OPD data\n",
    "# Rotate OPD in the reversed direction of camera\n",
    "print(\"Analyzing OPD data....\")\n",
    "t0 = time.time()\n",
    "closeLoopTask.phosimCmpt.analyzeOpdData(\n",
    "    instName,\n",
    "    zkFileName=opdZkFileName,\n",
    "    rotOpdInDeg=-rotCamInDeg,\n",
    "    pssnFileName=opdPssnFileName,\n",
    ")\n",
    "ttl_time = time.time() - t0\n",
    "print(\"OPD data analyzed, took {} seconds.\".format(ttl_time))"
   ]
  },
  {
   "cell_type": "code",
   "execution_count": 28,
   "id": "04bd7172",
   "metadata": {},
   "outputs": [
    {
     "name": "stdout",
     "output_type": "stream",
     "text": [
      "Calculated PSSN is [0.96411782 0.96543127 0.96171986 0.96534235 0.96780432 0.96591088\n",
      " 0.96563972 0.96469638 0.96140519].\n",
      "GQ effective FWHM is 0.1246.\n",
      "Setting FWHM data...\n",
      "FWHM data set, took 0.0006401538848876953 seconds.\n"
     ]
    }
   ],
   "source": [
    "# Get the PSSN from file\n",
    "pssn = closeLoopTask.phosimCmpt.getOpdPssnFromFile(opdPssnFileName)\n",
    "print(\"Calculated PSSN is %s.\" % pssn)\n",
    "\n",
    "# Get the GQ effective FWHM from file\n",
    "gqEffFwhm = closeLoopTask.phosimCmpt.getOpdGqEffFwhmFromFile(opdPssnFileName)\n",
    "print(\"GQ effective FWHM is %.4f.\" % gqEffFwhm)\n",
    "\n",
    "# Set the FWHM data\n",
    "print(\"Setting FWHM data...\")\n",
    "t0 = time.time()\n",
    "fwhm, sensor_id = closeLoopTask.phosimCmpt.getListOfFwhmSensorData(\n",
    "    opdPssnFileName, refSensorIdList\n",
    ")\n",
    "\n",
    "closeLoopTask.ofcCalc.set_fwhm_data(fwhm, sensor_id)\n",
    "ttl_time = time.time() - t0\n",
    "print(\"FWHM data set, took {} seconds.\".format(ttl_time))"
   ]
  },
  {
   "cell_type": "markdown",
   "id": "16456153",
   "metadata": {},
   "source": [
    "### Define Wavefront Estimation functions\n",
    "\n",
    "This re-definitiion is required to ensure WEP files are created in the correct directory."
   ]
  },
  {
   "cell_type": "code",
   "execution_count": 29,
   "id": "cce3f991",
   "metadata": {},
   "outputs": [
    {
     "name": "stdout",
     "output_type": "stream",
     "text": [
      "CPU times: user 967 µs, sys: 0 ns, total: 967 µs\n",
      "Wall time: 849 µs\n"
     ]
    }
   ],
   "source": [
    "%%time\n",
    "# Generate the sky images and calculate the wavefront error\n",
    "if closeLoopTask.useCcdImg():\n",
    "    if camType == CamType.LsstCam:\n",
    "        listOfWfErr = closeLoopTask._calcWfsWfErrFromImg(\n",
    "            obsId,\n",
    "            butlerRootPath=butlerRootPath,\n",
    "            instName=instName,\n",
    "            snap=0,\n",
    "            numPro=numPro,\n",
    "            pipelineFile=pipelineFile,\n",
    "        )\n",
    "    else:\n",
    "        listOfWfErr = closeLoopTask._calcPistonWfErrFromImg(\n",
    "            obsId,\n",
    "            butlerRootPath=butlerRootPath,\n",
    "            instName=instName,\n",
    "            snap=0,\n",
    "            numPro=numPro,\n",
    "            pipelineFile=pipelineFile,\n",
    "        )\n",
    "else:\n",
    "    # Simulate to get the wavefront sensor data from WEP\n",
    "    listOfWfErr = closeLoopTask.phosimCmpt.mapOpdDataToListOfWfErr(\n",
    "        opdZkFileName, refSensorIdList, refSensorNameList\n",
    "    )"
   ]
  },
  {
   "cell_type": "markdown",
   "id": "fbafecf1",
   "metadata": {},
   "source": [
    "### Record the wavefront error and save"
   ]
  },
  {
   "cell_type": "code",
   "execution_count": 30,
   "id": "43728956",
   "metadata": {},
   "outputs": [
    {
     "name": "stdout",
     "output_type": "stream",
     "text": [
      "Recording wavefront error...\n",
      "Wavefront error recorded. Took 6.127357482910156e-05 seconds.\n",
      "Calculating DOF...\n",
      "DOF computed. Took 0.0001342296600341797 seconds.\n",
      "Calculating corrections...\n",
      "Corrections computed. Took 0.006952524185180664 seconds.\n",
      "Setting and saving new DOF...\n",
      "New DOF saved. Took 0.0021584033966064453 seconds.\n"
     ]
    }
   ],
   "source": [
    "# Record the wavefront error with the same order as OPD for the\n",
    "# comparison\n",
    "print('Recording wavefront error...')\n",
    "t0 = time.time()\n",
    "if closeLoopTask.useCcdImg():\n",
    "    closeLoopTask.phosimCmpt.reorderAndSaveWfErrFile(\n",
    "        listOfWfErr,\n",
    "        refSensorNameList,\n",
    "        getCamera(instName),\n",
    "        zkFileName=wfsZkFileName,\n",
    "    )\n",
    "ttl_time = time.time() - t0\n",
    "print('Wavefront error recorded. Took {} seconds.'.format(ttl_time))\n",
    "\n",
    "# Calculate the DOF\n",
    "print('Calculating DOF...')\n",
    "t0 = time.time()\n",
    "wfe = np.array(\n",
    "    [sensor_wfe.getAnnularZernikePoly() for sensor_wfe in listOfWfErr]\n",
    ")\n",
    "sensor_ids = np.array(\n",
    "    [sensor_wfe.getSensorId() for sensor_wfe in listOfWfErr]\n",
    ")\n",
    "ttl_time = time.time() - t0\n",
    "print('DOF computed. Took {} seconds.'.format(ttl_time))\n",
    "\n",
    "print('Calculating corrections...')\n",
    "t0 = time.time()\n",
    "closeLoopTask.ofcCalc.calculate_corrections(\n",
    "    wfe=wfe,\n",
    "    field_idx=sensor_ids,\n",
    "    filter_name=str('R'),\n",
    "    gain=-1,\n",
    "    rot=rotCamInDeg,\n",
    ")\n",
    "ttl_time = time.time() - t0\n",
    "print('Corrections computed. Took {} seconds.'.format(ttl_time))\n",
    "\n",
    "# Set the new aggregated DOF to phosimCmpt\n",
    "print('Setting and saving new DOF...')\n",
    "t0 = time.time()\n",
    "dofInUm = closeLoopTask.ofcCalc.ofc_controller.aggregated_state\n",
    "closeLoopTask.phosimCmpt.setDofInUm(dofInUm)\n",
    "\n",
    "# Save the DOF file\n",
    "closeLoopTask.phosimCmpt.saveDofInUmFileForNextIter(\n",
    "    dofInUm, dofInUmFileName=dofInUmFileName\n",
    ")\n",
    "ttl_time = time.time() - t0\n",
    "print('New DOF saved. Took {} seconds.'.format(ttl_time))\n",
    "\n",
    "# Add the observation ID by 10 for the next iteration\n",
    "obsId += 10"
   ]
  },
  {
   "cell_type": "markdown",
   "id": "089888d0",
   "metadata": {},
   "source": [
    "The wavefront error of the first simulation iteration is printed below"
   ]
  },
  {
   "cell_type": "markdown",
   "id": "b460d8b7",
   "metadata": {},
   "source": [
    "### Summarize the FWHM and plot results"
   ]
  },
  {
   "cell_type": "code",
   "execution_count": 47,
   "id": "7931ffa4",
   "metadata": {},
   "outputs": [],
   "source": [
    "# Summarize the FWHM\n",
    "pssnFiles = [\n",
    "    os.path.join(\n",
    "        baseOutputDir,\n",
    "        \"%s%d\" % (iterDefaultDirName, num),\n",
    "        outputImgDirName,\n",
    "        opdPssnFileName,\n",
    "    )\n",
    "    for num in [0,1,2]\n",
    "]\n",
    "saveToFilePath = os.path.join(baseOutputDir, fwhmItersFileName)\n",
    "plotFwhmOfIters(pssnFiles, saveToFilePath=saveToFilePath)"
   ]
  },
  {
   "cell_type": "code",
   "execution_count": 1,
   "id": "48a11131",
   "metadata": {},
   "outputs": [
    {
     "data": {
      "image/png": "[encoded data removed]",
      "text/plain": [
       "<Figure size 1152x720 with 4 Axes>"
      ]
     },
     "metadata": {
      "needs_background": "light"
     },
     "output_type": "display_data"
    }
   ],
   "source": [
    "import sys\n",
    "sys.path.append('/sdf/home/g/gmegias/aos/perturbations/')\n",
    "import analysisTools\n",
    "\n",
    "analysisTools.plotIterationSummary('/sdf/home/g/gmegias/aos/perturbations/test_phosim/', iterNum=3, num_ccds=3,                          \n",
    "                         plot_opd=True,\n",
    "                         plot_rms_opd_zk=False,\n",
    "                         plot_pssn=True, plot_fwhm=True,\n",
    "                         plot_raw_zk = False)"
   ]
  }
 ],
 "metadata": {
  "kernelspec": {
   "display_name": "Python 3 (ipykernel)",
   "language": "python",
   "name": "python3"
  },
  "language_info": {
   "codemirror_mode": {
    "name": "ipython",
    "version": 3
   },
   "file_extension": ".py",
   "mimetype": "text/x-python",
   "name": "python",
   "nbconvert_exporter": "python",
   "pygments_lexer": "ipython3",
   "version": "3.10.5"
  },
  "vscode": {
   "interpreter": {
    "hash": "916dbcbb3f70747c44a77c7bcd40155683ae19c65e1c03b4aa3499c5328201f1"
   }
  }
 },
 "nbformat": 4,
 "nbformat_minor": 5
}
