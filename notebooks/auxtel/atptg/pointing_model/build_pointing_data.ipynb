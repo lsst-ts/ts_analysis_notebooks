{
 "cells": [
  {
   "cell_type": "markdown",
   "id": "239e53ca",
   "metadata": {},
   "source": [
    "# Build pointing data\n",
    "\n",
    "This notebook reads data produced by `reducing_pointing_data` notebook and analyses it to produce corrected pointing data files."
   ]
  },
  {
   "cell_type": "markdown",
   "id": "b215c2f8",
   "metadata": {},
   "source": [
    "## Parameterized notebook\n",
    "\n",
    "This notebook is parameterized, which means it could be run with tools like Papermill as part of a data analysis pipeline."
   ]
  },
  {
   "cell_type": "code",
   "execution_count": null,
   "id": "25084aeb",
   "metadata": {},
   "outputs": [],
   "source": [
    "import os \n",
    "import pickle\n",
    "\n",
    "import numpy as np\n",
    "import matplotlib.pyplot as plt\n",
    "\n",
    "from astropy import units as u\n",
    "from datetime import datetime\n",
    "\n",
    "from lsst.geom import PointD\n",
    "\n",
    "from lsst.ts.observing.utilities.auxtel.latiss.utils import calculate_xy_offsets\n",
    "\n",
    "from lsst.ts.observatory.control.constants.latiss_constants import boresight"
   ]
  },
  {
   "cell_type": "markdown",
   "id": "627acb13",
   "metadata": {},
   "source": [
    "## Notebook Parameters\n",
    "\n",
    "The next cell define the notebook parameters"
   ]
  },
  {
   "cell_type": "markdown",
   "id": "e724424d",
   "metadata": {},
   "source": [
    "### Pickle file with the data to process\n",
    "\n",
    "The notebooks needs the name of the pickle file containing the data to process."
   ]
  },
  {
   "cell_type": "code",
   "execution_count": null,
   "id": "c26f8fe9",
   "metadata": {
    "tags": [
     "parameters"
    ]
   },
   "outputs": [],
   "source": [
    "pointing_data_file = \"data/20210609/AT_point_data_20210609_tw003.pickle\""
   ]
  },
  {
   "cell_type": "markdown",
   "id": "20a91dd2",
   "metadata": {},
   "source": [
    "## Processing the data"
   ]
  },
  {
   "cell_type": "code",
   "execution_count": null,
   "id": "c55a1f1f",
   "metadata": {},
   "outputs": [],
   "source": [
    "with open(pointing_data_file, \"rb\") as fp:\n",
    "    brightest_source_centroid = pickle.load(fp)"
   ]
  },
  {
   "cell_type": "code",
   "execution_count": null,
   "id": "e6aa2513",
   "metadata": {},
   "outputs": [],
   "source": [
    "def rotation_matrix(angle):\n",
    "    \"\"\"Rotation matrix.\n",
    "    \"\"\"\n",
    "    return np.array(\n",
    "        [\n",
    "            [np.cos(np.radians(angle)), -np.sin(np.radians(angle)), 0.0],\n",
    "            [np.sin(np.radians(angle)), np.cos(np.radians(angle)), 0.0],\n",
    "            [0.0, 0.0, 1.0],\n",
    "        ]\n",
    "    )"
   ]
  },
  {
   "cell_type": "code",
   "execution_count": null,
   "id": "66216cab",
   "metadata": {},
   "outputs": [],
   "source": [
    "azel_correction = np.zeros((2, len(brightest_source_centroid)))\n",
    "\n",
    "for i, source_xy in enumerate(brightest_source_centroid):\n",
    "    dx_arcsec, dy_arcsec = calculate_xy_offsets(\n",
    "        PointD(\n",
    "            source_xy.brightestObjCentroid[0],\n",
    "            source_xy.brightestObjCentroid[1]\n",
    "        ), \n",
    "        boresight)\n",
    "\n",
    "    # We are using rotator 2 so we must apply a negative sign on the x-axis offset.\n",
    "    # The equation bellow return offset in elevation/azimuth.\n",
    "    elaz_offset = np.matmul((-dx_arcsec, dy_arcsec, 0.), rotation_matrix(source_xy.angle))*u.arcsec\n",
    "    \n",
    "    elaz_offset[0] += source_xy.aos_offset[\"x\"]*50.468*u.arcsec  # elevation\n",
    "    elaz_offset[1] -= source_xy.aos_offset[\"y\"]*52.459*u.arcsec  # azimuth\n",
    "    \n",
    "    # We want to store the offset in azel format, so we reverse the result given above.\n",
    "    # The following was verified with the pointing component. When we add an offset of \n",
    "    # X arcsec in azimuth it results in a negative offset in the axis. When we make a\n",
    "    # positive offset in elevation is results in a positive offset in the axis. The \n",
    "    # pointing takes care of the cos(elevation) dependency when we apply the offset, but\n",
    "    # we need to take care of it here since we want to apply a correction to the axis directly.    \n",
    "    azel_correction[0][i] = elaz_offset[1].to(u.deg).value * -1. / np.cos(np.radians(source_xy.elevation))\n",
    "    azel_correction[1][i] = elaz_offset[0].to(u.deg).value"
   ]
  },
  {
   "cell_type": "code",
   "execution_count": null,
   "id": "bf089f89",
   "metadata": {},
   "outputs": [],
   "source": [
    "plt.scatter(azel_correction[0], azel_correction[1])"
   ]
  },
  {
   "cell_type": "markdown",
   "id": "aa45dc17",
   "metadata": {},
   "source": [
    "## Apply correction to pointing data\n",
    "\n",
    "Now that the corrections offsets are computed in az/el, we need to apply the offset to the appropriate columns and construct the pointing data. "
   ]
  },
  {
   "cell_type": "code",
   "execution_count": null,
   "id": "6cf8c268",
   "metadata": {},
   "outputs": [],
   "source": [
    "pointing_data = np.array(\n",
    "    [\n",
    "        tuple(\n",
    "            [\n",
    "                data.point_data[key] for key in (\"expectedAzimuth\", \"expectedElevation\", \"measuredAzimuth\", \"measuredElevation\", \"measuredRotator\")\n",
    "            ]\n",
    "        )\n",
    "        for data in brightest_source_centroid\n",
    "    ],\n",
    "    dtype = [(key, float) for key in (\"expectedAzimuth\", \"expectedElevation\", \"measuredAzimuth\", \"measuredElevation\", \"measuredRotator\")]\n",
    ")"
   ]
  },
  {
   "cell_type": "code",
   "execution_count": null,
   "id": "efd9fe65",
   "metadata": {},
   "outputs": [],
   "source": [
    "corrected_pointing_data = pointing_data.copy()\n",
    "corrected_pointing_data[\"measuredAzimuth\"] += azel_correction[0]\n",
    "corrected_pointing_data[\"measuredElevation\"] += azel_correction[1]"
   ]
  },
  {
   "cell_type": "code",
   "execution_count": null,
   "id": "a5e23d1c",
   "metadata": {},
   "outputs": [],
   "source": [
    "out_pointing_file, ext = os.path.splitext(pointing_data_file)\n",
    "print(out_pointing_file, ext)"
   ]
  },
  {
   "cell_type": "code",
   "execution_count": null,
   "id": "71a8a280",
   "metadata": {},
   "outputs": [],
   "source": [
    "now = datetime.now()"
   ]
  },
  {
   "cell_type": "code",
   "execution_count": null,
   "id": "61d39535",
   "metadata": {},
   "outputs": [],
   "source": [
    "now.second"
   ]
  },
  {
   "cell_type": "code",
   "execution_count": null,
   "id": "97add125",
   "metadata": {},
   "outputs": [],
   "source": [
    "header = f\"\"\"LSST Auxiliary Telescope, {now.year} {now.month} {now.day} UTC {now.hour} {now.minute} {now.second}\n",
    ": ALTAZ\n",
    ": ROTNL\n",
    "-30 14 40.3\n",
    "\"\"\"\n",
    "tail = \"END\""
   ]
  },
  {
   "cell_type": "code",
   "execution_count": null,
   "id": "4c64f209",
   "metadata": {},
   "outputs": [],
   "source": [
    "raw_filename = f\"{out_pointing_file}.dat\"\n",
    "corrected_filename = f\"{out_pointing_file}_corr.dat\""
   ]
  },
  {
   "cell_type": "code",
   "execution_count": null,
   "id": "507ce00d",
   "metadata": {},
   "outputs": [],
   "source": [
    "with open(raw_filename, \"w\") as fp:\n",
    "    print(f\"Writting raw data to {raw_filename}.\")\n",
    "    fp.write(header)\n",
    "    np.savetxt(fp, pointing_data, fmt=\"%011.7f %010.7f %011.7f %010.7f %011.7f\")\n",
    "    fp.write(tail)\n",
    "\n",
    "with open(corrected_filename, \"w\") as fp:\n",
    "    print(f\"Writting corrected data to {corrected_filename}.\")\n",
    "    fp.write(header)\n",
    "    np.savetxt(fp, corrected_pointing_data, fmt=\"%011.7f %010.7f %011.7f %010.7f %011.7f\")\n",
    "    fp.write(tail)"
   ]
  },
  {
   "cell_type": "code",
   "execution_count": null,
   "id": "ffdff970",
   "metadata": {},
   "outputs": [],
   "source": []
  }
 ],
 "metadata": {
  "kernelspec": {
   "display_name": "LSST",
   "language": "python",
   "name": "lsst"
  },
  "language_info": {
   "codemirror_mode": {
    "name": "ipython",
    "version": 3
   },
   "file_extension": ".py",
   "mimetype": "text/x-python",
   "name": "python",
   "nbconvert_exporter": "python",
   "pygments_lexer": "ipython3",
   "version": "3.8.8"
  }
 },
 "nbformat": 4,
 "nbformat_minor": 5
}
