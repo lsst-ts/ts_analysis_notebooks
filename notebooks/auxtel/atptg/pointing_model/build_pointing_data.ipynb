{
 "cells": [
  {
   "cell_type": "markdown",
   "id": "9b06a00e",
   "metadata": {},
   "source": [
    "# Build pointing data\n",
    "\n",
    "This notebook reads data produced by `reducing_pointing_data` notebook and analyses it to produce corrected pointing data files."
   ]
  },
  {
   "cell_type": "markdown",
   "id": "5bcd6624",
   "metadata": {},
   "source": [
    "## Parameterized notebook\n",
    "\n",
    "This notebook is parameterized, which means it could be run with tools like Papermill as part of a data analysis pipeline."
   ]
  },
  {
   "cell_type": "code",
   "execution_count": null,
   "id": "c9b76066",
   "metadata": {},
   "outputs": [],
   "source": [
    "import os \n",
    "import pickle\n",
    "\n",
    "import numpy as np\n",
    "import matplotlib.pyplot as plt\n",
    "\n",
    "from astropy import units as u\n",
    "from datetime import datetime\n",
    "\n",
    "from lsst.geom import PointD\n",
    "\n",
    "from lsst.ts.observing.utilities.auxtel.latiss.utils import calculate_xy_offsets\n",
    "\n",
    "from lsst.ts.observatory.control.constants.latiss_constants import boresight"
   ]
  },
  {
   "cell_type": "markdown",
   "id": "3e0ee0b9",
   "metadata": {},
   "source": [
    "## Notebook Parameters\n",
    "\n",
    "The next cell define the notebook parameters"
   ]
  },
  {
   "cell_type": "markdown",
   "id": "fbf85097",
   "metadata": {},
   "source": [
    "### Pickle file with the data to process\n",
    "\n",
    "The notebooks needs the name of the pickle file containing the data to process.\n",
    "\n",
    "In additional users can provide values for the roundness rejection algorithm.\n",
    "There are two levels of roundness rejection that can be applies, by value and by standard deviation.\n",
    "\n",
    "Rejection by value will cause the algorithm to reject any data with roundess larger than the specified value.\n",
    "Roundess is define as the ratio between largest to lowest moment, so it is always larger than 1.\n",
    "If the user provides a value lower than 1 the notebook will raise a `RuntimeError` exception.\n",
    "\n",
    "Rejection by standard deviation allow users to provide a multiplicative factor to the standard deviation to use as rejection level.\n",
    "\n",
    "If both are provided, they are both applied to the dataset. \n",
    "Basically whatever is the more restrictive one will win.\n",
    "\n",
    "For instance, assume a user provide `roundness_rejection_value = 1.25` and `roundness_rejection_std = 3.`, and the data contains a mean of `1.01` and standard deviation of `0.05`.\n",
    "By standard deviation rejection all data larger than `1.01 + 3. * 0.05 = 1.16` will be rejected and the value rejection will not do any difference.\n",
    "But if the data had a standard deviation of `0.09`, the standard deviation rejection level would be `1.01 + 3. * 0.09 = 1.28` and the rejection value would be the effective one.\n",
    "\n",
    "By default both roundness rejections are `None` which means, do not apply any rejection.\n",
    "\n",
    "In all cases, the data is still going to be written to the processed pointing file, but the rejected data will be marked with \";\" so it gets rejected by `tpoint`."
   ]
  },
  {
   "cell_type": "code",
   "execution_count": null,
   "id": "019e56b6",
   "metadata": {
    "tags": [
     "parameters"
    ]
   },
   "outputs": [],
   "source": [
    "pointing_data_file = \"data/20210609/AT_point_data_20210609_tw003.pickle\"\n",
    "roundness_rejection_value = None\n",
    "roundness_rejection_std = None"
   ]
  },
  {
   "cell_type": "code",
   "execution_count": null,
   "id": "85ba7484",
   "metadata": {},
   "outputs": [],
   "source": [
    "if roundness_rejection_value is not None and roundness_rejection_value < 1.:\n",
    "    raise RuntimeError(f\"Roundness rejection value must be larger than 1. Got {roundness_rejection_value}.\")"
   ]
  },
  {
   "cell_type": "markdown",
   "id": "87e341a5",
   "metadata": {},
   "source": [
    "## Processing the data"
   ]
  },
  {
   "cell_type": "code",
   "execution_count": null,
   "id": "af4f619b",
   "metadata": {},
   "outputs": [],
   "source": [
    "with open(pointing_data_file, \"rb\") as fp:\n",
    "    brightest_source_centroid = pickle.load(fp)"
   ]
  },
  {
   "cell_type": "code",
   "execution_count": null,
   "id": "135a6095",
   "metadata": {},
   "outputs": [],
   "source": [
    "def rotation_matrix(angle):\n",
    "    \"\"\"Rotation matrix.\n",
    "    \"\"\"\n",
    "    return np.array(\n",
    "        [\n",
    "            [np.cos(np.radians(angle)), -np.sin(np.radians(angle)), 0.0],\n",
    "            [np.sin(np.radians(angle)), np.cos(np.radians(angle)), 0.0],\n",
    "            [0.0, 0.0, 1.0],\n",
    "        ]\n",
    "    )"
   ]
  },
  {
   "cell_type": "code",
   "execution_count": null,
   "id": "383e65f3",
   "metadata": {},
   "outputs": [],
   "source": [
    "azel_correction = np.zeros((2, len(brightest_source_centroid)))\n",
    "\n",
    "for i, source_xy in enumerate(brightest_source_centroid):\n",
    "    dx_arcsec, dy_arcsec = calculate_xy_offsets(\n",
    "        PointD(\n",
    "            source_xy.brightestObjCentroid[0],\n",
    "            source_xy.brightestObjCentroid[1]\n",
    "        ), \n",
    "        boresight)\n",
    "\n",
    "    # We are using rotator 2 so we must apply a negative sign on the x-axis offset.\n",
    "    # The equation bellow return offset in elevation/azimuth.\n",
    "    elaz_offset = np.matmul((-dx_arcsec, dy_arcsec, 0.), rotation_matrix(source_xy.angle))*u.arcsec\n",
    "    \n",
    "    # Note that the offsets bellow are the negative values of those applied\n",
    "    # to the telescope to correct an image motion due to hexapod motion.\n",
    "    # The reason is that a hexapod motion will be registered in the image \n",
    "    # as the negative of that applied to correct it. So basically I need to\n",
    "    # \"subtract\" the image motion to the measured position.\n",
    "    elaz_offset[0] += source_xy.aos_offset[\"x\"]*60.*u.arcsec  # elevation\n",
    "    elaz_offset[1] -= source_xy.aos_offset[\"y\"]*60.*u.arcsec  # azimuth\n",
    "    \n",
    "    # We want to store the offset in azel format, so we reverse the result given above.\n",
    "    # The following was verified with the pointing component. When we add an offset of \n",
    "    # X arcsec in azimuth it results in a negative offset in the axis. When we make a\n",
    "    # positive offset in elevation is results in a positive offset in the axis. The \n",
    "    # pointing takes care of the cos(elevation) dependency when we apply the offset, but\n",
    "    # we need to take care of it here since we want to apply a correction to the axis directly.    \n",
    "    azel_correction[0][i] = elaz_offset[1].to(u.deg).value * -1. / np.cos(np.radians(source_xy.elevation))\n",
    "    azel_correction[1][i] = elaz_offset[0].to(u.deg).value"
   ]
  },
  {
   "cell_type": "code",
   "execution_count": null,
   "id": "73384415",
   "metadata": {},
   "outputs": [],
   "source": [
    "plt.scatter(azel_correction[0]*60.*60., azel_correction[1]*60.*60.)"
   ]
  },
  {
   "cell_type": "markdown",
   "id": "7e62def8",
   "metadata": {},
   "source": [
    "## Apply correction to pointing data\n",
    "\n",
    "Now that the corrections offsets are computed in az/el, we need to apply the offset to the appropriate columns and construct the pointing data. "
   ]
  },
  {
   "cell_type": "code",
   "execution_count": null,
   "id": "65ef04bf",
   "metadata": {},
   "outputs": [],
   "source": [
    "pointing_data = np.array(\n",
    "    [\n",
    "        tuple(\n",
    "            [\"\"] + \n",
    "            [\n",
    "                data.point_data[key] for key in (\"expectedAzimuth\", \"expectedElevation\", \"measuredAzimuth\", \"measuredElevation\", \"measuredRotator\")\n",
    "            ] +\n",
    "            [0] +\n",
    "            [data.image_name] +\n",
    "            [\"\"]\n",
    "        )\n",
    "        for data in brightest_source_centroid\n",
    "    ],\n",
    "    dtype = [(\"mask\", np.unicode_, 9)] + [(key, float) for key in (\"expectedAzimuth\", \"expectedElevation\", \"measuredAzimuth\", \"measuredElevation\", \"measuredRotator\")] + [(\"index\", int), (\"image_name\", np.unicode_, 20), (\"unmask\", np.unicode_, 2)]\n",
    ")"
   ]
  },
  {
   "cell_type": "code",
   "execution_count": null,
   "id": "ba5815e9",
   "metadata": {},
   "outputs": [],
   "source": [
    "corrected_pointing_data = pointing_data.copy()\n",
    "mask_is_finite = np.bitwise_and(np.isfinite(azel_correction[0]), np.isfinite(azel_correction[1]))\n",
    "corrected_pointing_data[\"measuredAzimuth\"][mask_is_finite] += azel_correction[0][mask_is_finite]\n",
    "corrected_pointing_data[\"measuredElevation\"][mask_is_finite] += azel_correction[1][mask_is_finite]"
   ]
  },
  {
   "cell_type": "code",
   "execution_count": null,
   "id": "6cc9746d",
   "metadata": {},
   "outputs": [],
   "source": [
    "out_pointing_file, ext = os.path.splitext(pointing_data_file)\n",
    "print(out_pointing_file, ext)"
   ]
  },
  {
   "cell_type": "code",
   "execution_count": null,
   "id": "033f88ff",
   "metadata": {},
   "outputs": [],
   "source": [
    "now = datetime.now()"
   ]
  },
  {
   "cell_type": "markdown",
   "id": "024462a6",
   "metadata": {},
   "source": [
    "## Running rejection algorithm"
   ]
  },
  {
   "cell_type": "code",
   "execution_count": null,
   "id": "058727b3",
   "metadata": {},
   "outputs": [],
   "source": [
    "xXyY = np.array([source_xy.brightestObj_xXyY for source_xy in brightest_source_centroid]).T"
   ]
  },
  {
   "cell_type": "code",
   "execution_count": null,
   "id": "2b51676e",
   "metadata": {},
   "outputs": [],
   "source": [
    "roundness = xXyY[0]/xXyY[1]"
   ]
  },
  {
   "cell_type": "code",
   "execution_count": null,
   "id": "4e290665",
   "metadata": {},
   "outputs": [],
   "source": [
    "roundess_mask = roundness < 1."
   ]
  },
  {
   "cell_type": "code",
   "execution_count": null,
   "id": "aa008e84",
   "metadata": {},
   "outputs": [],
   "source": [
    "roundness[roundess_mask] = 1./roundness[roundess_mask]"
   ]
  },
  {
   "cell_type": "code",
   "execution_count": null,
   "id": "bbf0e37b",
   "metadata": {},
   "outputs": [],
   "source": [
    "roundness_mean = np.mean(roundness[np.isfinite(roundness)])\n",
    "roundness_std = np.std(roundness[np.isfinite(roundness)])"
   ]
  },
  {
   "cell_type": "code",
   "execution_count": null,
   "id": "7c2fc918",
   "metadata": {},
   "outputs": [],
   "source": [
    "roudness_std_threshold = (roundness_mean + roundness_std*roundness_rejection_std) if roundness_rejection_std is not None else 0."
   ]
  },
  {
   "cell_type": "code",
   "execution_count": null,
   "id": "15572722",
   "metadata": {},
   "outputs": [],
   "source": [
    "roundess_value_threshold = roundness_rejection_value if roundness_rejection_value is not None else 0."
   ]
  },
  {
   "cell_type": "code",
   "execution_count": null,
   "id": "d0980b0c",
   "metadata": {},
   "outputs": [],
   "source": [
    "roudness_threshold = roundess_value_threshold if roundess_value_threshold >= roudness_std_threshold else roudness_std_threshold"
   ]
  },
  {
   "cell_type": "code",
   "execution_count": null,
   "id": "36ae220e",
   "metadata": {},
   "outputs": [],
   "source": [
    "good_data = np.isfinite(roundness)\n",
    "\n",
    "if roudness_threshold > 0.:\n",
    "    print(f\"Applying roundness threshold cut: {roudness_threshold}\")\n",
    "    good_data = np.bitwise_and(good_data, roundness < roudness_threshold)"
   ]
  },
  {
   "cell_type": "code",
   "execution_count": null,
   "id": "2e0adb16",
   "metadata": {},
   "outputs": [],
   "source": [
    "plt.hist(roundness)\n",
    "\n",
    "ylim = plt.ylim()\n",
    "\n",
    "mean_roundness_plot = plt.plot([roundness_mean, roundness_mean], ylim, \":\")\n",
    "\n",
    "high_std_roundness_plot = plt.plot([roundness_mean+roundness_std, roundness_mean+roundness_std], ylim, \":\", color=mean_roundness_plot[0].get_color())\n",
    "high2_std_roundness_plot = plt.plot([roundness_mean+2*roundness_std, roundness_mean+2*roundness_std], ylim, \":\", color=mean_roundness_plot[0].get_color())\n",
    "high3_std_roundness_plot = plt.plot([roundness_mean+3*roundness_std, roundness_mean+3*roundness_std], ylim, \":\", color=mean_roundness_plot[0].get_color())\n",
    "\n",
    "if roudness_threshold > 0.:\n",
    "    threshold_roundness_plot = plt.plot([roudness_threshold, roudness_threshold], ylim, \"--\")\n",
    "plt.ylim(ylim)"
   ]
  },
  {
   "cell_type": "code",
   "execution_count": null,
   "id": "268b0f38",
   "metadata": {},
   "outputs": [],
   "source": [
    "n_good_data = len(np.where(good_data)[0])\n",
    "print(f\"Masked data: {len(good_data) - n_good_data}\")"
   ]
  },
  {
   "cell_type": "code",
   "execution_count": null,
   "id": "78475727",
   "metadata": {},
   "outputs": [],
   "source": [
    "corrected_pointing_data[\"mask\"][np.bitwise_not(good_data)] = \"D/MASKED\\n\"\n",
    "corrected_pointing_data[\"unmask\"][np.bitwise_not(good_data)] = \"\\nD\""
   ]
  },
  {
   "cell_type": "code",
   "execution_count": null,
   "id": "6dc5ba02",
   "metadata": {},
   "outputs": [],
   "source": [
    "corrected_pointing_data[\"index\"] = np.arange(1, len(corrected_pointing_data)+1, dtype=int)"
   ]
  },
  {
   "cell_type": "markdown",
   "id": "b8b17e70",
   "metadata": {},
   "source": [
    "## Saving data"
   ]
  },
  {
   "cell_type": "code",
   "execution_count": null,
   "id": "98778082",
   "metadata": {},
   "outputs": [],
   "source": [
    "header = f\"\"\"LSST Auxiliary Telescope, {now.year} {now.month} {now.day} UTC {now.hour} {now.minute} {now.second}\n",
    ": ALTAZ\n",
    ": ROTNL\n",
    "-30 14 40.3\n",
    "\"\"\"\n",
    "tail = \"END\\n\""
   ]
  },
  {
   "cell_type": "code",
   "execution_count": null,
   "id": "1fd47509",
   "metadata": {},
   "outputs": [],
   "source": [
    "raw_filename = f\"{out_pointing_file}.dat\"\n",
    "corrected_filename = f\"{out_pointing_file}_corr.dat\""
   ]
  },
  {
   "cell_type": "code",
   "execution_count": null,
   "id": "53101323",
   "metadata": {},
   "outputs": [],
   "source": [
    "with open(raw_filename, \"w\") as fp:\n",
    "    print(f\"Writting raw data to {raw_filename}.\")\n",
    "    fp.write(header)\n",
    "    np.savetxt(fp, pointing_data, fmt=\"%s%011.7f %010.7f %011.7f %010.7f %011.7f ; [%04i] %s%s\")\n",
    "    fp.write(tail)\n",
    "\n",
    "with open(corrected_filename, \"w\") as fp:\n",
    "    print(f\"Writting corrected data to {corrected_filename}.\")\n",
    "    fp.write(header)\n",
    "    np.savetxt(fp, corrected_pointing_data, fmt=\"%s%011.7f %010.7f %011.7f %010.7f %011.7f ; [%04i] %s%s\")\n",
    "    fp.write(tail)"
   ]
  },
  {
   "cell_type": "code",
   "execution_count": null,
   "id": "746da464",
   "metadata": {},
   "outputs": [],
   "source": []
  }
 ],
 "metadata": {
  "kernelspec": {
   "display_name": "LSST",
   "language": "python",
   "name": "lsst"
  },
  "language_info": {
   "codemirror_mode": {
    "name": "ipython",
    "version": 3
   },
   "file_extension": ".py",
   "mimetype": "text/x-python",
   "name": "python",
   "nbconvert_exporter": "python",
   "pygments_lexer": "ipython3",
   "version": "3.8.8"
  }
 },
 "nbformat": 4,
 "nbformat_minor": 5
}
